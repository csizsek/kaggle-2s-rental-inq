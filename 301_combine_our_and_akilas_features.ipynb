{
 "cells": [
  {
   "cell_type": "code",
   "execution_count": 1,
   "metadata": {
    "collapsed": false
   },
   "outputs": [
    {
     "name": "stderr",
     "output_type": "stream",
     "text": [
      "/usr/local/lib/python2.7/site-packages/matplotlib/font_manager.py:273: UserWarning: Matplotlib is building the font cache using fc-list. This may take a moment.\n",
      "  warnings.warn('Matplotlib is building the font cache using fc-list. This may take a moment.')\n"
     ]
    }
   ],
   "source": [
    "import base64\n",
    "import datetime\n",
    "import itertools\n",
    "import json\n",
    "import math\n",
    "import operator\n",
    "import os\n",
    "import pickle\n",
    "import random\n",
    "import re\n",
    "import time\n",
    "\n",
    "import scipy\n",
    "from scipy import ndimage\n",
    "import numpy as np\n",
    "import pandas as pd\n",
    "import sklearn\n",
    "import matplotlib as mpl\n",
    "import matplotlib.pyplot as plt\n",
    "from pylab import rcParams\n",
    "import seaborn as sns\n",
    "import statsmodels as sm\n",
    "from pylab import rcParams\n",
    "from pylab import *\n",
    "from matplotlib.dates import date2num , DateFormatter\n",
    "from PIL import Image\n",
    "\n",
    "np.random.seed(1337)\n",
    "\n",
    "%matplotlib inline\n",
    "sns.set(font_scale=1.0)\n",
    "rcParams['figure.figsize'] = 8, 6\n",
    "sns.set_style('whitegrid')\n",
    "sns.set_palette(sns.color_palette('muted'))"
   ]
  },
  {
   "cell_type": "code",
   "execution_count": 2,
   "metadata": {
    "collapsed": false
   },
   "outputs": [
    {
     "name": "stderr",
     "output_type": "stream",
     "text": [
      "/usr/local/lib/python2.7/site-packages/sklearn/cross_validation.py:44: DeprecationWarning: This module was deprecated in version 0.18 in favor of the model_selection module into which all the refactored classes and functions are moved. Also note that the interface of the new CV iterators are different from that of this module. This module will be removed in 0.20.\n",
      "  \"This module will be removed in 0.20.\", DeprecationWarning)\n",
      "/usr/local/lib/python2.7/site-packages/sklearn/grid_search.py:43: DeprecationWarning: This module was deprecated in version 0.18 in favor of the model_selection module into which all the refactored classes and functions are moved. This module will be removed in 0.20.\n",
      "  DeprecationWarning)\n"
     ]
    }
   ],
   "source": [
    "import xgboost as xgb\n",
    "from xgboost import XGBClassifier\n",
    "from sklearn.metrics import accuracy_score\n",
    "from sklearn.preprocessing import normalize\n",
    "from sklearn.grid_search import GridSearchCV\n",
    "from sklearn.metrics import confusion_matrix\n",
    "from sklearn.feature_extraction.text import TfidfVectorizer, CountVectorizer"
   ]
  },
  {
   "cell_type": "markdown",
   "metadata": {},
   "source": [
    "# Load the Data"
   ]
  },
  {
   "cell_type": "code",
   "execution_count": 3,
   "metadata": {
    "collapsed": false
   },
   "outputs": [],
   "source": [
    "d = pd.concat([pd.read_csv('tmp/train_ids.csv', index_col='id'),\n",
    "               pd.read_csv('tmp/test_ids.csv', index_col='id')])"
   ]
  },
  {
   "cell_type": "code",
   "execution_count": 4,
   "metadata": {
    "collapsed": false
   },
   "outputs": [],
   "source": [
    "e = pd.read_csv('tmp/features_bathrooms.csv', index_col='id')\n",
    "d = pd.merge(d, e, how='left', left_index=True, right_index=True)"
   ]
  },
  {
   "cell_type": "code",
   "execution_count": 5,
   "metadata": {
    "collapsed": false
   },
   "outputs": [],
   "source": [
    "e = pd.read_csv('tmp/features_bedrooms.csv', index_col='id')\n",
    "d = pd.merge(d, e, how='left', left_index=True, right_index=True)"
   ]
  },
  {
   "cell_type": "code",
   "execution_count": 6,
   "metadata": {
    "collapsed": false
   },
   "outputs": [],
   "source": [
    "e = pd.read_csv('tmp/features_building_id.csv', index_col='id')\n",
    "d = pd.merge(d, e, how='left', left_index=True, right_index=True)"
   ]
  },
  {
   "cell_type": "code",
   "execution_count": 7,
   "metadata": {
    "collapsed": false
   },
   "outputs": [],
   "source": [
    "e = pd.read_csv('tmp/features_created.csv', index_col='id')\n",
    "d = pd.merge(d, e, how='left', left_index=True, right_index=True)"
   ]
  },
  {
   "cell_type": "code",
   "execution_count": 8,
   "metadata": {
    "collapsed": false
   },
   "outputs": [],
   "source": [
    "e = pd.read_csv('tmp/features_description.csv', index_col='id')\n",
    "d = pd.merge(d, e, how='left', left_index=True, right_index=True)"
   ]
  },
  {
   "cell_type": "code",
   "execution_count": 9,
   "metadata": {
    "collapsed": false
   },
   "outputs": [],
   "source": [
    "e = pd.read_csv('tmp/features_display_address.csv', index_col='id')\n",
    "d = pd.merge(d, e, how='left', left_index=True, right_index=True)"
   ]
  },
  {
   "cell_type": "code",
   "execution_count": 10,
   "metadata": {
    "collapsed": false
   },
   "outputs": [],
   "source": [
    "e = pd.read_csv('tmp/features_features.csv', index_col='id')\n",
    "d = pd.merge(d, e, how='left', left_index=True, right_index=True)"
   ]
  },
  {
   "cell_type": "code",
   "execution_count": 11,
   "metadata": {
    "collapsed": false
   },
   "outputs": [],
   "source": [
    "e = pd.read_csv('tmp/features_latlon.csv', index_col='id')\n",
    "d = pd.merge(d, e, how='left', left_index=True, right_index=True)"
   ]
  },
  {
   "cell_type": "code",
   "execution_count": 12,
   "metadata": {
    "collapsed": false
   },
   "outputs": [],
   "source": [
    "e = pd.read_csv('tmp/features_manager_id.csv', index_col='id')\n",
    "d = pd.merge(d, e, how='left', left_index=True, right_index=True)"
   ]
  },
  {
   "cell_type": "code",
   "execution_count": 13,
   "metadata": {
    "collapsed": false
   },
   "outputs": [],
   "source": [
    "e = pd.read_csv('tmp/features_photos.csv', index_col='id')\n",
    "d = pd.merge(d, e, how='left', left_index=True, right_index=True)"
   ]
  },
  {
   "cell_type": "code",
   "execution_count": 14,
   "metadata": {
    "collapsed": false
   },
   "outputs": [],
   "source": [
    "e = pd.read_csv('tmp/features_price.csv', index_col='id')\n",
    "d = pd.merge(d, e, how='left', left_index=True, right_index=True)"
   ]
  },
  {
   "cell_type": "code",
   "execution_count": 15,
   "metadata": {
    "collapsed": false
   },
   "outputs": [],
   "source": [
    "e = pd.read_csv('tmp/features_street_address.csv', index_col='id')\n",
    "d = pd.merge(d, e, how='left', left_index=True, right_index=True)"
   ]
  },
  {
   "cell_type": "code",
   "execution_count": 16,
   "metadata": {
    "collapsed": false
   },
   "outputs": [
    {
     "data": {
      "text/plain": [
       "low       34284\n",
       "medium    11229\n",
       "high       3839\n",
       "Name: interest_level, dtype: int64"
      ]
     },
     "execution_count": 16,
     "metadata": {},
     "output_type": "execute_result"
    }
   ],
   "source": [
    "d.interest_level.value_counts()"
   ]
  },
  {
   "cell_type": "code",
   "execution_count": 17,
   "metadata": {
    "collapsed": false
   },
   "outputs": [
    {
     "name": "stdout",
     "output_type": "stream",
     "text": [
      "49352\n"
     ]
    }
   ],
   "source": [
    "tr = d[d.interest_level.notnull()].copy()\n",
    "print len(tr)"
   ]
  },
  {
   "cell_type": "code",
   "execution_count": 18,
   "metadata": {
    "collapsed": true
   },
   "outputs": [],
   "source": [
    "trl = tr.interest_level.copy()\n",
    "trf = tr\n",
    "del trf['interest_level']"
   ]
  },
  {
   "cell_type": "code",
   "execution_count": 19,
   "metadata": {
    "collapsed": true
   },
   "outputs": [],
   "source": [
    "for c in trf.columns:\n",
    "    if trf.dtypes[c] not in ('int64', 'float64'):\n",
    "        del trf[c]"
   ]
  },
  {
   "cell_type": "code",
   "execution_count": 20,
   "metadata": {
    "collapsed": false
   },
   "outputs": [
    {
     "name": "stdout",
     "output_type": "stream",
     "text": [
      "74659\n"
     ]
    }
   ],
   "source": [
    "te = d[d.interest_level.isnull()].copy()\n",
    "print len(te)"
   ]
  },
  {
   "cell_type": "code",
   "execution_count": 21,
   "metadata": {
    "collapsed": true
   },
   "outputs": [],
   "source": [
    "tef = te\n",
    "del tef['interest_level']"
   ]
  },
  {
   "cell_type": "code",
   "execution_count": 22,
   "metadata": {
    "collapsed": false
   },
   "outputs": [],
   "source": [
    "for c in tef.columns:\n",
    "    if tef.dtypes[c] not in ('int64', 'float64'):\n",
    "        del tef[c]"
   ]
  },
  {
   "cell_type": "code",
   "execution_count": 23,
   "metadata": {
    "collapsed": false
   },
   "outputs": [
    {
     "data": {
      "text/html": [
       "<div>\n",
       "<table border=\"1\" class=\"dataframe\">\n",
       "  <thead>\n",
       "    <tr style=\"text-align: right;\">\n",
       "      <th>id</th>\n",
       "      <th>0</th>\n",
       "      <th>1</th>\n",
       "      <th>100</th>\n",
       "      <th>1000</th>\n",
       "      <th>100000</th>\n",
       "    </tr>\n",
       "  </thead>\n",
       "  <tbody>\n",
       "    <tr>\n",
       "      <th>bathrooms</th>\n",
       "      <td>1.000000</td>\n",
       "      <td>1.000000</td>\n",
       "      <td>1.000000</td>\n",
       "      <td>1.000000</td>\n",
       "      <td>2.000000</td>\n",
       "    </tr>\n",
       "    <tr>\n",
       "      <th>num_bathrooms_bucket</th>\n",
       "      <td>1.000000</td>\n",
       "      <td>1.000000</td>\n",
       "      <td>1.000000</td>\n",
       "      <td>1.000000</td>\n",
       "      <td>2.000000</td>\n",
       "    </tr>\n",
       "    <tr>\n",
       "      <th>bedrooms</th>\n",
       "      <td>1.000000</td>\n",
       "      <td>2.000000</td>\n",
       "      <td>1.000000</td>\n",
       "      <td>2.000000</td>\n",
       "      <td>2.000000</td>\n",
       "    </tr>\n",
       "    <tr>\n",
       "      <th>num_bedrooms_bucket</th>\n",
       "      <td>1.000000</td>\n",
       "      <td>2.000000</td>\n",
       "      <td>1.000000</td>\n",
       "      <td>2.000000</td>\n",
       "      <td>2.000000</td>\n",
       "    </tr>\n",
       "    <tr>\n",
       "      <th>num_apts_in_building</th>\n",
       "      <td>8.000000</td>\n",
       "      <td>NaN</td>\n",
       "      <td>9.000000</td>\n",
       "      <td>2.000000</td>\n",
       "      <td>267.000000</td>\n",
       "    </tr>\n",
       "    <tr>\n",
       "      <th>num_apts_in_building_q10</th>\n",
       "      <td>0.100000</td>\n",
       "      <td>NaN</td>\n",
       "      <td>0.100000</td>\n",
       "      <td>0.000000</td>\n",
       "      <td>0.800000</td>\n",
       "    </tr>\n",
       "    <tr>\n",
       "      <th>created_month</th>\n",
       "      <td>6.000000</td>\n",
       "      <td>6.000000</td>\n",
       "      <td>6.000000</td>\n",
       "      <td>6.000000</td>\n",
       "      <td>4.000000</td>\n",
       "    </tr>\n",
       "    <tr>\n",
       "      <th>created_day_of_month</th>\n",
       "      <td>11.000000</td>\n",
       "      <td>24.000000</td>\n",
       "      <td>3.000000</td>\n",
       "      <td>11.000000</td>\n",
       "      <td>12.000000</td>\n",
       "    </tr>\n",
       "    <tr>\n",
       "      <th>created_dow</th>\n",
       "      <td>5.000000</td>\n",
       "      <td>4.000000</td>\n",
       "      <td>4.000000</td>\n",
       "      <td>5.000000</td>\n",
       "      <td>1.000000</td>\n",
       "    </tr>\n",
       "    <tr>\n",
       "      <th>created_hour</th>\n",
       "      <td>5.000000</td>\n",
       "      <td>6.000000</td>\n",
       "      <td>4.000000</td>\n",
       "      <td>6.000000</td>\n",
       "      <td>5.000000</td>\n",
       "    </tr>\n",
       "    <tr>\n",
       "      <th>created_minute</th>\n",
       "      <td>29.000000</td>\n",
       "      <td>36.000000</td>\n",
       "      <td>29.000000</td>\n",
       "      <td>17.000000</td>\n",
       "      <td>24.000000</td>\n",
       "    </tr>\n",
       "    <tr>\n",
       "      <th>created_minute_of_the_day</th>\n",
       "      <td>329.000000</td>\n",
       "      <td>396.000000</td>\n",
       "      <td>269.000000</td>\n",
       "      <td>377.000000</td>\n",
       "      <td>324.000000</td>\n",
       "    </tr>\n",
       "    <tr>\n",
       "      <th>created_hour_of_dataset</th>\n",
       "      <td>1709.000000</td>\n",
       "      <td>2022.000000</td>\n",
       "      <td>1516.000000</td>\n",
       "      <td>1710.000000</td>\n",
       "      <td>269.000000</td>\n",
       "    </tr>\n",
       "    <tr>\n",
       "      <th>created_distance_from_peak</th>\n",
       "      <td>1.000000</td>\n",
       "      <td>54.000000</td>\n",
       "      <td>61.000000</td>\n",
       "      <td>-47.000000</td>\n",
       "      <td>6.000000</td>\n",
       "    </tr>\n",
       "    <tr>\n",
       "      <th>created_distance_from_peak_abs</th>\n",
       "      <td>1.000000</td>\n",
       "      <td>54.000000</td>\n",
       "      <td>61.000000</td>\n",
       "      <td>47.000000</td>\n",
       "      <td>6.000000</td>\n",
       "    </tr>\n",
       "    <tr>\n",
       "      <th>num_apts_same_hour</th>\n",
       "      <td>358.000000</td>\n",
       "      <td>238.000000</td>\n",
       "      <td>130.000000</td>\n",
       "      <td>270.000000</td>\n",
       "      <td>395.000000</td>\n",
       "    </tr>\n",
       "    <tr>\n",
       "      <th>num_apts_prev_hour</th>\n",
       "      <td>381.000000</td>\n",
       "      <td>260.000000</td>\n",
       "      <td>225.000000</td>\n",
       "      <td>334.000000</td>\n",
       "      <td>160.000000</td>\n",
       "    </tr>\n",
       "    <tr>\n",
       "      <th>num_apts_next_hour</th>\n",
       "      <td>321.000000</td>\n",
       "      <td>276.000000</td>\n",
       "      <td>235.000000</td>\n",
       "      <td>100.000000</td>\n",
       "      <td>553.000000</td>\n",
       "    </tr>\n",
       "    <tr>\n",
       "      <th>num_apts_same_3hours</th>\n",
       "      <td>866.000000</td>\n",
       "      <td>793.000000</td>\n",
       "      <td>981.000000</td>\n",
       "      <td>644.000000</td>\n",
       "      <td>856.000000</td>\n",
       "    </tr>\n",
       "    <tr>\n",
       "      <th>num_apts_prev_3hours</th>\n",
       "      <td>883.000000</td>\n",
       "      <td>732.000000</td>\n",
       "      <td>909.000000</td>\n",
       "      <td>940.000000</td>\n",
       "      <td>865.000000</td>\n",
       "    </tr>\n",
       "    <tr>\n",
       "      <th>num_apts_next_3hours</th>\n",
       "      <td>370.000000</td>\n",
       "      <td>591.000000</td>\n",
       "      <td>618.000000</td>\n",
       "      <td>101.000000</td>\n",
       "      <td>563.000000</td>\n",
       "    </tr>\n",
       "    <tr>\n",
       "      <th>num_apts_same_9hours</th>\n",
       "      <td>1627.000000</td>\n",
       "      <td>1684.000000</td>\n",
       "      <td>1617.000000</td>\n",
       "      <td>1414.000000</td>\n",
       "      <td>1641.000000</td>\n",
       "    </tr>\n",
       "    <tr>\n",
       "      <th>num_apts_prev_9hours</th>\n",
       "      <td>1287.000000</td>\n",
       "      <td>1103.000000</td>\n",
       "      <td>1018.000000</td>\n",
       "      <td>1548.000000</td>\n",
       "      <td>1091.000000</td>\n",
       "    </tr>\n",
       "    <tr>\n",
       "      <th>num_apts_next_9hours</th>\n",
       "      <td>407.000000</td>\n",
       "      <td>712.000000</td>\n",
       "      <td>667.000000</td>\n",
       "      <td>158.000000</td>\n",
       "      <td>647.000000</td>\n",
       "    </tr>\n",
       "    <tr>\n",
       "      <th>num_apts_same_day</th>\n",
       "      <td>1748.000000</td>\n",
       "      <td>1865.000000</td>\n",
       "      <td>1736.000000</td>\n",
       "      <td>1753.000000</td>\n",
       "      <td>1799.000000</td>\n",
       "    </tr>\n",
       "    <tr>\n",
       "      <th>num_apts_prev_day</th>\n",
       "      <td>1560.000000</td>\n",
       "      <td>1227.000000</td>\n",
       "      <td>1928.000000</td>\n",
       "      <td>1660.000000</td>\n",
       "      <td>1248.000000</td>\n",
       "    </tr>\n",
       "    <tr>\n",
       "      <th>num_apts_next_day</th>\n",
       "      <td>1266.000000</td>\n",
       "      <td>2080.000000</td>\n",
       "      <td>1671.000000</td>\n",
       "      <td>1049.000000</td>\n",
       "      <td>1832.000000</td>\n",
       "    </tr>\n",
       "    <tr>\n",
       "      <th>num_apts_same_2days</th>\n",
       "      <td>2826.000000</td>\n",
       "      <td>3307.000000</td>\n",
       "      <td>3599.000000</td>\n",
       "      <td>2709.000000</td>\n",
       "      <td>3080.000000</td>\n",
       "    </tr>\n",
       "    <tr>\n",
       "      <th>num_apts_prev_2days</th>\n",
       "      <td>3320.000000</td>\n",
       "      <td>2396.000000</td>\n",
       "      <td>4278.000000</td>\n",
       "      <td>3346.000000</td>\n",
       "      <td>2011.000000</td>\n",
       "    </tr>\n",
       "    <tr>\n",
       "      <th>num_apts_next_2days</th>\n",
       "      <td>3582.000000</td>\n",
       "      <td>2781.000000</td>\n",
       "      <td>3196.000000</td>\n",
       "      <td>3312.000000</td>\n",
       "      <td>3614.000000</td>\n",
       "    </tr>\n",
       "    <tr>\n",
       "      <th>...</th>\n",
       "      <td>...</td>\n",
       "      <td>...</td>\n",
       "      <td>...</td>\n",
       "      <td>...</td>\n",
       "      <td>...</td>\n",
       "    </tr>\n",
       "    <tr>\n",
       "      <th>price_q10_clust_all</th>\n",
       "      <td>0.200000</td>\n",
       "      <td>0.200000</td>\n",
       "      <td>0.500000</td>\n",
       "      <td>0.600000</td>\n",
       "      <td>0.800000</td>\n",
       "    </tr>\n",
       "    <tr>\n",
       "      <th>price_q100_clust_all</th>\n",
       "      <td>0.280000</td>\n",
       "      <td>0.240000</td>\n",
       "      <td>0.550000</td>\n",
       "      <td>0.630000</td>\n",
       "      <td>0.850000</td>\n",
       "    </tr>\n",
       "    <tr>\n",
       "      <th>price_q10_clust</th>\n",
       "      <td>0.300000</td>\n",
       "      <td>0.000000</td>\n",
       "      <td>0.700000</td>\n",
       "      <td>0.500000</td>\n",
       "      <td>0.700000</td>\n",
       "    </tr>\n",
       "    <tr>\n",
       "      <th>price_q100_clust</th>\n",
       "      <td>0.360000</td>\n",
       "      <td>0.020000</td>\n",
       "      <td>0.780000</td>\n",
       "      <td>0.570000</td>\n",
       "      <td>0.750000</td>\n",
       "    </tr>\n",
       "    <tr>\n",
       "      <th>area_density</th>\n",
       "      <td>2039.000000</td>\n",
       "      <td>2101.000000</td>\n",
       "      <td>3952.000000</td>\n",
       "      <td>462.000000</td>\n",
       "      <td>2797.000000</td>\n",
       "    </tr>\n",
       "    <tr>\n",
       "      <th>area_density_all</th>\n",
       "      <td>6907.000000</td>\n",
       "      <td>8064.000000</td>\n",
       "      <td>13793.000000</td>\n",
       "      <td>1182.000000</td>\n",
       "      <td>9988.000000</td>\n",
       "    </tr>\n",
       "    <tr>\n",
       "      <th>area_density_time</th>\n",
       "      <td>143.000000</td>\n",
       "      <td>196.000000</td>\n",
       "      <td>246.000000</td>\n",
       "      <td>51.000000</td>\n",
       "      <td>219.000000</td>\n",
       "    </tr>\n",
       "    <tr>\n",
       "      <th>area_density_time_all</th>\n",
       "      <td>468.000000</td>\n",
       "      <td>586.000000</td>\n",
       "      <td>928.000000</td>\n",
       "      <td>115.000000</td>\n",
       "      <td>752.000000</td>\n",
       "    </tr>\n",
       "    <tr>\n",
       "      <th>price_area_q</th>\n",
       "      <td>0.512997</td>\n",
       "      <td>0.033317</td>\n",
       "      <td>0.708502</td>\n",
       "      <td>0.415584</td>\n",
       "      <td>0.723632</td>\n",
       "    </tr>\n",
       "    <tr>\n",
       "      <th>price_area_q_all</th>\n",
       "      <td>0.336615</td>\n",
       "      <td>0.223834</td>\n",
       "      <td>0.556442</td>\n",
       "      <td>0.521997</td>\n",
       "      <td>0.835503</td>\n",
       "    </tr>\n",
       "    <tr>\n",
       "      <th>price_area_time_q</th>\n",
       "      <td>0.510490</td>\n",
       "      <td>0.030612</td>\n",
       "      <td>0.686992</td>\n",
       "      <td>0.352941</td>\n",
       "      <td>0.785388</td>\n",
       "    </tr>\n",
       "    <tr>\n",
       "      <th>price_area_time_q_all</th>\n",
       "      <td>0.314103</td>\n",
       "      <td>0.230375</td>\n",
       "      <td>0.552802</td>\n",
       "      <td>0.469565</td>\n",
       "      <td>0.872340</td>\n",
       "    </tr>\n",
       "    <tr>\n",
       "      <th>num_apts_at_manager</th>\n",
       "      <td>62.000000</td>\n",
       "      <td>26.000000</td>\n",
       "      <td>5.000000</td>\n",
       "      <td>178.000000</td>\n",
       "      <td>168.000000</td>\n",
       "    </tr>\n",
       "    <tr>\n",
       "      <th>num_apts_at_manager_q10</th>\n",
       "      <td>0.300000</td>\n",
       "      <td>0.100000</td>\n",
       "      <td>0.000000</td>\n",
       "      <td>0.600000</td>\n",
       "      <td>0.500000</td>\n",
       "    </tr>\n",
       "    <tr>\n",
       "      <th>num_apts_at_manager_q100</th>\n",
       "      <td>0.330000</td>\n",
       "      <td>0.160000</td>\n",
       "      <td>0.030000</td>\n",
       "      <td>0.610000</td>\n",
       "      <td>0.590000</td>\n",
       "    </tr>\n",
       "    <tr>\n",
       "      <th>private_manager</th>\n",
       "      <td>0.000000</td>\n",
       "      <td>0.000000</td>\n",
       "      <td>0.000000</td>\n",
       "      <td>0.000000</td>\n",
       "      <td>0.000000</td>\n",
       "    </tr>\n",
       "    <tr>\n",
       "      <th>num_photos</th>\n",
       "      <td>8.000000</td>\n",
       "      <td>3.000000</td>\n",
       "      <td>6.000000</td>\n",
       "      <td>6.000000</td>\n",
       "      <td>7.000000</td>\n",
       "    </tr>\n",
       "    <tr>\n",
       "      <th>has_photos</th>\n",
       "      <td>1.000000</td>\n",
       "      <td>1.000000</td>\n",
       "      <td>1.000000</td>\n",
       "      <td>1.000000</td>\n",
       "      <td>1.000000</td>\n",
       "    </tr>\n",
       "    <tr>\n",
       "      <th>photos_per_room</th>\n",
       "      <td>4.000000</td>\n",
       "      <td>1.000000</td>\n",
       "      <td>3.000000</td>\n",
       "      <td>2.000000</td>\n",
       "      <td>1.750000</td>\n",
       "    </tr>\n",
       "    <tr>\n",
       "      <th>price</th>\n",
       "      <td>2950.000000</td>\n",
       "      <td>2850.000000</td>\n",
       "      <td>3758.000000</td>\n",
       "      <td>3300.000000</td>\n",
       "      <td>4900.000000</td>\n",
       "    </tr>\n",
       "    <tr>\n",
       "      <th>log_price</th>\n",
       "      <td>7.989560</td>\n",
       "      <td>7.955074</td>\n",
       "      <td>8.231642</td>\n",
       "      <td>8.101678</td>\n",
       "      <td>8.496990</td>\n",
       "    </tr>\n",
       "    <tr>\n",
       "      <th>price_q10_all</th>\n",
       "      <td>0.400000</td>\n",
       "      <td>0.300000</td>\n",
       "      <td>0.600000</td>\n",
       "      <td>0.500000</td>\n",
       "      <td>0.800000</td>\n",
       "    </tr>\n",
       "    <tr>\n",
       "      <th>price_q100_all</th>\n",
       "      <td>0.420000</td>\n",
       "      <td>0.390000</td>\n",
       "      <td>0.680000</td>\n",
       "      <td>0.550000</td>\n",
       "      <td>0.840000</td>\n",
       "    </tr>\n",
       "    <tr>\n",
       "      <th>price_q10</th>\n",
       "      <td>0.500000</td>\n",
       "      <td>0.200000</td>\n",
       "      <td>0.800000</td>\n",
       "      <td>0.400000</td>\n",
       "      <td>0.800000</td>\n",
       "    </tr>\n",
       "    <tr>\n",
       "      <th>price_q100</th>\n",
       "      <td>0.510000</td>\n",
       "      <td>0.260000</td>\n",
       "      <td>0.800000</td>\n",
       "      <td>0.470000</td>\n",
       "      <td>0.820000</td>\n",
       "    </tr>\n",
       "    <tr>\n",
       "      <th>saddr_num_words</th>\n",
       "      <td>3.000000</td>\n",
       "      <td>3.000000</td>\n",
       "      <td>4.000000</td>\n",
       "      <td>5.000000</td>\n",
       "      <td>4.000000</td>\n",
       "    </tr>\n",
       "    <tr>\n",
       "      <th>saddr_has_number</th>\n",
       "      <td>1.000000</td>\n",
       "      <td>1.000000</td>\n",
       "      <td>1.000000</td>\n",
       "      <td>1.000000</td>\n",
       "      <td>1.000000</td>\n",
       "    </tr>\n",
       "    <tr>\n",
       "      <th>saddr_has_ordinal</th>\n",
       "      <td>0.000000</td>\n",
       "      <td>0.000000</td>\n",
       "      <td>1.000000</td>\n",
       "      <td>0.000000</td>\n",
       "      <td>1.000000</td>\n",
       "    </tr>\n",
       "    <tr>\n",
       "      <th>saddr_num_upper_words</th>\n",
       "      <td>0.000000</td>\n",
       "      <td>0.000000</td>\n",
       "      <td>0.000000</td>\n",
       "      <td>0.000000</td>\n",
       "      <td>0.000000</td>\n",
       "    </tr>\n",
       "    <tr>\n",
       "      <th>daddr_saddr_same</th>\n",
       "      <td>0.000000</td>\n",
       "      <td>0.000000</td>\n",
       "      <td>1.000000</td>\n",
       "      <td>0.000000</td>\n",
       "      <td>0.000000</td>\n",
       "    </tr>\n",
       "  </tbody>\n",
       "</table>\n",
       "<p>90 rows × 5 columns</p>\n",
       "</div>"
      ],
      "text/plain": [
       "id                                   0            1             100     \\\n",
       "bathrooms                          1.000000     1.000000      1.000000   \n",
       "num_bathrooms_bucket               1.000000     1.000000      1.000000   \n",
       "bedrooms                           1.000000     2.000000      1.000000   \n",
       "num_bedrooms_bucket                1.000000     2.000000      1.000000   \n",
       "num_apts_in_building               8.000000          NaN      9.000000   \n",
       "num_apts_in_building_q10           0.100000          NaN      0.100000   \n",
       "created_month                      6.000000     6.000000      6.000000   \n",
       "created_day_of_month              11.000000    24.000000      3.000000   \n",
       "created_dow                        5.000000     4.000000      4.000000   \n",
       "created_hour                       5.000000     6.000000      4.000000   \n",
       "created_minute                    29.000000    36.000000     29.000000   \n",
       "created_minute_of_the_day        329.000000   396.000000    269.000000   \n",
       "created_hour_of_dataset         1709.000000  2022.000000   1516.000000   \n",
       "created_distance_from_peak         1.000000    54.000000     61.000000   \n",
       "created_distance_from_peak_abs     1.000000    54.000000     61.000000   \n",
       "num_apts_same_hour               358.000000   238.000000    130.000000   \n",
       "num_apts_prev_hour               381.000000   260.000000    225.000000   \n",
       "num_apts_next_hour               321.000000   276.000000    235.000000   \n",
       "num_apts_same_3hours             866.000000   793.000000    981.000000   \n",
       "num_apts_prev_3hours             883.000000   732.000000    909.000000   \n",
       "num_apts_next_3hours             370.000000   591.000000    618.000000   \n",
       "num_apts_same_9hours            1627.000000  1684.000000   1617.000000   \n",
       "num_apts_prev_9hours            1287.000000  1103.000000   1018.000000   \n",
       "num_apts_next_9hours             407.000000   712.000000    667.000000   \n",
       "num_apts_same_day               1748.000000  1865.000000   1736.000000   \n",
       "num_apts_prev_day               1560.000000  1227.000000   1928.000000   \n",
       "num_apts_next_day               1266.000000  2080.000000   1671.000000   \n",
       "num_apts_same_2days             2826.000000  3307.000000   3599.000000   \n",
       "num_apts_prev_2days             3320.000000  2396.000000   4278.000000   \n",
       "num_apts_next_2days             3582.000000  2781.000000   3196.000000   \n",
       "...                                     ...          ...           ...   \n",
       "price_q10_clust_all                0.200000     0.200000      0.500000   \n",
       "price_q100_clust_all               0.280000     0.240000      0.550000   \n",
       "price_q10_clust                    0.300000     0.000000      0.700000   \n",
       "price_q100_clust                   0.360000     0.020000      0.780000   \n",
       "area_density                    2039.000000  2101.000000   3952.000000   \n",
       "area_density_all                6907.000000  8064.000000  13793.000000   \n",
       "area_density_time                143.000000   196.000000    246.000000   \n",
       "area_density_time_all            468.000000   586.000000    928.000000   \n",
       "price_area_q                       0.512997     0.033317      0.708502   \n",
       "price_area_q_all                   0.336615     0.223834      0.556442   \n",
       "price_area_time_q                  0.510490     0.030612      0.686992   \n",
       "price_area_time_q_all              0.314103     0.230375      0.552802   \n",
       "num_apts_at_manager               62.000000    26.000000      5.000000   \n",
       "num_apts_at_manager_q10            0.300000     0.100000      0.000000   \n",
       "num_apts_at_manager_q100           0.330000     0.160000      0.030000   \n",
       "private_manager                    0.000000     0.000000      0.000000   \n",
       "num_photos                         8.000000     3.000000      6.000000   \n",
       "has_photos                         1.000000     1.000000      1.000000   \n",
       "photos_per_room                    4.000000     1.000000      3.000000   \n",
       "price                           2950.000000  2850.000000   3758.000000   \n",
       "log_price                          7.989560     7.955074      8.231642   \n",
       "price_q10_all                      0.400000     0.300000      0.600000   \n",
       "price_q100_all                     0.420000     0.390000      0.680000   \n",
       "price_q10                          0.500000     0.200000      0.800000   \n",
       "price_q100                         0.510000     0.260000      0.800000   \n",
       "saddr_num_words                    3.000000     3.000000      4.000000   \n",
       "saddr_has_number                   1.000000     1.000000      1.000000   \n",
       "saddr_has_ordinal                  0.000000     0.000000      1.000000   \n",
       "saddr_num_upper_words              0.000000     0.000000      0.000000   \n",
       "daddr_saddr_same                   0.000000     0.000000      1.000000   \n",
       "\n",
       "id                                   1000         100000  \n",
       "bathrooms                          1.000000     2.000000  \n",
       "num_bathrooms_bucket               1.000000     2.000000  \n",
       "bedrooms                           2.000000     2.000000  \n",
       "num_bedrooms_bucket                2.000000     2.000000  \n",
       "num_apts_in_building               2.000000   267.000000  \n",
       "num_apts_in_building_q10           0.000000     0.800000  \n",
       "created_month                      6.000000     4.000000  \n",
       "created_day_of_month              11.000000    12.000000  \n",
       "created_dow                        5.000000     1.000000  \n",
       "created_hour                       6.000000     5.000000  \n",
       "created_minute                    17.000000    24.000000  \n",
       "created_minute_of_the_day        377.000000   324.000000  \n",
       "created_hour_of_dataset         1710.000000   269.000000  \n",
       "created_distance_from_peak       -47.000000     6.000000  \n",
       "created_distance_from_peak_abs    47.000000     6.000000  \n",
       "num_apts_same_hour               270.000000   395.000000  \n",
       "num_apts_prev_hour               334.000000   160.000000  \n",
       "num_apts_next_hour               100.000000   553.000000  \n",
       "num_apts_same_3hours             644.000000   856.000000  \n",
       "num_apts_prev_3hours             940.000000   865.000000  \n",
       "num_apts_next_3hours             101.000000   563.000000  \n",
       "num_apts_same_9hours            1414.000000  1641.000000  \n",
       "num_apts_prev_9hours            1548.000000  1091.000000  \n",
       "num_apts_next_9hours             158.000000   647.000000  \n",
       "num_apts_same_day               1753.000000  1799.000000  \n",
       "num_apts_prev_day               1660.000000  1248.000000  \n",
       "num_apts_next_day               1049.000000  1832.000000  \n",
       "num_apts_same_2days             2709.000000  3080.000000  \n",
       "num_apts_prev_2days             3346.000000  2011.000000  \n",
       "num_apts_next_2days             3312.000000  3614.000000  \n",
       "...                                     ...          ...  \n",
       "price_q10_clust_all                0.600000     0.800000  \n",
       "price_q100_clust_all               0.630000     0.850000  \n",
       "price_q10_clust                    0.500000     0.700000  \n",
       "price_q100_clust                   0.570000     0.750000  \n",
       "area_density                     462.000000  2797.000000  \n",
       "area_density_all                1182.000000  9988.000000  \n",
       "area_density_time                 51.000000   219.000000  \n",
       "area_density_time_all            115.000000   752.000000  \n",
       "price_area_q                       0.415584     0.723632  \n",
       "price_area_q_all                   0.521997     0.835503  \n",
       "price_area_time_q                  0.352941     0.785388  \n",
       "price_area_time_q_all              0.469565     0.872340  \n",
       "num_apts_at_manager              178.000000   168.000000  \n",
       "num_apts_at_manager_q10            0.600000     0.500000  \n",
       "num_apts_at_manager_q100           0.610000     0.590000  \n",
       "private_manager                    0.000000     0.000000  \n",
       "num_photos                         6.000000     7.000000  \n",
       "has_photos                         1.000000     1.000000  \n",
       "photos_per_room                    2.000000     1.750000  \n",
       "price                           3300.000000  4900.000000  \n",
       "log_price                          8.101678     8.496990  \n",
       "price_q10_all                      0.500000     0.800000  \n",
       "price_q100_all                     0.550000     0.840000  \n",
       "price_q10                          0.400000     0.800000  \n",
       "price_q100                         0.470000     0.820000  \n",
       "saddr_num_words                    5.000000     4.000000  \n",
       "saddr_has_number                   1.000000     1.000000  \n",
       "saddr_has_ordinal                  0.000000     1.000000  \n",
       "saddr_num_upper_words              0.000000     0.000000  \n",
       "daddr_saddr_same                   0.000000     0.000000  \n",
       "\n",
       "[90 rows x 5 columns]"
      ]
     },
     "execution_count": 23,
     "metadata": {},
     "output_type": "execute_result"
    }
   ],
   "source": [
    "tef.head().T"
   ]
  },
  {
   "cell_type": "code",
   "execution_count": 24,
   "metadata": {
    "collapsed": false
   },
   "outputs": [
    {
     "name": "stdout",
     "output_type": "stream",
     "text": [
      "(49352, 90)\n",
      "(74659, 90)\n"
     ]
    }
   ],
   "source": [
    "print trf.values.shape\n",
    "print tef.values.shape"
   ]
  },
  {
   "cell_type": "markdown",
   "metadata": {},
   "source": [
    "# Get Script Data"
   ]
  },
  {
   "cell_type": "code",
   "execution_count": 25,
   "metadata": {
    "collapsed": false
   },
   "outputs": [
    {
     "name": "stdout",
     "output_type": "stream",
     "text": [
      "(124011, 15)\n"
     ]
    }
   ],
   "source": [
    "data_path = \"input/\"\n",
    "train_file = data_path + \"train.json\"\n",
    "test_file = data_path + \"test.json\"\n",
    "train_df = pd.read_json(train_file)\n",
    "test_df = pd.read_json(test_file)\n",
    "test_df['interest_level'] = np.nan\n",
    "s_df = pd.concat([train_df, test_df])\n",
    "print(s_df.shape)"
   ]
  },
  {
   "cell_type": "code",
   "execution_count": 26,
   "metadata": {
    "collapsed": true
   },
   "outputs": [],
   "source": [
    "features_to_use  = [\"bathrooms\", \"bedrooms\", \"latitude\", \"longitude\", \"price\"]"
   ]
  },
  {
   "cell_type": "code",
   "execution_count": 27,
   "metadata": {
    "collapsed": false
   },
   "outputs": [],
   "source": [
    "# transformation of lat and lng #\n",
    "s_df[\"price_t\"] = s_df[\"price\"] / s_df[\"bedrooms\"] \n",
    "s_df[\"room_dif\"] = s_df[\"bedrooms\"] - s_df[\"bathrooms\"] \n",
    "s_df[\"room_sum\"] = s_df[\"bedrooms\"] + s_df[\"bathrooms\"] \n",
    "s_df[\"price_t1\"] = s_df[\"price\"] / s_df[\"room_sum\"]\n",
    "s_df[\"fold_t1\"] = s_df[\"bedrooms\"] / s_df[\"room_sum\"]"
   ]
  },
  {
   "cell_type": "code",
   "execution_count": 28,
   "metadata": {
    "collapsed": true
   },
   "outputs": [],
   "source": [
    "s_df[\"num_photos\"] = s_df[\"photos\"].apply(len)\n",
    "s_df[\"num_features\"] = s_df[\"features\"].apply(len)\n",
    "s_df[\"num_description_words\"] = s_df[\"description\"].apply(lambda x: len(x.split(\" \")))\n",
    "s_df[\"created\"] = pd.to_datetime(s_df[\"created\"])\n",
    "s_df[\"passed\"] = s_df[\"created\"].max() - s_df[\"created\"]\n",
    "s_df[\"created_year\"] = s_df[\"created\"].dt.year\n",
    "s_df[\"created_month\"] = s_df[\"created\"].dt.month\n",
    "s_df[\"created_day\"] = s_df[\"created\"].dt.day\n",
    "s_df[\"created_hour\"] = s_df[\"created\"].dt.hour"
   ]
  },
  {
   "cell_type": "code",
   "execution_count": 29,
   "metadata": {
    "collapsed": true
   },
   "outputs": [],
   "source": [
    "features_to_use.extend([\"price_t\",\"num_photos\", \"num_features\", \"num_description_words\", \n",
    "                        \"created_year\", \"created_month\", \"created_day\", \"created_hour\",\n",
    "                        \"listing_id\",'room_dif','room_sum','price_t1'])"
   ]
  },
  {
   "cell_type": "code",
   "execution_count": 30,
   "metadata": {
    "collapsed": false
   },
   "outputs": [],
   "source": [
    "categorical = [\"display_address\", \"manager_id\", \"building_id\", \"street_address\"]\n",
    "for f in categorical:\n",
    "        if s_df[f].dtype=='object':\n",
    "            #print(f)\n",
    "            lbl = sklearn.preprocessing.LabelEncoder()\n",
    "            lbl.fit(list(s_df[f].values) + list(s_df[f].values))\n",
    "            s_df[f] = lbl.transform(list(s_df[f].values))\n",
    "            features_to_use.append(f)"
   ]
  },
  {
   "cell_type": "code",
   "execution_count": 31,
   "metadata": {
    "collapsed": false
   },
   "outputs": [
    {
     "name": "stdout",
     "output_type": "stream",
     "text": [
      "10                                                         \n",
      "10000     Doorman Elevator Fitness_Center Cats_Allowed D...\n",
      "100004    Laundry_In_Building Dishwasher Hardwood_Floors...\n",
      "100007                               Hardwood_Floors No_Fee\n",
      "100013                                              Pre-War\n",
      "Name: features, dtype: object\n"
     ]
    }
   ],
   "source": [
    "s_df['features'] = s_df[\"features\"].apply(lambda x: \" \".join([\"_\".join(i.split(\" \")) for i in x]))\n",
    "print(s_df[\"features\"].head())\n",
    "tfidf = CountVectorizer(stop_words='english', max_features=400)\n",
    "s_df_sparse = tfidf.fit_transform(s_df[\"features\"])"
   ]
  },
  {
   "cell_type": "code",
   "execution_count": 32,
   "metadata": {
    "collapsed": false
   },
   "outputs": [],
   "source": [
    "s_X = scipy.sparse.hstack([s_df[features_to_use], s_df_sparse]).tocsr()"
   ]
  },
  {
   "cell_type": "code",
   "execution_count": 33,
   "metadata": {
    "collapsed": false
   },
   "outputs": [],
   "source": [
    "sd = pd.DataFrame(s_X.todense(), index=d.index)"
   ]
  },
  {
   "cell_type": "code",
   "execution_count": 34,
   "metadata": {
    "collapsed": false
   },
   "outputs": [
    {
     "name": "stdout",
     "output_type": "stream",
     "text": [
      "(124011, 421)\n"
     ]
    }
   ],
   "source": [
    "print sd.values.shape"
   ]
  },
  {
   "cell_type": "code",
   "execution_count": 35,
   "metadata": {
    "collapsed": false
   },
   "outputs": [],
   "source": [
    "s_feature_names = features_to_use\n",
    "s_feature_names += ['tfidf_{0:03}'.format(i) for i in range(400)]\n",
    "sd.columns = s_feature_names"
   ]
  },
  {
   "cell_type": "code",
   "execution_count": 36,
   "metadata": {
    "collapsed": false
   },
   "outputs": [
    {
     "data": {
      "text/html": [
       "<div>\n",
       "<table border=\"1\" class=\"dataframe\">\n",
       "  <thead>\n",
       "    <tr style=\"text-align: right;\">\n",
       "      <th></th>\n",
       "      <th>bathrooms</th>\n",
       "      <th>bedrooms</th>\n",
       "      <th>latitude</th>\n",
       "      <th>longitude</th>\n",
       "      <th>price</th>\n",
       "      <th>price_t</th>\n",
       "      <th>num_photos</th>\n",
       "      <th>num_features</th>\n",
       "      <th>num_description_words</th>\n",
       "      <th>created_year</th>\n",
       "      <th>...</th>\n",
       "      <th>tfidf_390</th>\n",
       "      <th>tfidf_391</th>\n",
       "      <th>tfidf_392</th>\n",
       "      <th>tfidf_393</th>\n",
       "      <th>tfidf_394</th>\n",
       "      <th>tfidf_395</th>\n",
       "      <th>tfidf_396</th>\n",
       "      <th>tfidf_397</th>\n",
       "      <th>tfidf_398</th>\n",
       "      <th>tfidf_399</th>\n",
       "    </tr>\n",
       "    <tr>\n",
       "      <th>id</th>\n",
       "      <th></th>\n",
       "      <th></th>\n",
       "      <th></th>\n",
       "      <th></th>\n",
       "      <th></th>\n",
       "      <th></th>\n",
       "      <th></th>\n",
       "      <th></th>\n",
       "      <th></th>\n",
       "      <th></th>\n",
       "      <th></th>\n",
       "      <th></th>\n",
       "      <th></th>\n",
       "      <th></th>\n",
       "      <th></th>\n",
       "      <th></th>\n",
       "      <th></th>\n",
       "      <th></th>\n",
       "      <th></th>\n",
       "      <th></th>\n",
       "      <th></th>\n",
       "    </tr>\n",
       "  </thead>\n",
       "  <tbody>\n",
       "    <tr>\n",
       "      <th>10</th>\n",
       "      <td>1.5</td>\n",
       "      <td>3.0</td>\n",
       "      <td>40.7145</td>\n",
       "      <td>-73.9425</td>\n",
       "      <td>3000.0</td>\n",
       "      <td>1000.0</td>\n",
       "      <td>5.0</td>\n",
       "      <td>0.0</td>\n",
       "      <td>95.0</td>\n",
       "      <td>2016.0</td>\n",
       "      <td>...</td>\n",
       "      <td>0.0</td>\n",
       "      <td>0.0</td>\n",
       "      <td>0.0</td>\n",
       "      <td>0.0</td>\n",
       "      <td>0.0</td>\n",
       "      <td>0.0</td>\n",
       "      <td>0.0</td>\n",
       "      <td>0.0</td>\n",
       "      <td>0.0</td>\n",
       "      <td>0.0</td>\n",
       "    </tr>\n",
       "    <tr>\n",
       "      <th>10000</th>\n",
       "      <td>1.0</td>\n",
       "      <td>2.0</td>\n",
       "      <td>40.7947</td>\n",
       "      <td>-73.9667</td>\n",
       "      <td>5465.0</td>\n",
       "      <td>2732.5</td>\n",
       "      <td>11.0</td>\n",
       "      <td>5.0</td>\n",
       "      <td>9.0</td>\n",
       "      <td>2016.0</td>\n",
       "      <td>...</td>\n",
       "      <td>0.0</td>\n",
       "      <td>0.0</td>\n",
       "      <td>0.0</td>\n",
       "      <td>0.0</td>\n",
       "      <td>0.0</td>\n",
       "      <td>0.0</td>\n",
       "      <td>0.0</td>\n",
       "      <td>0.0</td>\n",
       "      <td>0.0</td>\n",
       "      <td>0.0</td>\n",
       "    </tr>\n",
       "    <tr>\n",
       "      <th>100004</th>\n",
       "      <td>1.0</td>\n",
       "      <td>1.0</td>\n",
       "      <td>40.7388</td>\n",
       "      <td>-74.0018</td>\n",
       "      <td>2850.0</td>\n",
       "      <td>2850.0</td>\n",
       "      <td>8.0</td>\n",
       "      <td>4.0</td>\n",
       "      <td>94.0</td>\n",
       "      <td>2016.0</td>\n",
       "      <td>...</td>\n",
       "      <td>0.0</td>\n",
       "      <td>0.0</td>\n",
       "      <td>0.0</td>\n",
       "      <td>0.0</td>\n",
       "      <td>0.0</td>\n",
       "      <td>0.0</td>\n",
       "      <td>0.0</td>\n",
       "      <td>0.0</td>\n",
       "      <td>0.0</td>\n",
       "      <td>0.0</td>\n",
       "    </tr>\n",
       "    <tr>\n",
       "      <th>100007</th>\n",
       "      <td>1.0</td>\n",
       "      <td>1.0</td>\n",
       "      <td>40.7539</td>\n",
       "      <td>-73.9677</td>\n",
       "      <td>3275.0</td>\n",
       "      <td>3275.0</td>\n",
       "      <td>3.0</td>\n",
       "      <td>2.0</td>\n",
       "      <td>80.0</td>\n",
       "      <td>2016.0</td>\n",
       "      <td>...</td>\n",
       "      <td>0.0</td>\n",
       "      <td>0.0</td>\n",
       "      <td>0.0</td>\n",
       "      <td>0.0</td>\n",
       "      <td>0.0</td>\n",
       "      <td>0.0</td>\n",
       "      <td>0.0</td>\n",
       "      <td>0.0</td>\n",
       "      <td>0.0</td>\n",
       "      <td>0.0</td>\n",
       "    </tr>\n",
       "    <tr>\n",
       "      <th>100013</th>\n",
       "      <td>1.0</td>\n",
       "      <td>4.0</td>\n",
       "      <td>40.8241</td>\n",
       "      <td>-73.9493</td>\n",
       "      <td>3350.0</td>\n",
       "      <td>837.5</td>\n",
       "      <td>3.0</td>\n",
       "      <td>1.0</td>\n",
       "      <td>68.0</td>\n",
       "      <td>2016.0</td>\n",
       "      <td>...</td>\n",
       "      <td>0.0</td>\n",
       "      <td>0.0</td>\n",
       "      <td>0.0</td>\n",
       "      <td>0.0</td>\n",
       "      <td>0.0</td>\n",
       "      <td>0.0</td>\n",
       "      <td>0.0</td>\n",
       "      <td>0.0</td>\n",
       "      <td>0.0</td>\n",
       "      <td>0.0</td>\n",
       "    </tr>\n",
       "  </tbody>\n",
       "</table>\n",
       "<p>5 rows × 421 columns</p>\n",
       "</div>"
      ],
      "text/plain": [
       "        bathrooms  bedrooms  latitude  longitude   price  price_t  num_photos  \\\n",
       "id                                                                              \n",
       "10            1.5       3.0   40.7145   -73.9425  3000.0   1000.0         5.0   \n",
       "10000         1.0       2.0   40.7947   -73.9667  5465.0   2732.5        11.0   \n",
       "100004        1.0       1.0   40.7388   -74.0018  2850.0   2850.0         8.0   \n",
       "100007        1.0       1.0   40.7539   -73.9677  3275.0   3275.0         3.0   \n",
       "100013        1.0       4.0   40.8241   -73.9493  3350.0    837.5         3.0   \n",
       "\n",
       "        num_features  num_description_words  created_year    ...      \\\n",
       "id                                                           ...       \n",
       "10               0.0                   95.0        2016.0    ...       \n",
       "10000            5.0                    9.0        2016.0    ...       \n",
       "100004           4.0                   94.0        2016.0    ...       \n",
       "100007           2.0                   80.0        2016.0    ...       \n",
       "100013           1.0                   68.0        2016.0    ...       \n",
       "\n",
       "        tfidf_390  tfidf_391  tfidf_392  tfidf_393  tfidf_394  tfidf_395  \\\n",
       "id                                                                         \n",
       "10            0.0        0.0        0.0        0.0        0.0        0.0   \n",
       "10000         0.0        0.0        0.0        0.0        0.0        0.0   \n",
       "100004        0.0        0.0        0.0        0.0        0.0        0.0   \n",
       "100007        0.0        0.0        0.0        0.0        0.0        0.0   \n",
       "100013        0.0        0.0        0.0        0.0        0.0        0.0   \n",
       "\n",
       "        tfidf_396  tfidf_397  tfidf_398  tfidf_399  \n",
       "id                                                  \n",
       "10            0.0        0.0        0.0        0.0  \n",
       "10000         0.0        0.0        0.0        0.0  \n",
       "100004        0.0        0.0        0.0        0.0  \n",
       "100007        0.0        0.0        0.0        0.0  \n",
       "100013        0.0        0.0        0.0        0.0  \n",
       "\n",
       "[5 rows x 421 columns]"
      ]
     },
     "execution_count": 36,
     "metadata": {},
     "output_type": "execute_result"
    }
   ],
   "source": [
    "sd.head()"
   ]
  },
  {
   "cell_type": "markdown",
   "metadata": {},
   "source": [
    "# Combine Data Sets"
   ]
  },
  {
   "cell_type": "code",
   "execution_count": 37,
   "metadata": {
    "collapsed": true
   },
   "outputs": [],
   "source": [
    "del sd['bathrooms']\n",
    "del sd['bedrooms']\n",
    "del sd['created_month']\n",
    "del sd['created_hour']\n",
    "del sd['num_features']\n",
    "del sd['latitude']\n",
    "del sd['longitude']\n",
    "del sd['num_photos']\n",
    "del sd['price']"
   ]
  },
  {
   "cell_type": "code",
   "execution_count": 38,
   "metadata": {
    "collapsed": false
   },
   "outputs": [],
   "source": [
    "target_num_map = {'high':0, 'medium':1, 'low':2}\n",
    "trln = np.array(trl.apply(lambda x: target_num_map[x]))"
   ]
  },
  {
   "cell_type": "code",
   "execution_count": 39,
   "metadata": {
    "collapsed": false
   },
   "outputs": [],
   "source": [
    "combined_tr_f = pd.merge(trf, sd, left_index=True, right_index=True)"
   ]
  },
  {
   "cell_type": "code",
   "execution_count": 40,
   "metadata": {
    "collapsed": false
   },
   "outputs": [],
   "source": [
    "combined_te_f = pd.merge(tef, sd, left_index=True, right_index=True)"
   ]
  },
  {
   "cell_type": "code",
   "execution_count": 41,
   "metadata": {
    "collapsed": true
   },
   "outputs": [],
   "source": [
    "combined_tr_f['interest_level'] = trln\n",
    "combined_te_f['interest_level'] = np.nan"
   ]
  },
  {
   "cell_type": "code",
   "execution_count": 42,
   "metadata": {
    "collapsed": false
   },
   "outputs": [
    {
     "name": "stdout",
     "output_type": "stream",
     "text": [
      "(49352, 503)\n",
      "(74659, 503)\n"
     ]
    }
   ],
   "source": [
    "print combined_tr_f.values.shape\n",
    "print combined_te_f.values.shape"
   ]
  },
  {
   "cell_type": "code",
   "execution_count": 43,
   "metadata": {
    "collapsed": true
   },
   "outputs": [],
   "source": [
    "combined_tr_f.to_csv('tmp/combined_train.csv')\n",
    "combined_te_f.to_csv('tmp/combined_test.csv')"
   ]
  }
 ],
 "metadata": {
  "kernelspec": {
   "display_name": "Python 2",
   "language": "python",
   "name": "python2"
  },
  "language_info": {
   "codemirror_mode": {
    "name": "ipython",
    "version": 2
   },
   "file_extension": ".py",
   "mimetype": "text/x-python",
   "name": "python",
   "nbconvert_exporter": "python",
   "pygments_lexer": "ipython2",
   "version": "2.7.11"
  }
 },
 "nbformat": 4,
 "nbformat_minor": 1
}
