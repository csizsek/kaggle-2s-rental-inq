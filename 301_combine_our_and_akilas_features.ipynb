{
 "cells": [
  {
   "cell_type": "code",
   "execution_count": 87,
   "metadata": {
    "collapsed": false
   },
   "outputs": [],
   "source": [
    "import base64\n",
    "import datetime\n",
    "import itertools\n",
    "import json\n",
    "import math\n",
    "import operator\n",
    "import os\n",
    "import pickle\n",
    "import random\n",
    "import re\n",
    "import time\n",
    "\n",
    "import scipy\n",
    "from scipy import ndimage\n",
    "import numpy as np\n",
    "import pandas as pd\n",
    "import sklearn\n",
    "import matplotlib as mpl\n",
    "import matplotlib.pyplot as plt\n",
    "from pylab import rcParams\n",
    "import seaborn as sns\n",
    "import statsmodels as sm\n",
    "from pylab import rcParams\n",
    "from pylab import *\n",
    "from matplotlib.dates import date2num , DateFormatter\n",
    "from PIL import Image\n",
    "\n",
    "np.random.seed(1337)\n",
    "\n",
    "%matplotlib inline\n",
    "sns.set(font_scale=1.0)\n",
    "rcParams['figure.figsize'] = 8, 6\n",
    "sns.set_style('whitegrid')\n",
    "sns.set_palette(sns.color_palette('muted'))"
   ]
  },
  {
   "cell_type": "code",
   "execution_count": 88,
   "metadata": {
    "collapsed": false
   },
   "outputs": [],
   "source": [
    "import xgboost as xgb\n",
    "from xgboost import XGBClassifier\n",
    "from sklearn.metrics import accuracy_score\n",
    "from sklearn.preprocessing import normalize\n",
    "from sklearn.grid_search import GridSearchCV\n",
    "from sklearn.metrics import confusion_matrix\n",
    "from sklearn.feature_extraction.text import TfidfVectorizer, CountVectorizer"
   ]
  },
  {
   "cell_type": "markdown",
   "metadata": {},
   "source": [
    "# Load the Data"
   ]
  },
  {
   "cell_type": "code",
   "execution_count": 89,
   "metadata": {
    "collapsed": false
   },
   "outputs": [],
   "source": [
    "d = pd.concat([pd.read_csv('tmp/train_ids.csv', index_col='id'),\n",
    "               pd.read_csv('tmp/test_ids.csv', index_col='id')])"
   ]
  },
  {
   "cell_type": "code",
   "execution_count": 90,
   "metadata": {
    "collapsed": false
   },
   "outputs": [],
   "source": [
    "e = pd.read_csv('tmp/features_bathrooms.csv', index_col='id')\n",
    "d = pd.merge(d, e, how='left', left_index=True, right_index=True)"
   ]
  },
  {
   "cell_type": "code",
   "execution_count": 91,
   "metadata": {
    "collapsed": false
   },
   "outputs": [],
   "source": [
    "e = pd.read_csv('tmp/features_bedrooms.csv', index_col='id')\n",
    "d = pd.merge(d, e, how='left', left_index=True, right_index=True)"
   ]
  },
  {
   "cell_type": "code",
   "execution_count": 92,
   "metadata": {
    "collapsed": false
   },
   "outputs": [],
   "source": [
    "e = pd.read_csv('tmp/features_building_id.csv', index_col='id')\n",
    "d = pd.merge(d, e, how='left', left_index=True, right_index=True)"
   ]
  },
  {
   "cell_type": "code",
   "execution_count": 93,
   "metadata": {
    "collapsed": false
   },
   "outputs": [],
   "source": [
    "e = pd.read_csv('tmp/features_created.csv', index_col='id')\n",
    "d = pd.merge(d, e, how='left', left_index=True, right_index=True)"
   ]
  },
  {
   "cell_type": "code",
   "execution_count": 94,
   "metadata": {
    "collapsed": false
   },
   "outputs": [],
   "source": [
    "e = pd.read_csv('tmp/features_description.csv', index_col='id')\n",
    "d = pd.merge(d, e, how='left', left_index=True, right_index=True)"
   ]
  },
  {
   "cell_type": "code",
   "execution_count": 95,
   "metadata": {
    "collapsed": false
   },
   "outputs": [],
   "source": [
    "e = pd.read_csv('tmp/features_display_address.csv', index_col='id')\n",
    "d = pd.merge(d, e, how='left', left_index=True, right_index=True)"
   ]
  },
  {
   "cell_type": "code",
   "execution_count": 96,
   "metadata": {
    "collapsed": false
   },
   "outputs": [],
   "source": [
    "e = pd.read_csv('tmp/features_features.csv', index_col='id')\n",
    "d = pd.merge(d, e, how='left', left_index=True, right_index=True)"
   ]
  },
  {
   "cell_type": "code",
   "execution_count": 97,
   "metadata": {
    "collapsed": false
   },
   "outputs": [],
   "source": [
    "e = pd.read_csv('tmp/features_latlon.csv', index_col='id')\n",
    "d = pd.merge(d, e, how='left', left_index=True, right_index=True)"
   ]
  },
  {
   "cell_type": "code",
   "execution_count": 98,
   "metadata": {
    "collapsed": false
   },
   "outputs": [],
   "source": [
    "e = pd.read_csv('tmp/features_manager_id.csv', index_col='id')\n",
    "d = pd.merge(d, e, how='left', left_index=True, right_index=True)"
   ]
  },
  {
   "cell_type": "code",
   "execution_count": 99,
   "metadata": {
    "collapsed": false
   },
   "outputs": [],
   "source": [
    "e = pd.read_csv('tmp/features_photos.csv', index_col='id')\n",
    "d = pd.merge(d, e, how='left', left_index=True, right_index=True)"
   ]
  },
  {
   "cell_type": "code",
   "execution_count": 100,
   "metadata": {
    "collapsed": false
   },
   "outputs": [],
   "source": [
    "e = pd.read_csv('tmp/features_price.csv', index_col='id')\n",
    "d = pd.merge(d, e, how='left', left_index=True, right_index=True)"
   ]
  },
  {
   "cell_type": "code",
   "execution_count": 101,
   "metadata": {
    "collapsed": false
   },
   "outputs": [],
   "source": [
    "e = pd.read_csv('tmp/features_street_address.csv', index_col='id')\n",
    "d = pd.merge(d, e, how='left', left_index=True, right_index=True)"
   ]
  },
  {
   "cell_type": "code",
   "execution_count": 102,
   "metadata": {
    "collapsed": false
   },
   "outputs": [
    {
     "data": {
      "text/plain": [
       "low       34284\n",
       "medium    11229\n",
       "high       3839\n",
       "Name: interest_level, dtype: int64"
      ]
     },
     "execution_count": 102,
     "metadata": {},
     "output_type": "execute_result"
    }
   ],
   "source": [
    "d.interest_level.value_counts()"
   ]
  },
  {
   "cell_type": "code",
   "execution_count": 103,
   "metadata": {
    "collapsed": false
   },
   "outputs": [
    {
     "name": "stdout",
     "output_type": "stream",
     "text": [
      "49352\n"
     ]
    }
   ],
   "source": [
    "tr = d[d.interest_level.notnull()].copy()\n",
    "print len(tr)"
   ]
  },
  {
   "cell_type": "code",
   "execution_count": 104,
   "metadata": {
    "collapsed": true
   },
   "outputs": [],
   "source": [
    "trl = tr.interest_level.copy()\n",
    "trf = tr\n",
    "del trf['interest_level']"
   ]
  },
  {
   "cell_type": "code",
   "execution_count": 105,
   "metadata": {
    "collapsed": true
   },
   "outputs": [],
   "source": [
    "for c in trf.columns:\n",
    "    if trf.dtypes[c] not in ('int64', 'float64'):\n",
    "        del trf[c]"
   ]
  },
  {
   "cell_type": "code",
   "execution_count": 106,
   "metadata": {
    "collapsed": false
   },
   "outputs": [
    {
     "name": "stdout",
     "output_type": "stream",
     "text": [
      "74659\n"
     ]
    }
   ],
   "source": [
    "te = d[d.interest_level.isnull()].copy()\n",
    "print len(te)"
   ]
  },
  {
   "cell_type": "code",
   "execution_count": 107,
   "metadata": {
    "collapsed": true
   },
   "outputs": [],
   "source": [
    "tef = te\n",
    "del tef['interest_level']"
   ]
  },
  {
   "cell_type": "code",
   "execution_count": 108,
   "metadata": {
    "collapsed": false
   },
   "outputs": [],
   "source": [
    "for c in tef.columns:\n",
    "    if tef.dtypes[c] not in ('int64', 'float64'):\n",
    "        del tef[c]"
   ]
  },
  {
   "cell_type": "code",
   "execution_count": 109,
   "metadata": {
    "collapsed": false
   },
   "outputs": [
    {
     "data": {
      "text/html": [
       "<div>\n",
       "<table border=\"1\" class=\"dataframe\">\n",
       "  <thead>\n",
       "    <tr style=\"text-align: right;\">\n",
       "      <th>id</th>\n",
       "      <th>0</th>\n",
       "      <th>1</th>\n",
       "      <th>2</th>\n",
       "      <th>3</th>\n",
       "      <th>5</th>\n",
       "    </tr>\n",
       "  </thead>\n",
       "  <tbody>\n",
       "    <tr>\n",
       "      <th>listing_id</th>\n",
       "      <td>7.142618e+06</td>\n",
       "      <td>7.210040e+06</td>\n",
       "      <td>7.174566e+06</td>\n",
       "      <td>7.191391e+06</td>\n",
       "      <td>7.171695e+06</td>\n",
       "    </tr>\n",
       "    <tr>\n",
       "      <th>bathrooms</th>\n",
       "      <td>1.000000e+00</td>\n",
       "      <td>1.000000e+00</td>\n",
       "      <td>1.000000e+00</td>\n",
       "      <td>1.000000e+00</td>\n",
       "      <td>1.000000e+00</td>\n",
       "    </tr>\n",
       "    <tr>\n",
       "      <th>num_bathrooms_bucket</th>\n",
       "      <td>1.000000e+00</td>\n",
       "      <td>1.000000e+00</td>\n",
       "      <td>1.000000e+00</td>\n",
       "      <td>1.000000e+00</td>\n",
       "      <td>1.000000e+00</td>\n",
       "    </tr>\n",
       "    <tr>\n",
       "      <th>bedrooms</th>\n",
       "      <td>1.000000e+00</td>\n",
       "      <td>2.000000e+00</td>\n",
       "      <td>0.000000e+00</td>\n",
       "      <td>2.000000e+00</td>\n",
       "      <td>1.000000e+00</td>\n",
       "    </tr>\n",
       "    <tr>\n",
       "      <th>num_bedrooms_bucket</th>\n",
       "      <td>1.000000e+00</td>\n",
       "      <td>2.000000e+00</td>\n",
       "      <td>0.000000e+00</td>\n",
       "      <td>2.000000e+00</td>\n",
       "      <td>1.000000e+00</td>\n",
       "    </tr>\n",
       "    <tr>\n",
       "      <th>num_apts_in_building</th>\n",
       "      <td>8.000000e+00</td>\n",
       "      <td>NaN</td>\n",
       "      <td>NaN</td>\n",
       "      <td>1.400000e+01</td>\n",
       "      <td>1.710000e+02</td>\n",
       "    </tr>\n",
       "    <tr>\n",
       "      <th>num_apts_in_building_q10</th>\n",
       "      <td>1.000000e-01</td>\n",
       "      <td>NaN</td>\n",
       "      <td>NaN</td>\n",
       "      <td>2.000000e-01</td>\n",
       "      <td>8.000000e-01</td>\n",
       "    </tr>\n",
       "    <tr>\n",
       "      <th>building_code</th>\n",
       "      <td>5.535000e+03</td>\n",
       "      <td>0.000000e+00</td>\n",
       "      <td>0.000000e+00</td>\n",
       "      <td>1.133800e+04</td>\n",
       "      <td>5.876000e+03</td>\n",
       "    </tr>\n",
       "    <tr>\n",
       "      <th>created_month</th>\n",
       "      <td>6.000000e+00</td>\n",
       "      <td>6.000000e+00</td>\n",
       "      <td>6.000000e+00</td>\n",
       "      <td>6.000000e+00</td>\n",
       "      <td>6.000000e+00</td>\n",
       "    </tr>\n",
       "    <tr>\n",
       "      <th>created_day_of_month</th>\n",
       "      <td>1.100000e+01</td>\n",
       "      <td>2.400000e+01</td>\n",
       "      <td>1.700000e+01</td>\n",
       "      <td>2.100000e+01</td>\n",
       "      <td>1.600000e+01</td>\n",
       "    </tr>\n",
       "    <tr>\n",
       "      <th>created_dow</th>\n",
       "      <td>5.000000e+00</td>\n",
       "      <td>4.000000e+00</td>\n",
       "      <td>4.000000e+00</td>\n",
       "      <td>1.000000e+00</td>\n",
       "      <td>3.000000e+00</td>\n",
       "    </tr>\n",
       "    <tr>\n",
       "      <th>created_hour</th>\n",
       "      <td>5.000000e+00</td>\n",
       "      <td>6.000000e+00</td>\n",
       "      <td>1.000000e+00</td>\n",
       "      <td>5.000000e+00</td>\n",
       "      <td>7.000000e+00</td>\n",
       "    </tr>\n",
       "    <tr>\n",
       "      <th>created_minute</th>\n",
       "      <td>2.900000e+01</td>\n",
       "      <td>3.600000e+01</td>\n",
       "      <td>2.300000e+01</td>\n",
       "      <td>6.000000e+00</td>\n",
       "      <td>2.400000e+01</td>\n",
       "    </tr>\n",
       "    <tr>\n",
       "      <th>created_minute_of_the_day</th>\n",
       "      <td>3.290000e+02</td>\n",
       "      <td>3.960000e+02</td>\n",
       "      <td>8.300000e+01</td>\n",
       "      <td>3.060000e+02</td>\n",
       "      <td>4.440000e+02</td>\n",
       "    </tr>\n",
       "    <tr>\n",
       "      <th>created_hour_of_dataset</th>\n",
       "      <td>1.709000e+03</td>\n",
       "      <td>2.022000e+03</td>\n",
       "      <td>1.849000e+03</td>\n",
       "      <td>1.949000e+03</td>\n",
       "      <td>1.831000e+03</td>\n",
       "    </tr>\n",
       "    <tr>\n",
       "      <th>created_distance_from_peak</th>\n",
       "      <td>1.000000e+00</td>\n",
       "      <td>5.400000e+01</td>\n",
       "      <td>2.470000e+02</td>\n",
       "      <td>1.440000e+02</td>\n",
       "      <td>6.000000e+00</td>\n",
       "    </tr>\n",
       "    <tr>\n",
       "      <th>created_distance_from_peak_abs</th>\n",
       "      <td>1.000000e+00</td>\n",
       "      <td>5.400000e+01</td>\n",
       "      <td>2.470000e+02</td>\n",
       "      <td>1.440000e+02</td>\n",
       "      <td>6.000000e+00</td>\n",
       "    </tr>\n",
       "    <tr>\n",
       "      <th>num_apts_same_hour</th>\n",
       "      <td>3.580000e+02</td>\n",
       "      <td>2.380000e+02</td>\n",
       "      <td>1.360000e+02</td>\n",
       "      <td>4.710000e+02</td>\n",
       "      <td>4.290000e+02</td>\n",
       "    </tr>\n",
       "    <tr>\n",
       "      <th>num_apts_prev_hour</th>\n",
       "      <td>3.810000e+02</td>\n",
       "      <td>2.600000e+02</td>\n",
       "      <td>6.400000e+01</td>\n",
       "      <td>4.230000e+02</td>\n",
       "      <td>3.120000e+02</td>\n",
       "    </tr>\n",
       "    <tr>\n",
       "      <th>num_apts_next_hour</th>\n",
       "      <td>3.210000e+02</td>\n",
       "      <td>2.760000e+02</td>\n",
       "      <td>1.490000e+02</td>\n",
       "      <td>3.660000e+02</td>\n",
       "      <td>5.840000e+02</td>\n",
       "    </tr>\n",
       "    <tr>\n",
       "      <th>num_apts_same_3hours</th>\n",
       "      <td>8.660000e+02</td>\n",
       "      <td>7.930000e+02</td>\n",
       "      <td>3.680000e+02</td>\n",
       "      <td>1.124000e+03</td>\n",
       "      <td>1.165000e+03</td>\n",
       "    </tr>\n",
       "    <tr>\n",
       "      <th>num_apts_prev_3hours</th>\n",
       "      <td>8.830000e+02</td>\n",
       "      <td>7.320000e+02</td>\n",
       "      <td>7.100000e+01</td>\n",
       "      <td>1.101000e+03</td>\n",
       "      <td>8.680000e+02</td>\n",
       "    </tr>\n",
       "    <tr>\n",
       "      <th>num_apts_next_3hours</th>\n",
       "      <td>3.700000e+02</td>\n",
       "      <td>5.910000e+02</td>\n",
       "      <td>5.250000e+02</td>\n",
       "      <td>1.321000e+03</td>\n",
       "      <td>7.080000e+02</td>\n",
       "    </tr>\n",
       "    <tr>\n",
       "      <th>num_apts_same_9hours</th>\n",
       "      <td>1.627000e+03</td>\n",
       "      <td>1.684000e+03</td>\n",
       "      <td>1.004000e+03</td>\n",
       "      <td>2.767000e+03</td>\n",
       "      <td>2.027000e+03</td>\n",
       "    </tr>\n",
       "    <tr>\n",
       "      <th>num_apts_prev_9hours</th>\n",
       "      <td>1.287000e+03</td>\n",
       "      <td>1.103000e+03</td>\n",
       "      <td>1.090000e+02</td>\n",
       "      <td>1.480000e+03</td>\n",
       "      <td>1.826000e+03</td>\n",
       "    </tr>\n",
       "    <tr>\n",
       "      <th>num_apts_next_9hours</th>\n",
       "      <td>4.070000e+02</td>\n",
       "      <td>7.120000e+02</td>\n",
       "      <td>1.144000e+03</td>\n",
       "      <td>1.382000e+03</td>\n",
       "      <td>8.030000e+02</td>\n",
       "    </tr>\n",
       "    <tr>\n",
       "      <th>num_apts_same_day</th>\n",
       "      <td>1.748000e+03</td>\n",
       "      <td>1.865000e+03</td>\n",
       "      <td>1.340000e+03</td>\n",
       "      <td>3.738000e+03</td>\n",
       "      <td>2.657000e+03</td>\n",
       "    </tr>\n",
       "    <tr>\n",
       "      <th>num_apts_prev_day</th>\n",
       "      <td>1.560000e+03</td>\n",
       "      <td>1.227000e+03</td>\n",
       "      <td>2.681000e+03</td>\n",
       "      <td>2.446000e+03</td>\n",
       "      <td>2.010000e+03</td>\n",
       "    </tr>\n",
       "    <tr>\n",
       "      <th>num_apts_next_day</th>\n",
       "      <td>1.266000e+03</td>\n",
       "      <td>2.080000e+03</td>\n",
       "      <td>1.307000e+03</td>\n",
       "      <td>2.523000e+03</td>\n",
       "      <td>2.048000e+03</td>\n",
       "    </tr>\n",
       "    <tr>\n",
       "      <th>num_apts_same_2days</th>\n",
       "      <td>2.826000e+03</td>\n",
       "      <td>3.307000e+03</td>\n",
       "      <td>3.988000e+03</td>\n",
       "      <td>4.969000e+03</td>\n",
       "      <td>4.058000e+03</td>\n",
       "    </tr>\n",
       "    <tr>\n",
       "      <th>...</th>\n",
       "      <td>...</td>\n",
       "      <td>...</td>\n",
       "      <td>...</td>\n",
       "      <td>...</td>\n",
       "      <td>...</td>\n",
       "    </tr>\n",
       "    <tr>\n",
       "      <th>price_q100_clust_all</th>\n",
       "      <td>2.800000e-01</td>\n",
       "      <td>2.400000e-01</td>\n",
       "      <td>3.000000e-02</td>\n",
       "      <td>2.600000e-01</td>\n",
       "      <td>4.000000e-01</td>\n",
       "    </tr>\n",
       "    <tr>\n",
       "      <th>price_q10_clust</th>\n",
       "      <td>3.000000e-01</td>\n",
       "      <td>0.000000e+00</td>\n",
       "      <td>1.000000e-01</td>\n",
       "      <td>0.000000e+00</td>\n",
       "      <td>3.000000e-01</td>\n",
       "    </tr>\n",
       "    <tr>\n",
       "      <th>price_q100_clust</th>\n",
       "      <td>3.600000e-01</td>\n",
       "      <td>2.000000e-02</td>\n",
       "      <td>1.500000e-01</td>\n",
       "      <td>5.000000e-02</td>\n",
       "      <td>3.800000e-01</td>\n",
       "    </tr>\n",
       "    <tr>\n",
       "      <th>area_density</th>\n",
       "      <td>2.039000e+03</td>\n",
       "      <td>2.101000e+03</td>\n",
       "      <td>1.443000e+03</td>\n",
       "      <td>2.173000e+03</td>\n",
       "      <td>2.501000e+03</td>\n",
       "    </tr>\n",
       "    <tr>\n",
       "      <th>area_density_all</th>\n",
       "      <td>6.907000e+03</td>\n",
       "      <td>8.064000e+03</td>\n",
       "      <td>7.468000e+03</td>\n",
       "      <td>8.827000e+03</td>\n",
       "      <td>9.120000e+03</td>\n",
       "    </tr>\n",
       "    <tr>\n",
       "      <th>area_density_time</th>\n",
       "      <td>1.430000e+02</td>\n",
       "      <td>1.960000e+02</td>\n",
       "      <td>9.500000e+01</td>\n",
       "      <td>1.620000e+02</td>\n",
       "      <td>1.840000e+02</td>\n",
       "    </tr>\n",
       "    <tr>\n",
       "      <th>area_density_time_all</th>\n",
       "      <td>4.680000e+02</td>\n",
       "      <td>5.860000e+02</td>\n",
       "      <td>4.290000e+02</td>\n",
       "      <td>5.620000e+02</td>\n",
       "      <td>6.810000e+02</td>\n",
       "    </tr>\n",
       "    <tr>\n",
       "      <th>price_area_q</th>\n",
       "      <td>5.129966e-01</td>\n",
       "      <td>3.331747e-02</td>\n",
       "      <td>1.919612e-01</td>\n",
       "      <td>3.681546e-02</td>\n",
       "      <td>4.266293e-01</td>\n",
       "    </tr>\n",
       "    <tr>\n",
       "      <th>price_area_q_all</th>\n",
       "      <td>3.366150e-01</td>\n",
       "      <td>2.238343e-01</td>\n",
       "      <td>4.365292e-02</td>\n",
       "      <td>2.537669e-01</td>\n",
       "      <td>4.539474e-01</td>\n",
       "    </tr>\n",
       "    <tr>\n",
       "      <th>price_area_time_q</th>\n",
       "      <td>5.104895e-01</td>\n",
       "      <td>3.061224e-02</td>\n",
       "      <td>2.210526e-01</td>\n",
       "      <td>5.555556e-02</td>\n",
       "      <td>5.217391e-01</td>\n",
       "    </tr>\n",
       "    <tr>\n",
       "      <th>price_area_time_q_all</th>\n",
       "      <td>3.141026e-01</td>\n",
       "      <td>2.303754e-01</td>\n",
       "      <td>4.895105e-02</td>\n",
       "      <td>2.597865e-01</td>\n",
       "      <td>4.904552e-01</td>\n",
       "    </tr>\n",
       "    <tr>\n",
       "      <th>num_apts_at_manager</th>\n",
       "      <td>6.200000e+01</td>\n",
       "      <td>2.600000e+01</td>\n",
       "      <td>6.387000e+03</td>\n",
       "      <td>3.060000e+02</td>\n",
       "      <td>6.000000e+01</td>\n",
       "    </tr>\n",
       "    <tr>\n",
       "      <th>num_apts_at_manager_q10</th>\n",
       "      <td>3.000000e-01</td>\n",
       "      <td>1.000000e-01</td>\n",
       "      <td>9.000000e-01</td>\n",
       "      <td>7.000000e-01</td>\n",
       "      <td>3.000000e-01</td>\n",
       "    </tr>\n",
       "    <tr>\n",
       "      <th>num_apts_at_manager_q100</th>\n",
       "      <td>3.300000e-01</td>\n",
       "      <td>1.600000e-01</td>\n",
       "      <td>9.500000e-01</td>\n",
       "      <td>7.500000e-01</td>\n",
       "      <td>3.200000e-01</td>\n",
       "    </tr>\n",
       "    <tr>\n",
       "      <th>private_manager</th>\n",
       "      <td>0.000000e+00</td>\n",
       "      <td>0.000000e+00</td>\n",
       "      <td>0.000000e+00</td>\n",
       "      <td>0.000000e+00</td>\n",
       "      <td>0.000000e+00</td>\n",
       "    </tr>\n",
       "    <tr>\n",
       "      <th>manager_code</th>\n",
       "      <td>3.076000e+03</td>\n",
       "      <td>3.593000e+03</td>\n",
       "      <td>3.959000e+03</td>\n",
       "      <td>1.139000e+03</td>\n",
       "      <td>2.876000e+03</td>\n",
       "    </tr>\n",
       "    <tr>\n",
       "      <th>num_photos</th>\n",
       "      <td>8.000000e+00</td>\n",
       "      <td>3.000000e+00</td>\n",
       "      <td>1.000000e+00</td>\n",
       "      <td>4.000000e+00</td>\n",
       "      <td>6.000000e+00</td>\n",
       "    </tr>\n",
       "    <tr>\n",
       "      <th>has_photos</th>\n",
       "      <td>1.000000e+00</td>\n",
       "      <td>1.000000e+00</td>\n",
       "      <td>1.000000e+00</td>\n",
       "      <td>1.000000e+00</td>\n",
       "      <td>1.000000e+00</td>\n",
       "    </tr>\n",
       "    <tr>\n",
       "      <th>photos_per_room</th>\n",
       "      <td>4.000000e+00</td>\n",
       "      <td>1.000000e+00</td>\n",
       "      <td>1.000000e+00</td>\n",
       "      <td>1.333333e+00</td>\n",
       "      <td>3.000000e+00</td>\n",
       "    </tr>\n",
       "    <tr>\n",
       "      <th>price</th>\n",
       "      <td>2.950000e+03</td>\n",
       "      <td>2.850000e+03</td>\n",
       "      <td>2.295000e+03</td>\n",
       "      <td>2.900000e+03</td>\n",
       "      <td>3.254000e+03</td>\n",
       "    </tr>\n",
       "    <tr>\n",
       "      <th>log_price</th>\n",
       "      <td>7.989560e+00</td>\n",
       "      <td>7.955074e+00</td>\n",
       "      <td>7.738488e+00</td>\n",
       "      <td>7.972466e+00</td>\n",
       "      <td>8.087640e+00</td>\n",
       "    </tr>\n",
       "    <tr>\n",
       "      <th>price_q10_all</th>\n",
       "      <td>4.000000e-01</td>\n",
       "      <td>3.000000e-01</td>\n",
       "      <td>1.000000e-01</td>\n",
       "      <td>4.000000e-01</td>\n",
       "      <td>5.000000e-01</td>\n",
       "    </tr>\n",
       "    <tr>\n",
       "      <th>price_q100_all</th>\n",
       "      <td>4.200000e-01</td>\n",
       "      <td>3.900000e-01</td>\n",
       "      <td>1.700000e-01</td>\n",
       "      <td>4.100000e-01</td>\n",
       "      <td>5.400000e-01</td>\n",
       "    </tr>\n",
       "    <tr>\n",
       "      <th>price_q10</th>\n",
       "      <td>5.000000e-01</td>\n",
       "      <td>2.000000e-01</td>\n",
       "      <td>3.000000e-01</td>\n",
       "      <td>2.000000e-01</td>\n",
       "      <td>6.000000e-01</td>\n",
       "    </tr>\n",
       "    <tr>\n",
       "      <th>price_q100</th>\n",
       "      <td>5.100000e-01</td>\n",
       "      <td>2.600000e-01</td>\n",
       "      <td>3.900000e-01</td>\n",
       "      <td>2.800000e-01</td>\n",
       "      <td>6.200000e-01</td>\n",
       "    </tr>\n",
       "    <tr>\n",
       "      <th>saddr_num_words</th>\n",
       "      <td>3.000000e+00</td>\n",
       "      <td>3.000000e+00</td>\n",
       "      <td>3.000000e+00</td>\n",
       "      <td>3.000000e+00</td>\n",
       "      <td>3.000000e+00</td>\n",
       "    </tr>\n",
       "    <tr>\n",
       "      <th>saddr_has_number</th>\n",
       "      <td>1.000000e+00</td>\n",
       "      <td>1.000000e+00</td>\n",
       "      <td>1.000000e+00</td>\n",
       "      <td>1.000000e+00</td>\n",
       "      <td>1.000000e+00</td>\n",
       "    </tr>\n",
       "    <tr>\n",
       "      <th>saddr_has_ordinal</th>\n",
       "      <td>0.000000e+00</td>\n",
       "      <td>0.000000e+00</td>\n",
       "      <td>0.000000e+00</td>\n",
       "      <td>0.000000e+00</td>\n",
       "      <td>0.000000e+00</td>\n",
       "    </tr>\n",
       "    <tr>\n",
       "      <th>saddr_num_upper_words</th>\n",
       "      <td>0.000000e+00</td>\n",
       "      <td>0.000000e+00</td>\n",
       "      <td>0.000000e+00</td>\n",
       "      <td>0.000000e+00</td>\n",
       "      <td>0.000000e+00</td>\n",
       "    </tr>\n",
       "    <tr>\n",
       "      <th>daddr_saddr_same</th>\n",
       "      <td>0.000000e+00</td>\n",
       "      <td>0.000000e+00</td>\n",
       "      <td>0.000000e+00</td>\n",
       "      <td>0.000000e+00</td>\n",
       "      <td>0.000000e+00</td>\n",
       "    </tr>\n",
       "  </tbody>\n",
       "</table>\n",
       "<p>93 rows × 5 columns</p>\n",
       "</div>"
      ],
      "text/plain": [
       "id                                         0             1             2  \\\n",
       "listing_id                      7.142618e+06  7.210040e+06  7.174566e+06   \n",
       "bathrooms                       1.000000e+00  1.000000e+00  1.000000e+00   \n",
       "num_bathrooms_bucket            1.000000e+00  1.000000e+00  1.000000e+00   \n",
       "bedrooms                        1.000000e+00  2.000000e+00  0.000000e+00   \n",
       "num_bedrooms_bucket             1.000000e+00  2.000000e+00  0.000000e+00   \n",
       "num_apts_in_building            8.000000e+00           NaN           NaN   \n",
       "num_apts_in_building_q10        1.000000e-01           NaN           NaN   \n",
       "building_code                   5.535000e+03  0.000000e+00  0.000000e+00   \n",
       "created_month                   6.000000e+00  6.000000e+00  6.000000e+00   \n",
       "created_day_of_month            1.100000e+01  2.400000e+01  1.700000e+01   \n",
       "created_dow                     5.000000e+00  4.000000e+00  4.000000e+00   \n",
       "created_hour                    5.000000e+00  6.000000e+00  1.000000e+00   \n",
       "created_minute                  2.900000e+01  3.600000e+01  2.300000e+01   \n",
       "created_minute_of_the_day       3.290000e+02  3.960000e+02  8.300000e+01   \n",
       "created_hour_of_dataset         1.709000e+03  2.022000e+03  1.849000e+03   \n",
       "created_distance_from_peak      1.000000e+00  5.400000e+01  2.470000e+02   \n",
       "created_distance_from_peak_abs  1.000000e+00  5.400000e+01  2.470000e+02   \n",
       "num_apts_same_hour              3.580000e+02  2.380000e+02  1.360000e+02   \n",
       "num_apts_prev_hour              3.810000e+02  2.600000e+02  6.400000e+01   \n",
       "num_apts_next_hour              3.210000e+02  2.760000e+02  1.490000e+02   \n",
       "num_apts_same_3hours            8.660000e+02  7.930000e+02  3.680000e+02   \n",
       "num_apts_prev_3hours            8.830000e+02  7.320000e+02  7.100000e+01   \n",
       "num_apts_next_3hours            3.700000e+02  5.910000e+02  5.250000e+02   \n",
       "num_apts_same_9hours            1.627000e+03  1.684000e+03  1.004000e+03   \n",
       "num_apts_prev_9hours            1.287000e+03  1.103000e+03  1.090000e+02   \n",
       "num_apts_next_9hours            4.070000e+02  7.120000e+02  1.144000e+03   \n",
       "num_apts_same_day               1.748000e+03  1.865000e+03  1.340000e+03   \n",
       "num_apts_prev_day               1.560000e+03  1.227000e+03  2.681000e+03   \n",
       "num_apts_next_day               1.266000e+03  2.080000e+03  1.307000e+03   \n",
       "num_apts_same_2days             2.826000e+03  3.307000e+03  3.988000e+03   \n",
       "...                                      ...           ...           ...   \n",
       "price_q100_clust_all            2.800000e-01  2.400000e-01  3.000000e-02   \n",
       "price_q10_clust                 3.000000e-01  0.000000e+00  1.000000e-01   \n",
       "price_q100_clust                3.600000e-01  2.000000e-02  1.500000e-01   \n",
       "area_density                    2.039000e+03  2.101000e+03  1.443000e+03   \n",
       "area_density_all                6.907000e+03  8.064000e+03  7.468000e+03   \n",
       "area_density_time               1.430000e+02  1.960000e+02  9.500000e+01   \n",
       "area_density_time_all           4.680000e+02  5.860000e+02  4.290000e+02   \n",
       "price_area_q                    5.129966e-01  3.331747e-02  1.919612e-01   \n",
       "price_area_q_all                3.366150e-01  2.238343e-01  4.365292e-02   \n",
       "price_area_time_q               5.104895e-01  3.061224e-02  2.210526e-01   \n",
       "price_area_time_q_all           3.141026e-01  2.303754e-01  4.895105e-02   \n",
       "num_apts_at_manager             6.200000e+01  2.600000e+01  6.387000e+03   \n",
       "num_apts_at_manager_q10         3.000000e-01  1.000000e-01  9.000000e-01   \n",
       "num_apts_at_manager_q100        3.300000e-01  1.600000e-01  9.500000e-01   \n",
       "private_manager                 0.000000e+00  0.000000e+00  0.000000e+00   \n",
       "manager_code                    3.076000e+03  3.593000e+03  3.959000e+03   \n",
       "num_photos                      8.000000e+00  3.000000e+00  1.000000e+00   \n",
       "has_photos                      1.000000e+00  1.000000e+00  1.000000e+00   \n",
       "photos_per_room                 4.000000e+00  1.000000e+00  1.000000e+00   \n",
       "price                           2.950000e+03  2.850000e+03  2.295000e+03   \n",
       "log_price                       7.989560e+00  7.955074e+00  7.738488e+00   \n",
       "price_q10_all                   4.000000e-01  3.000000e-01  1.000000e-01   \n",
       "price_q100_all                  4.200000e-01  3.900000e-01  1.700000e-01   \n",
       "price_q10                       5.000000e-01  2.000000e-01  3.000000e-01   \n",
       "price_q100                      5.100000e-01  2.600000e-01  3.900000e-01   \n",
       "saddr_num_words                 3.000000e+00  3.000000e+00  3.000000e+00   \n",
       "saddr_has_number                1.000000e+00  1.000000e+00  1.000000e+00   \n",
       "saddr_has_ordinal               0.000000e+00  0.000000e+00  0.000000e+00   \n",
       "saddr_num_upper_words           0.000000e+00  0.000000e+00  0.000000e+00   \n",
       "daddr_saddr_same                0.000000e+00  0.000000e+00  0.000000e+00   \n",
       "\n",
       "id                                         3             5  \n",
       "listing_id                      7.191391e+06  7.171695e+06  \n",
       "bathrooms                       1.000000e+00  1.000000e+00  \n",
       "num_bathrooms_bucket            1.000000e+00  1.000000e+00  \n",
       "bedrooms                        2.000000e+00  1.000000e+00  \n",
       "num_bedrooms_bucket             2.000000e+00  1.000000e+00  \n",
       "num_apts_in_building            1.400000e+01  1.710000e+02  \n",
       "num_apts_in_building_q10        2.000000e-01  8.000000e-01  \n",
       "building_code                   1.133800e+04  5.876000e+03  \n",
       "created_month                   6.000000e+00  6.000000e+00  \n",
       "created_day_of_month            2.100000e+01  1.600000e+01  \n",
       "created_dow                     1.000000e+00  3.000000e+00  \n",
       "created_hour                    5.000000e+00  7.000000e+00  \n",
       "created_minute                  6.000000e+00  2.400000e+01  \n",
       "created_minute_of_the_day       3.060000e+02  4.440000e+02  \n",
       "created_hour_of_dataset         1.949000e+03  1.831000e+03  \n",
       "created_distance_from_peak      1.440000e+02  6.000000e+00  \n",
       "created_distance_from_peak_abs  1.440000e+02  6.000000e+00  \n",
       "num_apts_same_hour              4.710000e+02  4.290000e+02  \n",
       "num_apts_prev_hour              4.230000e+02  3.120000e+02  \n",
       "num_apts_next_hour              3.660000e+02  5.840000e+02  \n",
       "num_apts_same_3hours            1.124000e+03  1.165000e+03  \n",
       "num_apts_prev_3hours            1.101000e+03  8.680000e+02  \n",
       "num_apts_next_3hours            1.321000e+03  7.080000e+02  \n",
       "num_apts_same_9hours            2.767000e+03  2.027000e+03  \n",
       "num_apts_prev_9hours            1.480000e+03  1.826000e+03  \n",
       "num_apts_next_9hours            1.382000e+03  8.030000e+02  \n",
       "num_apts_same_day               3.738000e+03  2.657000e+03  \n",
       "num_apts_prev_day               2.446000e+03  2.010000e+03  \n",
       "num_apts_next_day               2.523000e+03  2.048000e+03  \n",
       "num_apts_same_2days             4.969000e+03  4.058000e+03  \n",
       "...                                      ...           ...  \n",
       "price_q100_clust_all            2.600000e-01  4.000000e-01  \n",
       "price_q10_clust                 0.000000e+00  3.000000e-01  \n",
       "price_q100_clust                5.000000e-02  3.800000e-01  \n",
       "area_density                    2.173000e+03  2.501000e+03  \n",
       "area_density_all                8.827000e+03  9.120000e+03  \n",
       "area_density_time               1.620000e+02  1.840000e+02  \n",
       "area_density_time_all           5.620000e+02  6.810000e+02  \n",
       "price_area_q                    3.681546e-02  4.266293e-01  \n",
       "price_area_q_all                2.537669e-01  4.539474e-01  \n",
       "price_area_time_q               5.555556e-02  5.217391e-01  \n",
       "price_area_time_q_all           2.597865e-01  4.904552e-01  \n",
       "num_apts_at_manager             3.060000e+02  6.000000e+01  \n",
       "num_apts_at_manager_q10         7.000000e-01  3.000000e-01  \n",
       "num_apts_at_manager_q100        7.500000e-01  3.200000e-01  \n",
       "private_manager                 0.000000e+00  0.000000e+00  \n",
       "manager_code                    1.139000e+03  2.876000e+03  \n",
       "num_photos                      4.000000e+00  6.000000e+00  \n",
       "has_photos                      1.000000e+00  1.000000e+00  \n",
       "photos_per_room                 1.333333e+00  3.000000e+00  \n",
       "price                           2.900000e+03  3.254000e+03  \n",
       "log_price                       7.972466e+00  8.087640e+00  \n",
       "price_q10_all                   4.000000e-01  5.000000e-01  \n",
       "price_q100_all                  4.100000e-01  5.400000e-01  \n",
       "price_q10                       2.000000e-01  6.000000e-01  \n",
       "price_q100                      2.800000e-01  6.200000e-01  \n",
       "saddr_num_words                 3.000000e+00  3.000000e+00  \n",
       "saddr_has_number                1.000000e+00  1.000000e+00  \n",
       "saddr_has_ordinal               0.000000e+00  0.000000e+00  \n",
       "saddr_num_upper_words           0.000000e+00  0.000000e+00  \n",
       "daddr_saddr_same                0.000000e+00  0.000000e+00  \n",
       "\n",
       "[93 rows x 5 columns]"
      ]
     },
     "execution_count": 109,
     "metadata": {},
     "output_type": "execute_result"
    }
   ],
   "source": [
    "tef.head().T"
   ]
  },
  {
   "cell_type": "code",
   "execution_count": 110,
   "metadata": {
    "collapsed": false
   },
   "outputs": [
    {
     "name": "stdout",
     "output_type": "stream",
     "text": [
      "(49352, 93)\n",
      "(74659, 93)\n"
     ]
    }
   ],
   "source": [
    "print trf.values.shape\n",
    "print tef.values.shape"
   ]
  },
  {
   "cell_type": "markdown",
   "metadata": {},
   "source": [
    "# Get Script Data"
   ]
  },
  {
   "cell_type": "code",
   "execution_count": 111,
   "metadata": {
    "collapsed": false
   },
   "outputs": [
    {
     "name": "stdout",
     "output_type": "stream",
     "text": [
      "(124011, 15)\n"
     ]
    }
   ],
   "source": [
    "data_path = \"input/\"\n",
    "train_file = data_path + \"train.json\"\n",
    "test_file = data_path + \"test.json\"\n",
    "train_df = pd.read_json(train_file)\n",
    "test_df = pd.read_json(test_file)\n",
    "test_df['interest_level'] = np.nan\n",
    "s_df = pd.concat([train_df, test_df])\n",
    "print(s_df.shape)"
   ]
  },
  {
   "cell_type": "code",
   "execution_count": 112,
   "metadata": {
    "collapsed": true
   },
   "outputs": [],
   "source": [
    "features_to_use  = [\"bathrooms\", \"bedrooms\", \"latitude\", \"longitude\", \"price\"]"
   ]
  },
  {
   "cell_type": "code",
   "execution_count": 113,
   "metadata": {
    "collapsed": false
   },
   "outputs": [],
   "source": [
    "# transformation of lat and lng #\n",
    "s_df[\"price_t\"] = s_df[\"price\"] / s_df[\"bedrooms\"] \n",
    "s_df[\"room_dif\"] = s_df[\"bedrooms\"] - s_df[\"bathrooms\"] \n",
    "s_df[\"room_sum\"] = s_df[\"bedrooms\"] + s_df[\"bathrooms\"] \n",
    "s_df[\"price_t1\"] = s_df[\"price\"] / s_df[\"room_sum\"]\n",
    "s_df[\"fold_t1\"] = s_df[\"bedrooms\"] / s_df[\"room_sum\"]"
   ]
  },
  {
   "cell_type": "code",
   "execution_count": 114,
   "metadata": {
    "collapsed": true
   },
   "outputs": [],
   "source": [
    "s_df[\"num_photos\"] = s_df[\"photos\"].apply(len)\n",
    "s_df[\"num_features\"] = s_df[\"features\"].apply(len)\n",
    "s_df[\"num_description_words\"] = s_df[\"description\"].apply(lambda x: len(x.split(\" \")))\n",
    "s_df[\"created\"] = pd.to_datetime(s_df[\"created\"])\n",
    "s_df[\"passed\"] = s_df[\"created\"].max() - s_df[\"created\"]\n",
    "s_df[\"created_year\"] = s_df[\"created\"].dt.year\n",
    "s_df[\"created_month\"] = s_df[\"created\"].dt.month\n",
    "s_df[\"created_day\"] = s_df[\"created\"].dt.day\n",
    "s_df[\"created_hour\"] = s_df[\"created\"].dt.hour"
   ]
  },
  {
   "cell_type": "code",
   "execution_count": 115,
   "metadata": {
    "collapsed": true
   },
   "outputs": [],
   "source": [
    "features_to_use.extend([\"price_t\",\"num_photos\", \"num_features\", \"num_description_words\", \n",
    "                        \"created_year\", \"created_month\", \"created_day\", \"created_hour\",\n",
    "                        \"listing_id\",'room_dif','room_sum','price_t1'])"
   ]
  },
  {
   "cell_type": "code",
   "execution_count": 116,
   "metadata": {
    "collapsed": false
   },
   "outputs": [],
   "source": [
    "categorical = [\"display_address\", \"manager_id\", \"building_id\", \"street_address\"]\n",
    "for f in categorical:\n",
    "        if s_df[f].dtype=='object':\n",
    "            #print(f)\n",
    "            lbl = sklearn.preprocessing.LabelEncoder()\n",
    "            lbl.fit(list(s_df[f].values) + list(s_df[f].values))\n",
    "            s_df[f] = lbl.transform(list(s_df[f].values))\n",
    "            features_to_use.append(f)"
   ]
  },
  {
   "cell_type": "code",
   "execution_count": 117,
   "metadata": {
    "collapsed": false
   },
   "outputs": [
    {
     "name": "stdout",
     "output_type": "stream",
     "text": [
      "10                                                         \n",
      "10000     Doorman Elevator Fitness_Center Cats_Allowed D...\n",
      "100004    Laundry_In_Building Dishwasher Hardwood_Floors...\n",
      "100007                               Hardwood_Floors No_Fee\n",
      "100013                                              Pre-War\n",
      "Name: features, dtype: object\n"
     ]
    }
   ],
   "source": [
    "s_df['features'] = s_df[\"features\"].apply(lambda x: \" \".join([\"_\".join(i.split(\" \")) for i in x]))\n",
    "print(s_df[\"features\"].head())\n",
    "tfidf = CountVectorizer(stop_words='english', max_features=400)\n",
    "s_df_sparse = tfidf.fit_transform(s_df[\"features\"])"
   ]
  },
  {
   "cell_type": "code",
   "execution_count": 137,
   "metadata": {
    "collapsed": false
   },
   "outputs": [],
   "source": [
    "with open(\"tmp/tfidf_vocabulary_features.json\", \"w\") as json_file:\n",
    "    json.dump(tfidf.vocabulary_, json_file)"
   ]
  },
  {
   "cell_type": "code",
   "execution_count": 118,
   "metadata": {
    "collapsed": false
   },
   "outputs": [],
   "source": [
    "s_X = scipy.sparse.hstack([s_df[features_to_use], s_df_sparse]).tocsr()"
   ]
  },
  {
   "cell_type": "code",
   "execution_count": 119,
   "metadata": {
    "collapsed": false
   },
   "outputs": [],
   "source": [
    "sd = pd.DataFrame(s_X.todense(), index=d.index)"
   ]
  },
  {
   "cell_type": "code",
   "execution_count": 120,
   "metadata": {
    "collapsed": false
   },
   "outputs": [
    {
     "name": "stdout",
     "output_type": "stream",
     "text": [
      "(124011, 421)\n"
     ]
    }
   ],
   "source": [
    "print sd.values.shape"
   ]
  },
  {
   "cell_type": "code",
   "execution_count": 121,
   "metadata": {
    "collapsed": false
   },
   "outputs": [],
   "source": [
    "s_feature_names = features_to_use\n",
    "s_feature_names += ['tfidf_{0:03}'.format(i) for i in range(400)]\n",
    "sd.columns = s_feature_names"
   ]
  },
  {
   "cell_type": "code",
   "execution_count": 122,
   "metadata": {
    "collapsed": false
   },
   "outputs": [
    {
     "data": {
      "text/html": [
       "<div>\n",
       "<table border=\"1\" class=\"dataframe\">\n",
       "  <thead>\n",
       "    <tr style=\"text-align: right;\">\n",
       "      <th></th>\n",
       "      <th>bathrooms</th>\n",
       "      <th>bedrooms</th>\n",
       "      <th>latitude</th>\n",
       "      <th>longitude</th>\n",
       "      <th>price</th>\n",
       "      <th>price_t</th>\n",
       "      <th>num_photos</th>\n",
       "      <th>num_features</th>\n",
       "      <th>num_description_words</th>\n",
       "      <th>created_year</th>\n",
       "      <th>...</th>\n",
       "      <th>tfidf_390</th>\n",
       "      <th>tfidf_391</th>\n",
       "      <th>tfidf_392</th>\n",
       "      <th>tfidf_393</th>\n",
       "      <th>tfidf_394</th>\n",
       "      <th>tfidf_395</th>\n",
       "      <th>tfidf_396</th>\n",
       "      <th>tfidf_397</th>\n",
       "      <th>tfidf_398</th>\n",
       "      <th>tfidf_399</th>\n",
       "    </tr>\n",
       "    <tr>\n",
       "      <th>id</th>\n",
       "      <th></th>\n",
       "      <th></th>\n",
       "      <th></th>\n",
       "      <th></th>\n",
       "      <th></th>\n",
       "      <th></th>\n",
       "      <th></th>\n",
       "      <th></th>\n",
       "      <th></th>\n",
       "      <th></th>\n",
       "      <th></th>\n",
       "      <th></th>\n",
       "      <th></th>\n",
       "      <th></th>\n",
       "      <th></th>\n",
       "      <th></th>\n",
       "      <th></th>\n",
       "      <th></th>\n",
       "      <th></th>\n",
       "      <th></th>\n",
       "      <th></th>\n",
       "    </tr>\n",
       "  </thead>\n",
       "  <tbody>\n",
       "    <tr>\n",
       "      <th>0</th>\n",
       "      <td>1.5</td>\n",
       "      <td>3.0</td>\n",
       "      <td>40.7145</td>\n",
       "      <td>-73.9425</td>\n",
       "      <td>3000.0</td>\n",
       "      <td>1000.0</td>\n",
       "      <td>5.0</td>\n",
       "      <td>0.0</td>\n",
       "      <td>95.0</td>\n",
       "      <td>2016.0</td>\n",
       "      <td>...</td>\n",
       "      <td>0.0</td>\n",
       "      <td>0.0</td>\n",
       "      <td>0.0</td>\n",
       "      <td>0.0</td>\n",
       "      <td>0.0</td>\n",
       "      <td>0.0</td>\n",
       "      <td>0.0</td>\n",
       "      <td>0.0</td>\n",
       "      <td>0.0</td>\n",
       "      <td>0.0</td>\n",
       "    </tr>\n",
       "    <tr>\n",
       "      <th>1</th>\n",
       "      <td>1.0</td>\n",
       "      <td>2.0</td>\n",
       "      <td>40.7947</td>\n",
       "      <td>-73.9667</td>\n",
       "      <td>5465.0</td>\n",
       "      <td>2732.5</td>\n",
       "      <td>11.0</td>\n",
       "      <td>5.0</td>\n",
       "      <td>9.0</td>\n",
       "      <td>2016.0</td>\n",
       "      <td>...</td>\n",
       "      <td>0.0</td>\n",
       "      <td>0.0</td>\n",
       "      <td>0.0</td>\n",
       "      <td>0.0</td>\n",
       "      <td>0.0</td>\n",
       "      <td>0.0</td>\n",
       "      <td>0.0</td>\n",
       "      <td>0.0</td>\n",
       "      <td>0.0</td>\n",
       "      <td>0.0</td>\n",
       "    </tr>\n",
       "    <tr>\n",
       "      <th>2</th>\n",
       "      <td>1.0</td>\n",
       "      <td>1.0</td>\n",
       "      <td>40.7388</td>\n",
       "      <td>-74.0018</td>\n",
       "      <td>2850.0</td>\n",
       "      <td>2850.0</td>\n",
       "      <td>8.0</td>\n",
       "      <td>4.0</td>\n",
       "      <td>94.0</td>\n",
       "      <td>2016.0</td>\n",
       "      <td>...</td>\n",
       "      <td>0.0</td>\n",
       "      <td>0.0</td>\n",
       "      <td>0.0</td>\n",
       "      <td>0.0</td>\n",
       "      <td>0.0</td>\n",
       "      <td>0.0</td>\n",
       "      <td>0.0</td>\n",
       "      <td>0.0</td>\n",
       "      <td>0.0</td>\n",
       "      <td>0.0</td>\n",
       "    </tr>\n",
       "    <tr>\n",
       "      <th>3</th>\n",
       "      <td>1.0</td>\n",
       "      <td>1.0</td>\n",
       "      <td>40.7539</td>\n",
       "      <td>-73.9677</td>\n",
       "      <td>3275.0</td>\n",
       "      <td>3275.0</td>\n",
       "      <td>3.0</td>\n",
       "      <td>2.0</td>\n",
       "      <td>80.0</td>\n",
       "      <td>2016.0</td>\n",
       "      <td>...</td>\n",
       "      <td>0.0</td>\n",
       "      <td>0.0</td>\n",
       "      <td>0.0</td>\n",
       "      <td>0.0</td>\n",
       "      <td>0.0</td>\n",
       "      <td>0.0</td>\n",
       "      <td>0.0</td>\n",
       "      <td>0.0</td>\n",
       "      <td>0.0</td>\n",
       "      <td>0.0</td>\n",
       "    </tr>\n",
       "    <tr>\n",
       "      <th>4</th>\n",
       "      <td>1.0</td>\n",
       "      <td>4.0</td>\n",
       "      <td>40.8241</td>\n",
       "      <td>-73.9493</td>\n",
       "      <td>3350.0</td>\n",
       "      <td>837.5</td>\n",
       "      <td>3.0</td>\n",
       "      <td>1.0</td>\n",
       "      <td>68.0</td>\n",
       "      <td>2016.0</td>\n",
       "      <td>...</td>\n",
       "      <td>0.0</td>\n",
       "      <td>0.0</td>\n",
       "      <td>0.0</td>\n",
       "      <td>0.0</td>\n",
       "      <td>0.0</td>\n",
       "      <td>0.0</td>\n",
       "      <td>0.0</td>\n",
       "      <td>0.0</td>\n",
       "      <td>0.0</td>\n",
       "      <td>0.0</td>\n",
       "    </tr>\n",
       "  </tbody>\n",
       "</table>\n",
       "<p>5 rows × 421 columns</p>\n",
       "</div>"
      ],
      "text/plain": [
       "    bathrooms  bedrooms  latitude  longitude   price  price_t  num_photos  \\\n",
       "id                                                                          \n",
       "0         1.5       3.0   40.7145   -73.9425  3000.0   1000.0         5.0   \n",
       "1         1.0       2.0   40.7947   -73.9667  5465.0   2732.5        11.0   \n",
       "2         1.0       1.0   40.7388   -74.0018  2850.0   2850.0         8.0   \n",
       "3         1.0       1.0   40.7539   -73.9677  3275.0   3275.0         3.0   \n",
       "4         1.0       4.0   40.8241   -73.9493  3350.0    837.5         3.0   \n",
       "\n",
       "    num_features  num_description_words  created_year    ...      tfidf_390  \\\n",
       "id                                                       ...                  \n",
       "0            0.0                   95.0        2016.0    ...            0.0   \n",
       "1            5.0                    9.0        2016.0    ...            0.0   \n",
       "2            4.0                   94.0        2016.0    ...            0.0   \n",
       "3            2.0                   80.0        2016.0    ...            0.0   \n",
       "4            1.0                   68.0        2016.0    ...            0.0   \n",
       "\n",
       "    tfidf_391  tfidf_392  tfidf_393  tfidf_394  tfidf_395  tfidf_396  \\\n",
       "id                                                                     \n",
       "0         0.0        0.0        0.0        0.0        0.0        0.0   \n",
       "1         0.0        0.0        0.0        0.0        0.0        0.0   \n",
       "2         0.0        0.0        0.0        0.0        0.0        0.0   \n",
       "3         0.0        0.0        0.0        0.0        0.0        0.0   \n",
       "4         0.0        0.0        0.0        0.0        0.0        0.0   \n",
       "\n",
       "    tfidf_397  tfidf_398  tfidf_399  \n",
       "id                                   \n",
       "0         0.0        0.0        0.0  \n",
       "1         0.0        0.0        0.0  \n",
       "2         0.0        0.0        0.0  \n",
       "3         0.0        0.0        0.0  \n",
       "4         0.0        0.0        0.0  \n",
       "\n",
       "[5 rows x 421 columns]"
      ]
     },
     "execution_count": 122,
     "metadata": {},
     "output_type": "execute_result"
    }
   ],
   "source": [
    "sd.head()"
   ]
  },
  {
   "cell_type": "markdown",
   "metadata": {},
   "source": [
    "# Combine Data Sets"
   ]
  },
  {
   "cell_type": "code",
   "execution_count": 123,
   "metadata": {
    "collapsed": true
   },
   "outputs": [],
   "source": [
    "del sd['bathrooms']\n",
    "del sd['bedrooms']\n",
    "del sd['created_month']\n",
    "del sd['created_hour']\n",
    "del sd['num_features']\n",
    "del sd['latitude']\n",
    "del sd['longitude']\n",
    "del sd['num_photos']\n",
    "del sd['price']"
   ]
  },
  {
   "cell_type": "code",
   "execution_count": 124,
   "metadata": {
    "collapsed": false
   },
   "outputs": [],
   "source": [
    "target_num_map = {'high':0, 'medium':1, 'low':2}\n",
    "trln = np.array(trl.apply(lambda x: target_num_map[x]))"
   ]
  },
  {
   "cell_type": "code",
   "execution_count": 125,
   "metadata": {
    "collapsed": false
   },
   "outputs": [],
   "source": [
    "combined_tr_f = pd.merge(trf, sd, left_index=True, right_index=True)"
   ]
  },
  {
   "cell_type": "code",
   "execution_count": 126,
   "metadata": {
    "collapsed": false
   },
   "outputs": [],
   "source": [
    "combined_te_f = pd.merge(tef, sd, left_index=True, right_index=True)"
   ]
  },
  {
   "cell_type": "code",
   "execution_count": 127,
   "metadata": {
    "collapsed": true
   },
   "outputs": [],
   "source": [
    "combined_tr_f['interest_level'] = trln\n",
    "combined_te_f['interest_level'] = np.nan"
   ]
  },
  {
   "cell_type": "code",
   "execution_count": 128,
   "metadata": {
    "collapsed": false
   },
   "outputs": [
    {
     "name": "stdout",
     "output_type": "stream",
     "text": [
      "(49352, 506)\n",
      "(74659, 506)\n"
     ]
    }
   ],
   "source": [
    "print combined_tr_f.values.shape\n",
    "print combined_te_f.values.shape"
   ]
  },
  {
   "cell_type": "code",
   "execution_count": 129,
   "metadata": {
    "collapsed": true
   },
   "outputs": [],
   "source": [
    "combined_tr_f.to_csv('tmp/combined_train.csv')\n",
    "combined_te_f.to_csv('tmp/combined_test.csv')"
   ]
  }
 ],
 "metadata": {
  "kernelspec": {
   "display_name": "Python 2",
   "language": "python",
   "name": "python2"
  },
  "language_info": {
   "codemirror_mode": {
    "name": "ipython",
    "version": 2
   },
   "file_extension": ".py",
   "mimetype": "text/x-python",
   "name": "python",
   "nbconvert_exporter": "python",
   "pygments_lexer": "ipython2",
   "version": "2.7.10"
  }
 },
 "nbformat": 4,
 "nbformat_minor": 1
}
