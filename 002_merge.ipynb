{
 "cells": [
  {
   "cell_type": "code",
   "execution_count": 1,
   "metadata": {
    "collapsed": false
   },
   "outputs": [
    {
     "name": "stderr",
     "output_type": "stream",
     "text": [
      "/usr/local/lib/python2.7/site-packages/matplotlib/font_manager.py:273: UserWarning: Matplotlib is building the font cache using fc-list. This may take a moment.\n",
      "  warnings.warn('Matplotlib is building the font cache using fc-list. This may take a moment.')\n"
     ]
    }
   ],
   "source": [
    "import base64\n",
    "import datetime\n",
    "import json\n",
    "import os\n",
    "import random\n",
    "import time\n",
    "\n",
    "import scipy\n",
    "from scipy import ndimage\n",
    "import numpy as np\n",
    "import pandas as pd\n",
    "import sklearn\n",
    "import matplotlib as mpl\n",
    "import matplotlib.pyplot as plt\n",
    "from pylab import rcParams\n",
    "import seaborn as sns\n",
    "import statsmodels as sm\n",
    "from pylab import rcParams\n",
    "from pylab import *\n",
    "from matplotlib.dates import date2num , DateFormatter\n",
    "from PIL import Image\n",
    "\n",
    "np.random.seed(1337)\n",
    "\n",
    "%matplotlib inline\n",
    "sns.set(font_scale=1.0)\n",
    "rcParams['figure.figsize'] = 8, 6\n",
    "sns.set_style('whitegrid')\n",
    "sns.set_palette(sns.color_palette('muted'))"
   ]
  },
  {
   "cell_type": "code",
   "execution_count": 2,
   "metadata": {
    "collapsed": false
   },
   "outputs": [
    {
     "name": "stdout",
     "output_type": "stream",
     "text": [
      "49352\n"
     ]
    }
   ],
   "source": [
    "tr = pd.read_json('input/train.json', convert_dates=['created'])\n",
    "print len(tr)"
   ]
  },
  {
   "cell_type": "code",
   "execution_count": 3,
   "metadata": {
    "collapsed": false
   },
   "outputs": [
    {
     "name": "stdout",
     "output_type": "stream",
     "text": [
      "74659\n"
     ]
    }
   ],
   "source": [
    "te = pd.read_json('input/test.json', convert_dates=['created'])\n",
    "te['interest_level'] = np.nan\n",
    "print len(te)"
   ]
  },
  {
   "cell_type": "code",
   "execution_count": 4,
   "metadata": {
    "collapsed": false
   },
   "outputs": [
    {
     "name": "stdout",
     "output_type": "stream",
     "text": [
      "124011\n"
     ]
    }
   ],
   "source": [
    "d = pd.concat([tr, te])\n",
    "print len(d)"
   ]
  },
  {
   "cell_type": "code",
   "execution_count": 5,
   "metadata": {
    "collapsed": false
   },
   "outputs": [
    {
     "data": {
      "text/plain": [
       "bathrooms                 float64\n",
       "bedrooms                    int64\n",
       "building_id                object\n",
       "created            datetime64[ns]\n",
       "description                object\n",
       "display_address            object\n",
       "features                   object\n",
       "interest_level             object\n",
       "latitude                  float64\n",
       "listing_id                  int64\n",
       "longitude                 float64\n",
       "manager_id                 object\n",
       "photos                     object\n",
       "price                       int64\n",
       "street_address             object\n",
       "dtype: object"
      ]
     },
     "execution_count": 5,
     "metadata": {},
     "output_type": "execute_result"
    }
   ],
   "source": [
    "d.dtypes"
   ]
  },
  {
   "cell_type": "code",
   "execution_count": 6,
   "metadata": {
    "collapsed": false
   },
   "outputs": [
    {
     "data": {
      "text/html": [
       "<div>\n",
       "<table border=\"1\" class=\"dataframe\">\n",
       "  <thead>\n",
       "    <tr style=\"text-align: right;\">\n",
       "      <th></th>\n",
       "      <th>10</th>\n",
       "      <th>10000</th>\n",
       "      <th>100004</th>\n",
       "      <th>100007</th>\n",
       "      <th>100013</th>\n",
       "    </tr>\n",
       "  </thead>\n",
       "  <tbody>\n",
       "    <tr>\n",
       "      <th>bathrooms</th>\n",
       "      <td>1.5</td>\n",
       "      <td>1</td>\n",
       "      <td>1</td>\n",
       "      <td>1</td>\n",
       "      <td>1</td>\n",
       "    </tr>\n",
       "    <tr>\n",
       "      <th>bedrooms</th>\n",
       "      <td>3</td>\n",
       "      <td>2</td>\n",
       "      <td>1</td>\n",
       "      <td>1</td>\n",
       "      <td>4</td>\n",
       "    </tr>\n",
       "    <tr>\n",
       "      <th>building_id</th>\n",
       "      <td>53a5b119ba8f7b61d4e010512e0dfc85</td>\n",
       "      <td>c5c8a357cba207596b04d1afd1e4f130</td>\n",
       "      <td>c3ba40552e2120b0acfc3cb5730bb2aa</td>\n",
       "      <td>28d9ad350afeaab8027513a3e52ac8d5</td>\n",
       "      <td>0</td>\n",
       "    </tr>\n",
       "    <tr>\n",
       "      <th>created</th>\n",
       "      <td>2016-06-24 07:54:24</td>\n",
       "      <td>2016-06-12 12:19:27</td>\n",
       "      <td>2016-04-17 03:26:41</td>\n",
       "      <td>2016-04-18 02:22:02</td>\n",
       "      <td>2016-04-28 01:32:41</td>\n",
       "    </tr>\n",
       "    <tr>\n",
       "      <th>description</th>\n",
       "      <td>A Brand New 3 Bedroom 1.5 bath ApartmentEnjoy ...</td>\n",
       "      <td></td>\n",
       "      <td>Top Top West Village location, beautiful Pre-w...</td>\n",
       "      <td>Building Amenities - Garage - Garden - fitness...</td>\n",
       "      <td>Beautifully renovated 3 bedroom flex 4 bedroom...</td>\n",
       "    </tr>\n",
       "    <tr>\n",
       "      <th>display_address</th>\n",
       "      <td>Metropolitan Avenue</td>\n",
       "      <td>Columbus Avenue</td>\n",
       "      <td>W 13 Street</td>\n",
       "      <td>East 49th Street</td>\n",
       "      <td>West 143rd Street</td>\n",
       "    </tr>\n",
       "    <tr>\n",
       "      <th>features</th>\n",
       "      <td>[]</td>\n",
       "      <td>[Doorman, Elevator, Fitness Center, Cats Allow...</td>\n",
       "      <td>[Laundry In Building, Dishwasher, Hardwood Flo...</td>\n",
       "      <td>[Hardwood Floors, No Fee]</td>\n",
       "      <td>[Pre-War]</td>\n",
       "    </tr>\n",
       "    <tr>\n",
       "      <th>interest_level</th>\n",
       "      <td>medium</td>\n",
       "      <td>low</td>\n",
       "      <td>high</td>\n",
       "      <td>low</td>\n",
       "      <td>low</td>\n",
       "    </tr>\n",
       "    <tr>\n",
       "      <th>latitude</th>\n",
       "      <td>40.7145</td>\n",
       "      <td>40.7947</td>\n",
       "      <td>40.7388</td>\n",
       "      <td>40.7539</td>\n",
       "      <td>40.8241</td>\n",
       "    </tr>\n",
       "    <tr>\n",
       "      <th>listing_id</th>\n",
       "      <td>7211212</td>\n",
       "      <td>7150865</td>\n",
       "      <td>6887163</td>\n",
       "      <td>6888711</td>\n",
       "      <td>6934781</td>\n",
       "    </tr>\n",
       "    <tr>\n",
       "      <th>longitude</th>\n",
       "      <td>-73.9425</td>\n",
       "      <td>-73.9667</td>\n",
       "      <td>-74.0018</td>\n",
       "      <td>-73.9677</td>\n",
       "      <td>-73.9493</td>\n",
       "    </tr>\n",
       "    <tr>\n",
       "      <th>manager_id</th>\n",
       "      <td>5ba989232d0489da1b5f2c45f6688adc</td>\n",
       "      <td>7533621a882f71e25173b27e3139d83d</td>\n",
       "      <td>d9039c43983f6e564b1482b273bd7b01</td>\n",
       "      <td>1067e078446a7897d2da493d2f741316</td>\n",
       "      <td>98e13ad4b495b9613cef886d79a6291f</td>\n",
       "    </tr>\n",
       "    <tr>\n",
       "      <th>photos</th>\n",
       "      <td>[https://photos.renthop.com/2/7211212_1ed4542e...</td>\n",
       "      <td>[https://photos.renthop.com/2/7150865_be3306c5...</td>\n",
       "      <td>[https://photos.renthop.com/2/6887163_de85c427...</td>\n",
       "      <td>[https://photos.renthop.com/2/6888711_6e660cee...</td>\n",
       "      <td>[https://photos.renthop.com/2/6934781_1fa4b41a...</td>\n",
       "    </tr>\n",
       "    <tr>\n",
       "      <th>price</th>\n",
       "      <td>3000</td>\n",
       "      <td>5465</td>\n",
       "      <td>2850</td>\n",
       "      <td>3275</td>\n",
       "      <td>3350</td>\n",
       "    </tr>\n",
       "    <tr>\n",
       "      <th>street_address</th>\n",
       "      <td>792 Metropolitan Avenue</td>\n",
       "      <td>808 Columbus Avenue</td>\n",
       "      <td>241 W 13 Street</td>\n",
       "      <td>333 East 49th Street</td>\n",
       "      <td>500 West 143rd Street</td>\n",
       "    </tr>\n",
       "  </tbody>\n",
       "</table>\n",
       "</div>"
      ],
      "text/plain": [
       "                                                            10      \\\n",
       "bathrooms                                                      1.5   \n",
       "bedrooms                                                         3   \n",
       "building_id                       53a5b119ba8f7b61d4e010512e0dfc85   \n",
       "created                                        2016-06-24 07:54:24   \n",
       "description      A Brand New 3 Bedroom 1.5 bath ApartmentEnjoy ...   \n",
       "display_address                                Metropolitan Avenue   \n",
       "features                                                        []   \n",
       "interest_level                                              medium   \n",
       "latitude                                                   40.7145   \n",
       "listing_id                                                 7211212   \n",
       "longitude                                                 -73.9425   \n",
       "manager_id                        5ba989232d0489da1b5f2c45f6688adc   \n",
       "photos           [https://photos.renthop.com/2/7211212_1ed4542e...   \n",
       "price                                                         3000   \n",
       "street_address                             792 Metropolitan Avenue   \n",
       "\n",
       "                                                            10000   \\\n",
       "bathrooms                                                        1   \n",
       "bedrooms                                                         2   \n",
       "building_id                       c5c8a357cba207596b04d1afd1e4f130   \n",
       "created                                        2016-06-12 12:19:27   \n",
       "description                                                          \n",
       "display_address                                    Columbus Avenue   \n",
       "features         [Doorman, Elevator, Fitness Center, Cats Allow...   \n",
       "interest_level                                                 low   \n",
       "latitude                                                   40.7947   \n",
       "listing_id                                                 7150865   \n",
       "longitude                                                 -73.9667   \n",
       "manager_id                        7533621a882f71e25173b27e3139d83d   \n",
       "photos           [https://photos.renthop.com/2/7150865_be3306c5...   \n",
       "price                                                         5465   \n",
       "street_address                                 808 Columbus Avenue   \n",
       "\n",
       "                                                            100004  \\\n",
       "bathrooms                                                        1   \n",
       "bedrooms                                                         1   \n",
       "building_id                       c3ba40552e2120b0acfc3cb5730bb2aa   \n",
       "created                                        2016-04-17 03:26:41   \n",
       "description      Top Top West Village location, beautiful Pre-w...   \n",
       "display_address                                        W 13 Street   \n",
       "features         [Laundry In Building, Dishwasher, Hardwood Flo...   \n",
       "interest_level                                                high   \n",
       "latitude                                                   40.7388   \n",
       "listing_id                                                 6887163   \n",
       "longitude                                                 -74.0018   \n",
       "manager_id                        d9039c43983f6e564b1482b273bd7b01   \n",
       "photos           [https://photos.renthop.com/2/6887163_de85c427...   \n",
       "price                                                         2850   \n",
       "street_address                                     241 W 13 Street   \n",
       "\n",
       "                                                            100007  \\\n",
       "bathrooms                                                        1   \n",
       "bedrooms                                                         1   \n",
       "building_id                       28d9ad350afeaab8027513a3e52ac8d5   \n",
       "created                                        2016-04-18 02:22:02   \n",
       "description      Building Amenities - Garage - Garden - fitness...   \n",
       "display_address                                   East 49th Street   \n",
       "features                                 [Hardwood Floors, No Fee]   \n",
       "interest_level                                                 low   \n",
       "latitude                                                   40.7539   \n",
       "listing_id                                                 6888711   \n",
       "longitude                                                 -73.9677   \n",
       "manager_id                        1067e078446a7897d2da493d2f741316   \n",
       "photos           [https://photos.renthop.com/2/6888711_6e660cee...   \n",
       "price                                                         3275   \n",
       "street_address                                333 East 49th Street   \n",
       "\n",
       "                                                            100013  \n",
       "bathrooms                                                        1  \n",
       "bedrooms                                                         4  \n",
       "building_id                                                      0  \n",
       "created                                        2016-04-28 01:32:41  \n",
       "description      Beautifully renovated 3 bedroom flex 4 bedroom...  \n",
       "display_address                                  West 143rd Street  \n",
       "features                                                 [Pre-War]  \n",
       "interest_level                                                 low  \n",
       "latitude                                                   40.8241  \n",
       "listing_id                                                 6934781  \n",
       "longitude                                                 -73.9493  \n",
       "manager_id                        98e13ad4b495b9613cef886d79a6291f  \n",
       "photos           [https://photos.renthop.com/2/6934781_1fa4b41a...  \n",
       "price                                                         3350  \n",
       "street_address                               500 West 143rd Street  "
      ]
     },
     "execution_count": 6,
     "metadata": {},
     "output_type": "execute_result"
    }
   ],
   "source": [
    "d.head().T"
   ]
  },
  {
   "cell_type": "code",
   "execution_count": 7,
   "metadata": {
    "collapsed": true
   },
   "outputs": [],
   "source": [
    "d.to_json('tmp/raw_data.json')"
   ]
  }
 ],
 "metadata": {
  "kernelspec": {
   "display_name": "Python 2",
   "language": "python",
   "name": "python2"
  },
  "language_info": {
   "codemirror_mode": {
    "name": "ipython",
    "version": 2
   },
   "file_extension": ".py",
   "mimetype": "text/x-python",
   "name": "python",
   "nbconvert_exporter": "python",
   "pygments_lexer": "ipython2",
   "version": "2.7.11"
  }
 },
 "nbformat": 4,
 "nbformat_minor": 1
}
