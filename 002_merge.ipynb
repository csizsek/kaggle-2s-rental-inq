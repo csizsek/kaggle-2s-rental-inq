{
 "cells": [
  {
   "cell_type": "code",
   "execution_count": 1,
   "metadata": {
    "collapsed": false
   },
   "outputs": [
    {
     "name": "stderr",
     "output_type": "stream",
     "text": [
      "/usr/local/lib/python2.7/site-packages/matplotlib/font_manager.py:273: UserWarning: Matplotlib is building the font cache using fc-list. This may take a moment.\n",
      "  warnings.warn('Matplotlib is building the font cache using fc-list. This may take a moment.')\n"
     ]
    }
   ],
   "source": [
    "import base64\n",
    "import datetime\n",
    "import json\n",
    "import os\n",
    "import random\n",
    "import time\n",
    "\n",
    "import scipy\n",
    "from scipy import ndimage\n",
    "import numpy as np\n",
    "import pandas as pd\n",
    "import sklearn\n",
    "import matplotlib as mpl\n",
    "import matplotlib.pyplot as plt\n",
    "from pylab import rcParams\n",
    "import seaborn as sns\n",
    "import statsmodels as sm\n",
    "from pylab import rcParams\n",
    "from pylab import *\n",
    "from matplotlib.dates import date2num , DateFormatter\n",
    "from PIL import Image\n",
    "\n",
    "np.random.seed(1337)\n",
    "\n",
    "%matplotlib inline\n",
    "sns.set(font_scale=1.0)\n",
    "rcParams['figure.figsize'] = 8, 6\n",
    "sns.set_style('whitegrid')\n",
    "sns.set_palette(sns.color_palette('muted'))"
   ]
  },
  {
   "cell_type": "code",
   "execution_count": 2,
   "metadata": {
    "collapsed": false
   },
   "outputs": [
    {
     "name": "stdout",
     "output_type": "stream",
     "text": [
      "49352\n"
     ]
    }
   ],
   "source": [
    "tr = pd.read_json('input/train.json', convert_dates=['created'])\n",
    "print len(tr)"
   ]
  },
  {
   "cell_type": "code",
   "execution_count": 3,
   "metadata": {
    "collapsed": false
   },
   "outputs": [
    {
     "name": "stdout",
     "output_type": "stream",
     "text": [
      "74659\n"
     ]
    }
   ],
   "source": [
    "te = pd.read_json('input/test.json', convert_dates=['created'])\n",
    "te['interest_level'] = np.nan\n",
    "print len(te)"
   ]
  },
  {
   "cell_type": "code",
   "execution_count": 4,
   "metadata": {
    "collapsed": true
   },
   "outputs": [],
   "source": [
    "d = pd.concat([tr, te])\n",
    "print len(d)"
   ]
  },
  {
   "cell_type": "code",
   "execution_count": 6,
   "metadata": {
    "collapsed": false
   },
   "outputs": [
    {
     "data": {
      "text/plain": [
       "bathrooms          float64\n",
       "bedrooms             int64\n",
       "building_id         object\n",
       "created              int64\n",
       "description         object\n",
       "display_address     object\n",
       "features            object\n",
       "interest_level      object\n",
       "latitude           float64\n",
       "listing_id           int64\n",
       "longitude          float64\n",
       "manager_id          object\n",
       "photos              object\n",
       "price                int64\n",
       "street_address      object\n",
       "dtype: object"
      ]
     },
     "execution_count": 6,
     "metadata": {},
     "output_type": "execute_result"
    }
   ],
   "source": [
    "d.dtypes"
   ]
  },
  {
   "cell_type": "code",
   "execution_count": 7,
   "metadata": {
    "collapsed": false
   },
   "outputs": [
    {
     "data": {
      "text/html": [
       "<div>\n",
       "<table border=\"1\" class=\"dataframe\">\n",
       "  <thead>\n",
       "    <tr style=\"text-align: right;\">\n",
       "      <th></th>\n",
       "      <th>0</th>\n",
       "      <th>1</th>\n",
       "      <th>10</th>\n",
       "      <th>100</th>\n",
       "      <th>1000</th>\n",
       "    </tr>\n",
       "  </thead>\n",
       "  <tbody>\n",
       "    <tr>\n",
       "      <th>bathrooms</th>\n",
       "      <td>1</td>\n",
       "      <td>1</td>\n",
       "      <td>1.5</td>\n",
       "      <td>1</td>\n",
       "      <td>1</td>\n",
       "    </tr>\n",
       "    <tr>\n",
       "      <th>bedrooms</th>\n",
       "      <td>1</td>\n",
       "      <td>2</td>\n",
       "      <td>3</td>\n",
       "      <td>1</td>\n",
       "      <td>2</td>\n",
       "    </tr>\n",
       "    <tr>\n",
       "      <th>building_id</th>\n",
       "      <td>79780be1514f645d7e6be99a3de696c5</td>\n",
       "      <td>0</td>\n",
       "      <td>53a5b119ba8f7b61d4e010512e0dfc85</td>\n",
       "      <td>3dbbb69fd52e0d25131aa1cd459c87eb</td>\n",
       "      <td>783d21d013a7e655bddc4ed0d461cc5e</td>\n",
       "    </tr>\n",
       "    <tr>\n",
       "      <th>created</th>\n",
       "      <td>1465622981000</td>\n",
       "      <td>1466750194000</td>\n",
       "      <td>1466754864000</td>\n",
       "      <td>1464928180000</td>\n",
       "      <td>1465625855000</td>\n",
       "    </tr>\n",
       "    <tr>\n",
       "      <th>description</th>\n",
       "      <td>Large with awesome terrace--accessible via bed...</td>\n",
       "      <td>Prime Soho - between Bleecker and Houston - Ne...</td>\n",
       "      <td>A Brand New 3 Bedroom 1.5 bath ApartmentEnjoy ...</td>\n",
       "      <td>New York chic has reached a new level ...</td>\n",
       "      <td>Step into this fantastic new Construction in t...</td>\n",
       "    </tr>\n",
       "    <tr>\n",
       "      <th>display_address</th>\n",
       "      <td>Suffolk Street</td>\n",
       "      <td>Thompson Street</td>\n",
       "      <td>Metropolitan Avenue</td>\n",
       "      <td>101 East 10th Street</td>\n",
       "      <td>South Third Street\\r</td>\n",
       "    </tr>\n",
       "    <tr>\n",
       "      <th>features</th>\n",
       "      <td>[Elevator, Laundry in Building, Laundry in Uni...</td>\n",
       "      <td>[Pre-War, Dogs Allowed, Cats Allowed]</td>\n",
       "      <td>[]</td>\n",
       "      <td>[Doorman, Elevator, No Fee]</td>\n",
       "      <td>[Roof Deck, Balcony, Elevator, Laundry in Buil...</td>\n",
       "    </tr>\n",
       "    <tr>\n",
       "      <th>interest_level</th>\n",
       "      <td>None</td>\n",
       "      <td>None</td>\n",
       "      <td>medium</td>\n",
       "      <td>None</td>\n",
       "      <td>None</td>\n",
       "    </tr>\n",
       "    <tr>\n",
       "      <th>latitude</th>\n",
       "      <td>40.7185</td>\n",
       "      <td>40.7278</td>\n",
       "      <td>40.7145</td>\n",
       "      <td>40.7306</td>\n",
       "      <td>40.7109</td>\n",
       "    </tr>\n",
       "    <tr>\n",
       "      <th>listing_id</th>\n",
       "      <td>7142618</td>\n",
       "      <td>7210040</td>\n",
       "      <td>7211212</td>\n",
       "      <td>7103890</td>\n",
       "      <td>7143442</td>\n",
       "    </tr>\n",
       "    <tr>\n",
       "      <th>longitude</th>\n",
       "      <td>-73.9865</td>\n",
       "      <td>-74</td>\n",
       "      <td>-73.9425</td>\n",
       "      <td>-73.989</td>\n",
       "      <td>-73.9571</td>\n",
       "    </tr>\n",
       "    <tr>\n",
       "      <th>manager_id</th>\n",
       "      <td>b1b1852c416d78d7765d746cb1b8921f</td>\n",
       "      <td>d0b5648017832b2427eeb9956d966a14</td>\n",
       "      <td>5ba989232d0489da1b5f2c45f6688adc</td>\n",
       "      <td>9ca6f3baa475c37a3b3521a394d65467</td>\n",
       "      <td>0b9d5db96db8472d7aeb67c67338c4d2</td>\n",
       "    </tr>\n",
       "    <tr>\n",
       "      <th>photos</th>\n",
       "      <td>[https://photos.renthop.com/2/7142618_1c45a2c8...</td>\n",
       "      <td>[https://photos.renthop.com/2/7210040_d824cc71...</td>\n",
       "      <td>[https://photos.renthop.com/2/7211212_1ed4542e...</td>\n",
       "      <td>[https://photos.renthop.com/2/7103890_85b33077...</td>\n",
       "      <td>[https://photos.renthop.com/2/7143442_0879e9e0...</td>\n",
       "    </tr>\n",
       "    <tr>\n",
       "      <th>price</th>\n",
       "      <td>2950</td>\n",
       "      <td>2850</td>\n",
       "      <td>3000</td>\n",
       "      <td>3758</td>\n",
       "      <td>3300</td>\n",
       "    </tr>\n",
       "    <tr>\n",
       "      <th>street_address</th>\n",
       "      <td>99 Suffolk Street</td>\n",
       "      <td>176 Thompson Street</td>\n",
       "      <td>792 Metropolitan Avenue</td>\n",
       "      <td>101 East 10th Street</td>\n",
       "      <td>251  South Third Street\\r</td>\n",
       "    </tr>\n",
       "  </tbody>\n",
       "</table>\n",
       "</div>"
      ],
      "text/plain": [
       "                                                              0     \\\n",
       "bathrooms                                                        1   \n",
       "bedrooms                                                         1   \n",
       "building_id                       79780be1514f645d7e6be99a3de696c5   \n",
       "created                                              1465622981000   \n",
       "description      Large with awesome terrace--accessible via bed...   \n",
       "display_address                                     Suffolk Street   \n",
       "features         [Elevator, Laundry in Building, Laundry in Uni...   \n",
       "interest_level                                                None   \n",
       "latitude                                                   40.7185   \n",
       "listing_id                                                 7142618   \n",
       "longitude                                                 -73.9865   \n",
       "manager_id                        b1b1852c416d78d7765d746cb1b8921f   \n",
       "photos           [https://photos.renthop.com/2/7142618_1c45a2c8...   \n",
       "price                                                         2950   \n",
       "street_address                                   99 Suffolk Street   \n",
       "\n",
       "                                                              1     \\\n",
       "bathrooms                                                        1   \n",
       "bedrooms                                                         2   \n",
       "building_id                                                      0   \n",
       "created                                              1466750194000   \n",
       "description      Prime Soho - between Bleecker and Houston - Ne...   \n",
       "display_address                                    Thompson Street   \n",
       "features                     [Pre-War, Dogs Allowed, Cats Allowed]   \n",
       "interest_level                                                None   \n",
       "latitude                                                   40.7278   \n",
       "listing_id                                                 7210040   \n",
       "longitude                                                      -74   \n",
       "manager_id                        d0b5648017832b2427eeb9956d966a14   \n",
       "photos           [https://photos.renthop.com/2/7210040_d824cc71...   \n",
       "price                                                         2850   \n",
       "street_address                                 176 Thompson Street   \n",
       "\n",
       "                                                              10    \\\n",
       "bathrooms                                                      1.5   \n",
       "bedrooms                                                         3   \n",
       "building_id                       53a5b119ba8f7b61d4e010512e0dfc85   \n",
       "created                                              1466754864000   \n",
       "description      A Brand New 3 Bedroom 1.5 bath ApartmentEnjoy ...   \n",
       "display_address                                Metropolitan Avenue   \n",
       "features                                                        []   \n",
       "interest_level                                              medium   \n",
       "latitude                                                   40.7145   \n",
       "listing_id                                                 7211212   \n",
       "longitude                                                 -73.9425   \n",
       "manager_id                        5ba989232d0489da1b5f2c45f6688adc   \n",
       "photos           [https://photos.renthop.com/2/7211212_1ed4542e...   \n",
       "price                                                         3000   \n",
       "street_address                             792 Metropolitan Avenue   \n",
       "\n",
       "                                                              100   \\\n",
       "bathrooms                                                        1   \n",
       "bedrooms                                                         1   \n",
       "building_id                       3dbbb69fd52e0d25131aa1cd459c87eb   \n",
       "created                                              1464928180000   \n",
       "description              New York chic has reached a new level ...   \n",
       "display_address                               101 East 10th Street   \n",
       "features                               [Doorman, Elevator, No Fee]   \n",
       "interest_level                                                None   \n",
       "latitude                                                   40.7306   \n",
       "listing_id                                                 7103890   \n",
       "longitude                                                  -73.989   \n",
       "manager_id                        9ca6f3baa475c37a3b3521a394d65467   \n",
       "photos           [https://photos.renthop.com/2/7103890_85b33077...   \n",
       "price                                                         3758   \n",
       "street_address                                101 East 10th Street   \n",
       "\n",
       "                                                              1000  \n",
       "bathrooms                                                        1  \n",
       "bedrooms                                                         2  \n",
       "building_id                       783d21d013a7e655bddc4ed0d461cc5e  \n",
       "created                                              1465625855000  \n",
       "description      Step into this fantastic new Construction in t...  \n",
       "display_address                               South Third Street\\r  \n",
       "features         [Roof Deck, Balcony, Elevator, Laundry in Buil...  \n",
       "interest_level                                                None  \n",
       "latitude                                                   40.7109  \n",
       "listing_id                                                 7143442  \n",
       "longitude                                                 -73.9571  \n",
       "manager_id                        0b9d5db96db8472d7aeb67c67338c4d2  \n",
       "photos           [https://photos.renthop.com/2/7143442_0879e9e0...  \n",
       "price                                                         3300  \n",
       "street_address                           251  South Third Street\\r  "
      ]
     },
     "execution_count": 7,
     "metadata": {},
     "output_type": "execute_result"
    }
   ],
   "source": [
    "d.head().T"
   ]
  },
  {
   "cell_type": "code",
   "execution_count": 8,
   "metadata": {
    "collapsed": true
   },
   "outputs": [],
   "source": [
    "d.to_json('tmp/data.json')"
   ]
  }
 ],
 "metadata": {
  "kernelspec": {
   "display_name": "Python 2",
   "language": "python",
   "name": "python2"
  },
  "language_info": {
   "codemirror_mode": {
    "name": "ipython",
    "version": 2
   },
   "file_extension": ".py",
   "mimetype": "text/x-python",
   "name": "python",
   "nbconvert_exporter": "python",
   "pygments_lexer": "ipython2",
   "version": "2.7.11"
  }
 },
 "nbformat": 4,
 "nbformat_minor": 1
}
