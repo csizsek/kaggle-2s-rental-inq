{
 "cells": [
  {
   "cell_type": "code",
   "execution_count": 1,
   "metadata": {
    "collapsed": false
   },
   "outputs": [
    {
     "name": "stderr",
     "output_type": "stream",
     "text": [
      "/usr/local/lib/python2.7/site-packages/matplotlib/font_manager.py:273: UserWarning: Matplotlib is building the font cache using fc-list. This may take a moment.\n",
      "  warnings.warn('Matplotlib is building the font cache using fc-list. This may take a moment.')\n"
     ]
    }
   ],
   "source": [
    "import base64\n",
    "import datetime\n",
    "import itertools\n",
    "import json\n",
    "import math\n",
    "import operator\n",
    "import os\n",
    "import pickle\n",
    "import random\n",
    "import re\n",
    "import time\n",
    "\n",
    "import scipy\n",
    "from scipy import ndimage\n",
    "import numpy as np\n",
    "import pandas as pd\n",
    "import sklearn\n",
    "import matplotlib as mpl\n",
    "import matplotlib.pyplot as plt\n",
    "from pylab import rcParams\n",
    "import seaborn as sns\n",
    "import statsmodels as sm\n",
    "from pylab import rcParams\n",
    "from pylab import *\n",
    "from matplotlib.dates import date2num , DateFormatter\n",
    "from PIL import Image\n",
    "\n",
    "np.random.seed(1337)\n",
    "\n",
    "%matplotlib inline\n",
    "sns.set(font_scale=1.0)\n",
    "rcParams['figure.figsize'] = 8, 6\n",
    "sns.set_style('whitegrid')\n",
    "sns.set_palette(sns.color_palette('muted'))"
   ]
  },
  {
   "cell_type": "code",
   "execution_count": 2,
   "metadata": {
    "collapsed": false
   },
   "outputs": [
    {
     "name": "stdout",
     "output_type": "stream",
     "text": [
      "interest_level    object\n",
      "dtype: object\n"
     ]
    }
   ],
   "source": [
    "d = pd.concat([pd.read_csv('tmp/train_ids.csv', index_col='id'),\n",
    "               pd.read_csv('tmp/test_ids.csv', index_col='id')])\n",
    "print d.dtypes"
   ]
  },
  {
   "cell_type": "code",
   "execution_count": 3,
   "metadata": {
    "collapsed": false
   },
   "outputs": [
    {
     "name": "stdout",
     "output_type": "stream",
     "text": [
      "bathrooms               float64\n",
      "num_bathrooms_bucket      int64\n",
      "dtype: object\n"
     ]
    }
   ],
   "source": [
    "e = pd.read_csv('tmp/features_bathrooms.csv', index_col='id')\n",
    "print e.dtypes\n",
    "d = pd.merge(d, e, how='left', left_index=True, right_index=True)"
   ]
  },
  {
   "cell_type": "code",
   "execution_count": 4,
   "metadata": {
    "collapsed": false
   },
   "outputs": [
    {
     "name": "stdout",
     "output_type": "stream",
     "text": [
      "bedrooms               int64\n",
      "num_bedrooms_bucket    int64\n",
      "dtype: object\n"
     ]
    }
   ],
   "source": [
    "e = pd.read_csv('tmp/features_bedrooms.csv', index_col='id')\n",
    "print e.dtypes\n",
    "d = pd.merge(d, e, how='left', left_index=True, right_index=True)"
   ]
  },
  {
   "cell_type": "code",
   "execution_count": 5,
   "metadata": {
    "collapsed": false
   },
   "outputs": [
    {
     "name": "stdout",
     "output_type": "stream",
     "text": [
      "building_id                  object\n",
      "building_id_was_missing     float64\n",
      "num_apts_in_building          int64\n",
      "num_apts_in_building_q10    float64\n",
      "building_code               float64\n",
      "dtype: object\n"
     ]
    }
   ],
   "source": [
    "e = pd.read_csv('tmp/features_building_id.csv', index_col='id')\n",
    "print e.dtypes\n",
    "d = pd.merge(d, e, how='left', left_index=True, right_index=True)"
   ]
  },
  {
   "cell_type": "code",
   "execution_count": 6,
   "metadata": {
    "collapsed": false
   },
   "outputs": [
    {
     "name": "stdout",
     "output_type": "stream",
     "text": [
      "created                           object\n",
      "created_utc                       object\n",
      "created_local_time                object\n",
      "created_month                      int64\n",
      "created_day_of_month               int64\n",
      "created_dow                        int64\n",
      "created_hour                       int64\n",
      "created_minute                     int64\n",
      "created_minute_of_the_day          int64\n",
      "created_date                      object\n",
      "created_hour_of_dataset            int64\n",
      "created_distance_from_peak         int64\n",
      "created_distance_from_peak_abs     int64\n",
      "num_apts_same_hour                 int64\n",
      "num_apts_prev_hour                 int64\n",
      "num_apts_next_hour                 int64\n",
      "num_apts_same_3hours               int64\n",
      "num_apts_prev_3hours               int64\n",
      "num_apts_next_3hours               int64\n",
      "num_apts_same_9hours               int64\n",
      "num_apts_prev_9hours               int64\n",
      "num_apts_next_9hours               int64\n",
      "num_apts_same_day                  int64\n",
      "num_apts_prev_day                  int64\n",
      "num_apts_next_day                  int64\n",
      "num_apts_same_2days                int64\n",
      "num_apts_prev_2days                int64\n",
      "num_apts_next_2days                int64\n",
      "num_apts_same_4days                int64\n",
      "num_apts_prev_4days                int64\n",
      "num_apts_next_4days                int64\n",
      "dtype: object\n"
     ]
    }
   ],
   "source": [
    "e = pd.read_csv('tmp/features_created.csv', index_col='id')\n",
    "print e.dtypes\n",
    "d = pd.merge(d, e, how='left', left_index=True, right_index=True)"
   ]
  },
  {
   "cell_type": "code",
   "execution_count": 7,
   "metadata": {
    "collapsed": false
   },
   "outputs": [
    {
     "name": "stdout",
     "output_type": "stream",
     "text": [
      "count_non_alphanumeric_characters    float64\n",
      "desc_num_bangs                         int64\n",
      "desc_num_breaks                        int64\n",
      "desc_num_emails                        int64\n",
      "desc_num_nonalpha                    float64\n",
      "desc_num_paragraphs                    int64\n",
      "desc_num_parentheses                   int64\n",
      "desc_num_phones                        int64\n",
      "desc_num_website_redacted              int64\n",
      "desc_num_words                         int64\n",
      "num_characters                         int64\n",
      "ratio_non_alphanumeric_characters    float64\n",
      "desc_num_words_q100                  float64\n",
      "desc_count_24                          int64\n",
      "desc_count__blank                      int64\n",
      "desc_count_access                      int64\n",
      "desc_count_amazing                     int64\n",
      "desc_count_amenities                   int64\n",
      "desc_count_amp                         int64\n",
      "desc_count_apartment                   int64\n",
      "desc_count_apartments                  int64\n",
      "desc_count_appliances                  int64\n",
      "desc_count_appointment                 int64\n",
      "desc_count_area                        int64\n",
      "desc_count_art                         int64\n",
      "desc_count_available                   int64\n",
      "desc_count_avenue                      int64\n",
      "desc_count_away                        int64\n",
      "desc_count_bars                        int64\n",
      "desc_count_bath                        int64\n",
      "                                      ...   \n",
      "desc_count_time                        int64\n",
      "desc_count_today                       int64\n",
      "desc_count_tons                        int64\n",
      "desc_count_tops                        int64\n",
      "desc_count_train                       int64\n",
      "desc_count_trains                      int64\n",
      "desc_count_transportation              int64\n",
      "desc_count_ul                          int64\n",
      "desc_count_unit                        int64\n",
      "desc_count_upper                       int64\n",
      "desc_count_valet                       int64\n",
      "desc_count_view                        int64\n",
      "desc_count_viewing                     int64\n",
      "desc_count_views                       int64\n",
      "desc_count_village                     int64\n",
      "desc_count_walk                        int64\n",
      "desc_count_washer                      int64\n",
      "desc_count_water                       int64\n",
      "desc_count_website_redacted            int64\n",
      "desc_count_west                        int64\n",
      "desc_count_white                       int64\n",
      "desc_count_windows                     int64\n",
      "desc_count_wood                        int64\n",
      "desc_count_york                        int64\n",
      "desc_top_100_word_coverage           float64\n",
      "desc_top_500_word_coverage           float64\n",
      "desc_top_2000_word_coverage          float64\n",
      "desc_top_100_word_ratio              float64\n",
      "desc_top_500_word_ratio              float64\n",
      "desc_top_2000_word_ratio             float64\n",
      "dtype: object\n"
     ]
    }
   ],
   "source": [
    "e = pd.read_csv('tmp/features_description.csv', index_col='id')\n",
    "print e.dtypes\n",
    "d = pd.merge(d, e, how='left', left_index=True, right_index=True)"
   ]
  },
  {
   "cell_type": "code",
   "execution_count": 8,
   "metadata": {
    "collapsed": false
   },
   "outputs": [
    {
     "name": "stdout",
     "output_type": "stream",
     "text": [
      "daddr_num_words             int64\n",
      "daddr_has_number            int64\n",
      "daddr_has_ordinal           int64\n",
      "daddr_num_upper_words       int64\n",
      "daddr_count_10th            int64\n",
      "daddr_count_11th            int64\n",
      "daddr_count_13th            int64\n",
      "daddr_count_14th            int64\n",
      "daddr_count_1st             int64\n",
      "daddr_count_25th            int64\n",
      "daddr_count_29th            int64\n",
      "daddr_count_2nd             int64\n",
      "daddr_count_34th            int64\n",
      "daddr_count_35th            int64\n",
      "daddr_count_37th            int64\n",
      "daddr_count_38th            int64\n",
      "daddr_count_39th            int64\n",
      "daddr_count_42nd            int64\n",
      "daddr_count_46th            int64\n",
      "daddr_count_47th            int64\n",
      "daddr_count_54th            int64\n",
      "daddr_count_57th            int64\n",
      "daddr_count_5th             int64\n",
      "daddr_count_63rd            int64\n",
      "daddr_count_72nd            int64\n",
      "daddr_count_79th            int64\n",
      "daddr_count_82nd            int64\n",
      "daddr_count_86th            int64\n",
      "daddr_count_89th            int64\n",
      "daddr_count_and             int64\n",
      "daddr_count_ave             int64\n",
      "daddr_count_avenue          int64\n",
      "daddr_count_blvd            int64\n",
      "daddr_count_boulevard       int64\n",
      "daddr_count_broadway        int64\n",
      "daddr_count_columbus        int64\n",
      "daddr_count_east            int64\n",
      "daddr_count_end             int64\n",
      "daddr_count_first           int64\n",
      "daddr_count_gold            int64\n",
      "daddr_count_john            int64\n",
      "daddr_count_lexington       int64\n",
      "daddr_count_park            int64\n",
      "daddr_count_place           int64\n",
      "daddr_count_riverside       int64\n",
      "daddr_count_second          int64\n",
      "daddr_count_st              int64\n",
      "daddr_count_street          int64\n",
      "daddr_count_thompson        int64\n",
      "daddr_count_wall            int64\n",
      "daddr_count_washington      int64\n",
      "daddr_count_water           int64\n",
      "daddr_count_west            int64\n",
      "daddr_count_york            int64\n",
      "num_apts_with_same_daddr    int64\n",
      "dtype: object\n"
     ]
    }
   ],
   "source": [
    "e = pd.read_csv('tmp/features_display_address.csv', index_col='id')\n",
    "print e.dtypes\n",
    "d = pd.merge(d, e, how='left', left_index=True, right_index=True)"
   ]
  },
  {
   "cell_type": "code",
   "execution_count": 9,
   "metadata": {
    "collapsed": false
   },
   "outputs": [
    {
     "name": "stdout",
     "output_type": "stream",
     "text": [
      "num_features                                              int64\n",
      "top_10_feature_coverage                                 float64\n",
      "top_30_feature_coverage                                 float64\n",
      "top_10_feature_ratio                                    float64\n",
      "top_30_feature_ratio                                    float64\n",
      "features_count_24                                         int64\n",
      "features_count__balconies                                 int64\n",
      "features_count__chef                                      int64\n",
      "features_count__dishwasher_                               int64\n",
      "features_count__dryer                                     int64\n",
      "features_count__eat                                       int64\n",
      "features_count__elev                                      int64\n",
      "features_count__elev_bldg_                                int64\n",
      "features_count__exposed_brick_                            int64\n",
      "features_count__gourmet_kitchen_                          int64\n",
      "features_count__lndry_bldg_                               int64\n",
      "features_count__ornate_prewar_details_                    int64\n",
      "features_count__pets_ok_                                  int64\n",
      "features_count__photos                                    int64\n",
      "features_count__roomy_closets_                            int64\n",
      "features_count__walls_of_windows_                         int64\n",
      "features_count__washer                                    int64\n",
      "features_count_actual_apt                                 int64\n",
      "features_count_air_conditioning                           int64\n",
      "features_count_all_utilities_included                     int64\n",
      "features_count_attended_lobby                             int64\n",
      "features_count_backyard                                   int64\n",
      "features_count_balcony                                    int64\n",
      "features_count_basement_storage                           int64\n",
      "features_count_bike_room                                  int64\n",
      "                                                         ...   \n",
      "features_count_stainless_steel_appliances                 int64\n",
      "features_count_state                                      int64\n",
      "features_count_storage                                    int64\n",
      "features_count_storage_room                               int64\n",
      "features_count_sublet                                     int64\n",
      "features_count_subway                                     int64\n",
      "features_count_sundeck                                    int64\n",
      "features_count_swimming_pool                              int64\n",
      "features_count_tenant_lounge                              int64\n",
      "features_count_terrace                                    int64\n",
      "features_count_terraces_                                  int64\n",
      "features_count_time_doorman                               int64\n",
      "features_count_unit_washer                                int64\n",
      "features_count_valet                                      int64\n",
      "features_count_valet_parking                              int64\n",
      "features_count_valet_services                             int64\n",
      "features_count_valet_services_including_dry_cleaning      int64\n",
      "features_count_video_intercom                             int64\n",
      "features_count_view                                       int64\n",
      "features_count_virtual_doorman                            int64\n",
      "features_count_walk                                       int64\n",
      "features_count_walk_in_closet                             int64\n",
      "features_count_war                                        int64\n",
      "features_count_washer                                     int64\n",
      "features_count_washer_                                    int64\n",
      "features_count_washer_in_unit                             int64\n",
      "features_count_wheelchair_access                          int64\n",
      "features_count_wheelchair_ramp                            int64\n",
      "features_count_wifi_access                                int64\n",
      "features_count_work                                       int64\n",
      "dtype: object\n"
     ]
    }
   ],
   "source": [
    "e = pd.read_csv('tmp/features_features.csv', index_col='id')\n",
    "print e.dtypes\n",
    "d = pd.merge(d, e, how='left', left_index=True, right_index=True)"
   ]
  },
  {
   "cell_type": "code",
   "execution_count": 10,
   "metadata": {
    "collapsed": false
   },
   "outputs": [
    {
     "name": "stdout",
     "output_type": "stream",
     "text": [
      "latitude                 float64\n",
      "longitude                float64\n",
      "cluster_id                 int64\n",
      "cluster_size             float64\n",
      "distance_cc              float64\n",
      "price_q10_clust_all      float64\n",
      "price_q100_clust_all     float64\n",
      "price_q10_clust          float64\n",
      "price_q100_clust         float64\n",
      "area_density             float64\n",
      "area_density_all         float64\n",
      "area_density_time        float64\n",
      "area_density_time_all    float64\n",
      "area_distance_com        float64\n",
      "price_area_q             float64\n",
      "price_area_q_all         float64\n",
      "price_area_time_q        float64\n",
      "price_area_time_q_all    float64\n",
      "dtype: object\n"
     ]
    }
   ],
   "source": [
    "e = pd.read_csv('tmp/features_latlon.csv', index_col='id')\n",
    "print e.dtypes\n",
    "d = pd.merge(d, e, how='left', left_index=True, right_index=True)"
   ]
  },
  {
   "cell_type": "code",
   "execution_count": 11,
   "metadata": {
    "collapsed": false
   },
   "outputs": [
    {
     "name": "stdout",
     "output_type": "stream",
     "text": [
      "num_apts_at_manager           int64\n",
      "num_apts_at_manager_q10     float64\n",
      "num_apts_at_manager_q100    float64\n",
      "private_manager             float64\n",
      "manager_code                  int64\n",
      "dtype: object\n"
     ]
    }
   ],
   "source": [
    "e = pd.read_csv('tmp/features_manager_id.csv', index_col='id')\n",
    "print e.dtypes\n",
    "d = pd.merge(d, e, how='left', left_index=True, right_index=True)"
   ]
  },
  {
   "cell_type": "code",
   "execution_count": 12,
   "metadata": {
    "collapsed": false
   },
   "outputs": [
    {
     "name": "stdout",
     "output_type": "stream",
     "text": [
      "photos              object\n",
      "num_photos           int64\n",
      "has_photos           int64\n",
      "photos_per_room    float64\n",
      "dtype: object\n"
     ]
    }
   ],
   "source": [
    "e = pd.read_csv('tmp/features_photos.csv', index_col='id')\n",
    "print e.dtypes\n",
    "d = pd.merge(d, e, how='left', left_index=True, right_index=True)"
   ]
  },
  {
   "cell_type": "code",
   "execution_count": 13,
   "metadata": {
    "collapsed": false
   },
   "outputs": [
    {
     "name": "stdout",
     "output_type": "stream",
     "text": [
      "price                                int64\n",
      "log_price                          float64\n",
      "price_q10_all                      float64\n",
      "price_q100_all                     float64\n",
      "price_q10                          float64\n",
      "price_q100                         float64\n",
      "rounded_price                        int64\n",
      "num_apts_with_approx_same_price      int64\n",
      "dtype: object\n"
     ]
    }
   ],
   "source": [
    "e = pd.read_csv('tmp/features_price.csv', index_col='id')\n",
    "print e.dtypes\n",
    "d = pd.merge(d, e, how='left', left_index=True, right_index=True)"
   ]
  },
  {
   "cell_type": "code",
   "execution_count": 14,
   "metadata": {
    "collapsed": false
   },
   "outputs": [
    {
     "name": "stdout",
     "output_type": "stream",
     "text": [
      "saddr_num_words             int64\n",
      "saddr_has_number            int64\n",
      "saddr_has_ordinal           int64\n",
      "saddr_num_upper_words       int64\n",
      "daddr_saddr_same            int64\n",
      "num_apts_with_same_saddr    int64\n",
      "saddr_count_10              int64\n",
      "saddr_count_100             int64\n",
      "saddr_count_10th            int64\n",
      "saddr_count_145             int64\n",
      "saddr_count_14th            int64\n",
      "saddr_count_150             int64\n",
      "saddr_count_20              int64\n",
      "saddr_count_200             int64\n",
      "saddr_count_25              int64\n",
      "saddr_count_2nd             int64\n",
      "saddr_count_30              int64\n",
      "saddr_count_300             int64\n",
      "saddr_count_330             int64\n",
      "saddr_count_34              int64\n",
      "saddr_count_340             int64\n",
      "saddr_count_34th            int64\n",
      "saddr_count_350             int64\n",
      "saddr_count_37              int64\n",
      "saddr_count_37th            int64\n",
      "saddr_count_39th            int64\n",
      "saddr_count_42nd            int64\n",
      "saddr_count_43              int64\n",
      "saddr_count_45              int64\n",
      "saddr_count_46th            int64\n",
      "saddr_count_47th            int64\n",
      "saddr_count_50              int64\n",
      "saddr_count_505             int64\n",
      "saddr_count_520             int64\n",
      "saddr_count_54th            int64\n",
      "saddr_count_55              int64\n",
      "saddr_count_90              int64\n",
      "saddr_count_95              int64\n",
      "saddr_count_ave             int64\n",
      "saddr_count_avenue          int64\n",
      "saddr_count_broadway        int64\n",
      "saddr_count_east            int64\n",
      "saddr_count_end             int64\n",
      "saddr_count_first           int64\n",
      "saddr_count_gold            int64\n",
      "saddr_count_john            int64\n",
      "saddr_count_lexington       int64\n",
      "saddr_count_park            int64\n",
      "saddr_count_place           int64\n",
      "saddr_count_second          int64\n",
      "saddr_count_st              int64\n",
      "saddr_count_street          int64\n",
      "saddr_count_wall            int64\n",
      "saddr_count_washington      int64\n",
      "saddr_count_west            int64\n",
      "saddr_count_york            int64\n",
      "dtype: object\n"
     ]
    }
   ],
   "source": [
    "e = pd.read_csv('tmp/features_street_address.csv', index_col='id')\n",
    "print e.dtypes\n",
    "d = pd.merge(d, e, how='left', left_index=True, right_index=True)"
   ]
  },
  {
   "cell_type": "code",
   "execution_count": 15,
   "metadata": {
    "collapsed": false
   },
   "outputs": [
    {
     "name": "stdout",
     "output_type": "stream",
     "text": [
      "price_per_bedrooms                   float64\n",
      "rooms_diff                           float64\n",
      "rooms_sum                            float64\n",
      "bathrooms_per_bedrooms               float64\n",
      "hours_since_managers_last_listing    float64\n",
      "dtype: object\n"
     ]
    }
   ],
   "source": [
    "e = pd.read_csv('tmp/features_others.csv', index_col='id')\n",
    "print e.dtypes\n",
    "d = pd.merge(d, e, how='left', left_index=True, right_index=True)"
   ]
  },
  {
   "cell_type": "code",
   "execution_count": 16,
   "metadata": {
    "collapsed": false
   },
   "outputs": [
    {
     "data": {
      "text/plain": [
       "low       34284\n",
       "medium    11229\n",
       "high       3839\n",
       "Name: interest_level, dtype: int64"
      ]
     },
     "execution_count": 16,
     "metadata": {},
     "output_type": "execute_result"
    }
   ],
   "source": [
    "d.interest_level.value_counts()"
   ]
  },
  {
   "cell_type": "code",
   "execution_count": 17,
   "metadata": {
    "collapsed": false
   },
   "outputs": [],
   "source": [
    "for c in d.columns:\n",
    "    if c != 'interest_level' and (d.dtypes[c] not in ('int64', 'float64')):\n",
    "        del d[c]"
   ]
  },
  {
   "cell_type": "code",
   "execution_count": 18,
   "metadata": {
    "collapsed": false
   },
   "outputs": [
    {
     "name": "stdout",
     "output_type": "stream",
     "text": [
      "49352\n"
     ]
    }
   ],
   "source": [
    "tr = d[d.interest_level.notnull()]\n",
    "print len(tr)"
   ]
  },
  {
   "cell_type": "code",
   "execution_count": 19,
   "metadata": {
    "collapsed": false
   },
   "outputs": [
    {
     "name": "stdout",
     "output_type": "stream",
     "text": [
      "74659\n"
     ]
    }
   ],
   "source": [
    "te = d[d.interest_level.isnull()]\n",
    "print len(te)"
   ]
  },
  {
   "cell_type": "code",
   "execution_count": 20,
   "metadata": {
    "collapsed": false
   },
   "outputs": [
    {
     "name": "stdout",
     "output_type": "stream",
     "text": [
      "(49352, 610)\n",
      "(74659, 610)\n"
     ]
    }
   ],
   "source": [
    "print tr.values.shape\n",
    "print te.values.shape"
   ]
  },
  {
   "cell_type": "code",
   "execution_count": 21,
   "metadata": {
    "collapsed": false
   },
   "outputs": [],
   "source": [
    "# target_num_map = {'high':0, 'medium':1, 'low':2}\n",
    "# tr = np.array(trl.apply(lambda x: target_num_map[x]))"
   ]
  },
  {
   "cell_type": "code",
   "execution_count": 22,
   "metadata": {
    "collapsed": false
   },
   "outputs": [],
   "source": [
    "tr.to_csv('tmp/combined_train.csv')\n",
    "te.to_csv('tmp/combined_test.csv')"
   ]
  }
 ],
 "metadata": {
  "kernelspec": {
   "display_name": "Python 2",
   "language": "python",
   "name": "python2"
  },
  "language_info": {
   "codemirror_mode": {
    "name": "ipython",
    "version": 2
   },
   "file_extension": ".py",
   "mimetype": "text/x-python",
   "name": "python",
   "nbconvert_exporter": "python",
   "pygments_lexer": "ipython2",
   "version": "2.7.11"
  }
 },
 "nbformat": 4,
 "nbformat_minor": 1
}
