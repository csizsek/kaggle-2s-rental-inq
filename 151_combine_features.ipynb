{
 "cells": [
  {
   "cell_type": "code",
   "execution_count": 1,
   "metadata": {
    "collapsed": false
   },
   "outputs": [
    {
     "name": "stderr",
     "output_type": "stream",
     "text": [
      "/usr/local/lib/python2.7/site-packages/matplotlib/font_manager.py:273: UserWarning: Matplotlib is building the font cache using fc-list. This may take a moment.\n",
      "  warnings.warn('Matplotlib is building the font cache using fc-list. This may take a moment.')\n"
     ]
    }
   ],
   "source": [
    "import base64\n",
    "import datetime\n",
    "import itertools\n",
    "import json\n",
    "import math\n",
    "import operator\n",
    "import os\n",
    "import pickle\n",
    "import random\n",
    "import re\n",
    "import time\n",
    "\n",
    "import scipy\n",
    "from scipy import ndimage\n",
    "import numpy as np\n",
    "import pandas as pd\n",
    "import sklearn\n",
    "import matplotlib as mpl\n",
    "import matplotlib.pyplot as plt\n",
    "from pylab import rcParams\n",
    "import seaborn as sns\n",
    "import statsmodels as sm\n",
    "from pylab import rcParams\n",
    "from pylab import *\n",
    "from matplotlib.dates import date2num , DateFormatter\n",
    "from PIL import Image\n",
    "\n",
    "np.random.seed(1337)\n",
    "\n",
    "%matplotlib inline\n",
    "sns.set(font_scale=1.0)\n",
    "rcParams['figure.figsize'] = 8, 6\n",
    "sns.set_style('whitegrid')\n",
    "sns.set_palette(sns.color_palette('muted'))"
   ]
  },
  {
   "cell_type": "code",
   "execution_count": 2,
   "metadata": {
    "collapsed": false
   },
   "outputs": [
    {
     "name": "stdout",
     "output_type": "stream",
     "text": [
      "interest_level    object\n",
      "dtype: object\n"
     ]
    }
   ],
   "source": [
    "d = pd.concat([pd.read_csv('tmp/train_ids.csv', index_col='id'),\n",
    "               pd.read_csv('tmp/test_ids.csv', index_col='id')])\n",
    "print d.dtypes"
   ]
  },
  {
   "cell_type": "code",
   "execution_count": 3,
   "metadata": {
    "collapsed": false
   },
   "outputs": [
    {
     "name": "stdout",
     "output_type": "stream",
     "text": [
      "bathrooms    float64\n",
      "dtype: object\n"
     ]
    }
   ],
   "source": [
    "e = pd.read_csv('tmp/features_bathrooms.csv', index_col='id')\n",
    "print e.dtypes\n",
    "d = pd.merge(d, e, how='left', left_index=True, right_index=True)"
   ]
  },
  {
   "cell_type": "code",
   "execution_count": 4,
   "metadata": {
    "collapsed": false
   },
   "outputs": [
    {
     "name": "stdout",
     "output_type": "stream",
     "text": [
      "bedrooms    float64\n",
      "dtype: object\n"
     ]
    }
   ],
   "source": [
    "e = pd.read_csv('tmp/features_bedrooms.csv', index_col='id')\n",
    "print e.dtypes\n",
    "d = pd.merge(d, e, how='left', left_index=True, right_index=True)"
   ]
  },
  {
   "cell_type": "code",
   "execution_count": 5,
   "metadata": {
    "collapsed": false
   },
   "outputs": [
    {
     "name": "stdout",
     "output_type": "stream",
     "text": [
      "building_id_is_zero     float64\n",
      "num_apts_in_building    float64\n",
      "building_code             int64\n",
      "dtype: object\n"
     ]
    }
   ],
   "source": [
    "e = pd.read_csv('tmp/features_building_id.csv', index_col='id')\n",
    "print e.dtypes\n",
    "d = pd.merge(d, e, how='left', left_index=True, right_index=True)"
   ]
  },
  {
   "cell_type": "code",
   "execution_count": 6,
   "metadata": {
    "collapsed": false
   },
   "outputs": [
    {
     "name": "stdout",
     "output_type": "stream",
     "text": [
      "created_month                   int64\n",
      "created_day_of_month            int64\n",
      "created_dow                     int64\n",
      "created_hour                  float64\n",
      "created_minute                float64\n",
      "created_minute_of_the_day     float64\n",
      "created_hour_of_dataset       float64\n",
      "created_distance_from_peak    float64\n",
      "num_apts_same_3hours          float64\n",
      "num_apts_prev_3hours          float64\n",
      "num_apts_next_3hours          float64\n",
      "num_apts_same_2days           float64\n",
      "num_apts_prev_2days           float64\n",
      "num_apts_next_2days           float64\n",
      "dtype: object\n"
     ]
    }
   ],
   "source": [
    "e = pd.read_csv('tmp/features_created.csv', index_col='id')\n",
    "print e.dtypes\n",
    "d = pd.merge(d, e, how='left', left_index=True, right_index=True)"
   ]
  },
  {
   "cell_type": "code",
   "execution_count": 7,
   "metadata": {
    "collapsed": false
   },
   "outputs": [
    {
     "name": "stdout",
     "output_type": "stream",
     "text": [
      "desc_count_non_alphanumeric_characters    float64\n",
      "desc_num_bangs                            float64\n",
      "desc_num_breaks                           float64\n",
      "desc_num_emails                           float64\n",
      "desc_num_nonalpha                         float64\n",
      "desc_num_paragraphs                       float64\n",
      "desc_num_parentheses                      float64\n",
      "desc_num_phones                           float64\n",
      "desc_num_website_redacted                 float64\n",
      "desc_num_words                            float64\n",
      "num_characters                            float64\n",
      "ratio_non_alphanumeric_characters         float64\n",
      "desc_num_words_q                          float64\n",
      "desc_count_24                               int64\n",
      "desc_count_apartment                        int64\n",
      "desc_count_appliances                       int64\n",
      "desc_count_area                             int64\n",
      "desc_count_bathroom                         int64\n",
      "desc_count_beautiful                        int64\n",
      "desc_count_bedroom                          int64\n",
      "desc_count_br                               int64\n",
      "desc_count_building                         int64\n",
      "desc_count_ceilings                         int64\n",
      "desc_count_center                           int64\n",
      "desc_count_city                             int64\n",
      "desc_count_closet                           int64\n",
      "desc_count_contact                          int64\n",
      "desc_count_dishwasher                       int64\n",
      "desc_count_doorman                          int64\n",
      "desc_count_east                             int64\n",
      "                                           ...   \n",
      "desc_count_granite                          int64\n",
      "desc_count_great                            int64\n",
      "desc_count_hardwood                         int64\n",
      "desc_count_high                             int64\n",
      "desc_count_information                      int64\n",
      "desc_count_kitchen                          int64\n",
      "desc_count_large                            int64\n",
      "desc_count_laundry                          int64\n",
      "desc_count_li                               int64\n",
      "desc_count_living                           int64\n",
      "desc_count_located                          int64\n",
      "desc_count_location                         int64\n",
      "desc_count_luxury                           int64\n",
      "desc_count_marble                           int64\n",
      "desc_count_new                              int64\n",
      "desc_count_park                             int64\n",
      "desc_count_private                          int64\n",
      "desc_count_renovated                        int64\n",
      "desc_count_restaurants                      int64\n",
      "desc_count_room                             int64\n",
      "desc_count_space                            int64\n",
      "desc_count_spacious                         int64\n",
      "desc_count_stainless                        int64\n",
      "desc_count_steel                            int64\n",
      "desc_count_text                             int64\n",
      "desc_count_unit                             int64\n",
      "desc_count_windows                          int64\n",
      "desc_count_york                             int64\n",
      "desc_top_500_word_coverage                float64\n",
      "desc_top_500_word_ratio                   float64\n",
      "dtype: object\n"
     ]
    }
   ],
   "source": [
    "e = pd.read_csv('tmp/features_description.csv', index_col='id')\n",
    "print e.dtypes\n",
    "d = pd.merge(d, e, how='left', left_index=True, right_index=True)"
   ]
  },
  {
   "cell_type": "code",
   "execution_count": 8,
   "metadata": {
    "collapsed": false
   },
   "outputs": [
    {
     "name": "stdout",
     "output_type": "stream",
     "text": [
      "daddr_num_words             float64\n",
      "daddr_has_number              int64\n",
      "daddr_has_ordinal             int64\n",
      "daddr_num_upper_words       float64\n",
      "daddr_count_10th              int64\n",
      "daddr_count_2nd               int64\n",
      "daddr_count_34th              int64\n",
      "daddr_count_37th              int64\n",
      "daddr_count_ave               int64\n",
      "daddr_count_avenue            int64\n",
      "daddr_count_broadway          int64\n",
      "daddr_count_east              int64\n",
      "daddr_count_end               int64\n",
      "daddr_count_gold              int64\n",
      "daddr_count_john              int64\n",
      "daddr_count_park              int64\n",
      "daddr_count_place             int64\n",
      "daddr_count_second            int64\n",
      "daddr_count_st                int64\n",
      "daddr_count_street            int64\n",
      "daddr_count_wall              int64\n",
      "daddr_count_washington        int64\n",
      "daddr_count_west              int64\n",
      "daddr_count_york              int64\n",
      "num_apts_with_same_daddr    float64\n",
      "dtype: object\n"
     ]
    }
   ],
   "source": [
    "e = pd.read_csv('tmp/features_display_address.csv', index_col='id')\n",
    "print e.dtypes\n",
    "d = pd.merge(d, e, how='left', left_index=True, right_index=True)"
   ]
  },
  {
   "cell_type": "code",
   "execution_count": 9,
   "metadata": {
    "collapsed": false
   },
   "outputs": [
    {
     "name": "stdout",
     "output_type": "stream",
     "text": [
      "num_features                                 float64\n",
      "top_10_feature_coverage                      float64\n",
      "top_10_feature_ratio                         float64\n",
      "features_count_balcony                         int64\n",
      "features_count_cats_allowed                    int64\n",
      "features_count_common_outdoor_space            int64\n",
      "features_count_dining_room                     int64\n",
      "features_count_dishwasher                      int64\n",
      "features_count_dogs_allowed                    int64\n",
      "features_count_doorman                         int64\n",
      "features_count_dryer_in_unit                   int64\n",
      "features_count_elevator                        int64\n",
      "features_count_exclusive                       int64\n",
      "features_count_fireplace                       int64\n",
      "features_count_fitness_center                  int64\n",
      "features_count_furnished                       int64\n",
      "features_count_garage                          int64\n",
      "features_count_garden                          int64\n",
      "features_count_green_building                  int64\n",
      "features_count_hardwood                        int64\n",
      "features_count_hardwood_floors                 int64\n",
      "features_count_high_ceiling                    int64\n",
      "features_count_high_ceilings                   int64\n",
      "features_count_high_speed_internet             int64\n",
      "features_count_laundry                         int64\n",
      "features_count_laundry_in_building             int64\n",
      "features_count_laundry_in_unit                 int64\n",
      "features_count_laundry_room                    int64\n",
      "features_count_live_in_super                   int64\n",
      "features_count_loft                            int64\n",
      "features_count_lowrise                         int64\n",
      "features_count_multilevel                      int64\n",
      "features_count_new_construction                int64\n",
      "features_count_no_fee                          int64\n",
      "features_count_onsite_laundry                  int64\n",
      "features_count_outdoor_space                   int64\n",
      "features_count_parking_space                   int64\n",
      "features_count_patio                           int64\n",
      "features_count_pool                            int64\n",
      "features_count_prewar                          int64\n",
      "features_count_private_outdoor_space           int64\n",
      "features_count_publicoutdoor                   int64\n",
      "features_count_reduced_fee                     int64\n",
      "features_count_renovated                       int64\n",
      "features_count_roof_deck                       int64\n",
      "features_count_roofdeck                        int64\n",
      "features_count_simplex                         int64\n",
      "features_count_stainless_steel_appliances      int64\n",
      "features_count_storage                         int64\n",
      "features_count_swimming_pool                   int64\n",
      "features_count_terrace                         int64\n",
      "features_count_washer                          int64\n",
      "features_count_wheelchair_access               int64\n",
      "dtype: object\n"
     ]
    }
   ],
   "source": [
    "e = pd.read_csv('tmp/features_features.csv', index_col='id')\n",
    "print e.dtypes\n",
    "d = pd.merge(d, e, how='left', left_index=True, right_index=True)"
   ]
  },
  {
   "cell_type": "code",
   "execution_count": 10,
   "metadata": {
    "collapsed": false
   },
   "outputs": [
    {
     "name": "stdout",
     "output_type": "stream",
     "text": [
      "latitude             float64\n",
      "longitude            float64\n",
      "cluster_id             int64\n",
      "cluster_size         float64\n",
      "distance_cc          float64\n",
      "price_clust_br_q     float64\n",
      "area_density         float64\n",
      "area_distance_com    float64\n",
      "dtype: object\n"
     ]
    }
   ],
   "source": [
    "e = pd.read_csv('tmp/features_latlon.csv', index_col='id')\n",
    "print e.dtypes\n",
    "d = pd.merge(d, e, how='left', left_index=True, right_index=True)"
   ]
  },
  {
   "cell_type": "code",
   "execution_count": 11,
   "metadata": {
    "collapsed": false
   },
   "outputs": [
    {
     "name": "stdout",
     "output_type": "stream",
     "text": [
      "num_apts_at_manager      float64\n",
      "num_apts_at_manager_q    float64\n",
      "private_manager            int64\n",
      "manager_code               int64\n",
      "dtype: object\n"
     ]
    }
   ],
   "source": [
    "e = pd.read_csv('tmp/features_manager_id.csv', index_col='id')\n",
    "print e.dtypes\n",
    "d = pd.merge(d, e, how='left', left_index=True, right_index=True)"
   ]
  },
  {
   "cell_type": "code",
   "execution_count": 12,
   "metadata": {
    "collapsed": false
   },
   "outputs": [
    {
     "name": "stdout",
     "output_type": "stream",
     "text": [
      "num_photos         float64\n",
      "has_photos           int64\n",
      "photos_per_room    float64\n",
      "dtype: object\n"
     ]
    }
   ],
   "source": [
    "e = pd.read_csv('tmp/features_photos.csv', index_col='id')\n",
    "print e.dtypes\n",
    "d = pd.merge(d, e, how='left', left_index=True, right_index=True)"
   ]
  },
  {
   "cell_type": "code",
   "execution_count": 13,
   "metadata": {
    "collapsed": false
   },
   "outputs": [
    {
     "name": "stdout",
     "output_type": "stream",
     "text": [
      "price                              float64\n",
      "price_br_q                         float64\n",
      "num_apts_with_approx_same_price    float64\n",
      "dtype: object\n"
     ]
    }
   ],
   "source": [
    "e = pd.read_csv('tmp/features_price.csv', index_col='id')\n",
    "print e.dtypes\n",
    "d = pd.merge(d, e, how='left', left_index=True, right_index=True)"
   ]
  },
  {
   "cell_type": "code",
   "execution_count": 14,
   "metadata": {
    "collapsed": false
   },
   "outputs": [
    {
     "name": "stdout",
     "output_type": "stream",
     "text": [
      "saddr_num_words             float64\n",
      "saddr_has_number              int64\n",
      "saddr_has_ordinal             int64\n",
      "saddr_num_upper_words       float64\n",
      "daddr_saddr_same              int64\n",
      "num_apts_with_same_saddr    float64\n",
      "saddr_count_10                int64\n",
      "saddr_count_100               int64\n",
      "saddr_count_150               int64\n",
      "saddr_count_200               int64\n",
      "saddr_count_25                int64\n",
      "saddr_count_34th              int64\n",
      "saddr_count_37th              int64\n",
      "saddr_count_50                int64\n",
      "saddr_count_90                int64\n",
      "saddr_count_95                int64\n",
      "saddr_count_ave               int64\n",
      "saddr_count_avenue            int64\n",
      "saddr_count_broadway          int64\n",
      "saddr_count_east              int64\n",
      "saddr_count_place             int64\n",
      "saddr_count_st                int64\n",
      "saddr_count_street            int64\n",
      "saddr_count_wall              int64\n",
      "saddr_count_washington        int64\n",
      "saddr_count_west              int64\n",
      "dtype: object\n"
     ]
    }
   ],
   "source": [
    "e = pd.read_csv('tmp/features_street_address.csv', index_col='id')\n",
    "print e.dtypes\n",
    "d = pd.merge(d, e, how='left', left_index=True, right_index=True)"
   ]
  },
  {
   "cell_type": "code",
   "execution_count": 15,
   "metadata": {
    "collapsed": false
   },
   "outputs": [
    {
     "name": "stdout",
     "output_type": "stream",
     "text": [
      "price_per_bedrooms                   float64\n",
      "rooms_diff                           float64\n",
      "rooms_sum                            float64\n",
      "bathrooms_per_bedrooms               float64\n",
      "hours_since_managers_last_listing    float64\n",
      "dtype: object\n"
     ]
    }
   ],
   "source": [
    "e = pd.read_csv('tmp/features_others.csv', index_col='id')\n",
    "print e.dtypes\n",
    "d = pd.merge(d, e, how='left', left_index=True, right_index=True)"
   ]
  },
  {
   "cell_type": "code",
   "execution_count": 16,
   "metadata": {
    "collapsed": false
   },
   "outputs": [
    {
     "data": {
      "text/plain": [
       "low       34284\n",
       "medium    11229\n",
       "high       3839\n",
       "Name: interest_level, dtype: int64"
      ]
     },
     "execution_count": 16,
     "metadata": {},
     "output_type": "execute_result"
    }
   ],
   "source": [
    "d.interest_level.value_counts()"
   ]
  },
  {
   "cell_type": "code",
   "execution_count": 17,
   "metadata": {
    "collapsed": false
   },
   "outputs": [],
   "source": [
    "for c in d.columns:\n",
    "    if c != 'interest_level' and (d.dtypes[c] not in ('int64', 'float64')):\n",
    "        del d[c]"
   ]
  },
  {
   "cell_type": "code",
   "execution_count": 18,
   "metadata": {
    "collapsed": false
   },
   "outputs": [
    {
     "name": "stdout",
     "output_type": "stream",
     "text": [
      "49352\n"
     ]
    }
   ],
   "source": [
    "tr = d[d.interest_level.notnull()]\n",
    "print len(tr)"
   ]
  },
  {
   "cell_type": "code",
   "execution_count": 19,
   "metadata": {
    "collapsed": false
   },
   "outputs": [
    {
     "name": "stdout",
     "output_type": "stream",
     "text": [
      "74659\n"
     ]
    }
   ],
   "source": [
    "te = d[d.interest_level.isnull()]\n",
    "print len(te)"
   ]
  },
  {
   "cell_type": "code",
   "execution_count": 20,
   "metadata": {
    "collapsed": false
   },
   "outputs": [
    {
     "name": "stdout",
     "output_type": "stream",
     "text": [
      "(49352, 212)\n",
      "(74659, 212)\n"
     ]
    }
   ],
   "source": [
    "print tr.values.shape\n",
    "print te.values.shape"
   ]
  },
  {
   "cell_type": "code",
   "execution_count": 21,
   "metadata": {
    "collapsed": false
   },
   "outputs": [],
   "source": [
    "# target_num_map = {'high':0, 'medium':1, 'low':2}\n",
    "# tr = np.array(trl.apply(lambda x: target_num_map[x]))"
   ]
  },
  {
   "cell_type": "code",
   "execution_count": 22,
   "metadata": {
    "collapsed": false
   },
   "outputs": [],
   "source": [
    "tr.to_csv('tmp/combined_train.csv')\n",
    "te.to_csv('tmp/combined_test.csv')"
   ]
  }
 ],
 "metadata": {
  "kernelspec": {
   "display_name": "Python 2",
   "language": "python",
   "name": "python2"
  },
  "language_info": {
   "codemirror_mode": {
    "name": "ipython",
    "version": 2
   },
   "file_extension": ".py",
   "mimetype": "text/x-python",
   "name": "python",
   "nbconvert_exporter": "python",
   "pygments_lexer": "ipython2",
   "version": "2.7.11"
  }
 },
 "nbformat": 4,
 "nbformat_minor": 1
}
