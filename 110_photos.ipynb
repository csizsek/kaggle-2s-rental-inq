{
 "cells": [
  {
   "cell_type": "code",
   "execution_count": 22,
   "metadata": {
    "collapsed": false
   },
   "outputs": [],
   "source": [
    "import base64\n",
    "import datetime\n",
    "import json\n",
    "import os\n",
    "import random\n",
    "import time\n",
    "\n",
    "import scipy\n",
    "from scipy import ndimage\n",
    "import numpy as np\n",
    "import pandas as pd\n",
    "import sklearn\n",
    "import matplotlib as mpl\n",
    "import matplotlib.pyplot as plt\n",
    "from pylab import rcParams\n",
    "import seaborn as sns\n",
    "import statsmodels as sm\n",
    "from pylab import rcParams\n",
    "from pylab import *\n",
    "from matplotlib.dates import date2num , DateFormatter\n",
    "from PIL import Image\n",
    "\n",
    "np.random.seed(1337)\n",
    "\n",
    "%matplotlib inline\n",
    "sns.set(font_scale=1.0)\n",
    "rcParams['figure.figsize'] = 8, 6\n",
    "sns.set_style('whitegrid')\n",
    "sns.set_palette(sns.color_palette('muted'))\n",
    "\n",
    "pd.options.display.max_colwidth = 1000"
   ]
  },
  {
   "cell_type": "markdown",
   "metadata": {},
   "source": [
    "# Load the Data"
   ]
  },
  {
   "cell_type": "code",
   "execution_count": 23,
   "metadata": {
    "collapsed": false
   },
   "outputs": [
    {
     "name": "stdout",
     "output_type": "stream",
     "text": [
      "124011\n"
     ]
    }
   ],
   "source": [
    "raw_data = pd.read_json('tmp/raw_data.json')\n",
    "d = pd.read_json('tmp/raw_data.json')\n",
    "raw_data.index.name = 'id'\n",
    "d = raw_data[['photos']]\n",
    "print len(d)"
   ]
  },
  {
   "cell_type": "code",
   "execution_count": 24,
   "metadata": {
    "collapsed": false
   },
   "outputs": [
    {
     "data": {
      "text/plain": [
       "photos    object\n",
       "dtype: object"
      ]
     },
     "execution_count": 24,
     "metadata": {},
     "output_type": "execute_result"
    }
   ],
   "source": [
    "d.dtypes"
   ]
  },
  {
   "cell_type": "code",
   "execution_count": 25,
   "metadata": {
    "collapsed": false
   },
   "outputs": [
    {
     "data": {
      "text/plain": [
       "True     114773\n",
       "False      9238\n",
       "Name: has_photos, dtype: int64"
      ]
     },
     "execution_count": 25,
     "metadata": {},
     "output_type": "execute_result"
    }
   ],
   "source": [
    "d.loc[:, 'num_photos'] = d.photos.map(len)\n",
    "d.loc[:, 'has_photos'] = d.num_photos.map(lambda n: n > 0)\n",
    "d.has_photos.value_counts()"
   ]
  },
  {
   "cell_type": "code",
   "execution_count": 26,
   "metadata": {
    "collapsed": false
   },
   "outputs": [
    {
     "data": {
      "text/html": [
       "<div>\n",
       "<table border=\"1\" class=\"dataframe\">\n",
       "  <thead>\n",
       "    <tr style=\"text-align: right;\">\n",
       "      <th></th>\n",
       "      <th>photos</th>\n",
       "      <th>num_photos</th>\n",
       "      <th>has_photos</th>\n",
       "    </tr>\n",
       "    <tr>\n",
       "      <th>id</th>\n",
       "      <th></th>\n",
       "      <th></th>\n",
       "      <th></th>\n",
       "    </tr>\n",
       "  </thead>\n",
       "  <tbody>\n",
       "    <tr>\n",
       "      <th>0</th>\n",
       "      <td>[https://photos.renthop.com/2/7142618_1c45a2c8f45e649b9ee77681cc7ca438.jpg, https://photos.renthop.com/2/7142618_2a0268ff01f834c1039027a04e54edf4.jpg, https://photos.renthop.com/2/7142618_1645edaeb3892d35c190356eeb16bd75.jpg, https://photos.renthop.com/2/7142618_ca5c03339bd1f021b94da72af7356bca.jpg, https://photos.renthop.com/2/7142618_b129d432a96a0ad419f1af430f4a20ff.jpg, https://photos.renthop.com/2/7142618_dd3c3651b991455d3ed7403766c6941d.jpg, https://photos.renthop.com/2/7142618_4ddef2aee0c343f5a86da7113f9336fc.jpg, https://photos.renthop.com/2/7142618_6c51aec64570affecc573efbdc4453ca.jpg]</td>\n",
       "      <td>8</td>\n",
       "      <td>True</td>\n",
       "    </tr>\n",
       "    <tr>\n",
       "      <th>1</th>\n",
       "      <td>[https://photos.renthop.com/2/7210040_d824cc713a28c53e7fe318fd0bd20b9b.jpg, https://photos.renthop.com/2/7210040_59a5256ba78c99e5845d87ca85e837f3.jpg, https://photos.renthop.com/2/7210040_c47b518a0ddecf3a20b159baf7f2afdd.jpg]</td>\n",
       "      <td>3</td>\n",
       "      <td>True</td>\n",
       "    </tr>\n",
       "    <tr>\n",
       "      <th>10</th>\n",
       "      <td>[https://photos.renthop.com/2/7211212_1ed4542ec81621d70d1061aa833e669c.jpg, https://photos.renthop.com/2/7211212_7dfc41dced69245065df83d08eed4a00.jpg, https://photos.renthop.com/2/7211212_c17853c4b869af6f53af08b0f5820b4c.jpg, https://photos.renthop.com/2/7211212_787ad8ea0c089792e7453e2121f8ac89.jpg, https://photos.renthop.com/2/7211212_2e88b0d293ee333c804c2f00536eee49.jpg]</td>\n",
       "      <td>5</td>\n",
       "      <td>True</td>\n",
       "    </tr>\n",
       "    <tr>\n",
       "      <th>100</th>\n",
       "      <td>[https://photos.renthop.com/2/7103890_85b33077dde19f11eeef7ef8769e7024.jpg, https://photos.renthop.com/2/7103890_ad247597edb37bcef35fe8a99b7bf433.jpg, https://photos.renthop.com/2/7103890_9104088ac830801bc8f7dd585eed086e.jpg, https://photos.renthop.com/2/7103890_efdf27137151e2b991b70ebbc7a3c67d.jpg, https://photos.renthop.com/2/7103890_925f83ba7f6a544208aa9347b5fe4a23.jpg, https://photos.renthop.com/2/7103890_922ac1c57742ad106a20989b82d39d6c.jpg]</td>\n",
       "      <td>6</td>\n",
       "      <td>True</td>\n",
       "    </tr>\n",
       "    <tr>\n",
       "      <th>1000</th>\n",
       "      <td>[https://photos.renthop.com/2/7143442_0879e9e063f2f410cc297cabbd5a194e.jpg, https://photos.renthop.com/2/7143442_c2a17e4787c492e08ac45f05f0d4eaec.jpg, https://photos.renthop.com/2/7143442_1ff36581dd993af82d3f5bef39eddb3c.jpg, https://photos.renthop.com/2/7143442_5d87cf646a2fac80680b693c38445625.jpg, https://photos.renthop.com/2/7143442_70a69666b5e61343efe3253a49b56355.jpg, https://photos.renthop.com/2/7143442_c2abdb11c9f84260a92c61d19279460b.jpg]</td>\n",
       "      <td>6</td>\n",
       "      <td>True</td>\n",
       "    </tr>\n",
       "  </tbody>\n",
       "</table>\n",
       "</div>"
      ],
      "text/plain": [
       "                                                                                                                                                                                                                                                                                                                                                                                                                                                                                                                                                                                                                        photos  \\\n",
       "id                                                                                                                                                                                                                                                                                                                                                                                                                                                                                                                                                                                                                               \n",
       "0     [https://photos.renthop.com/2/7142618_1c45a2c8f45e649b9ee77681cc7ca438.jpg, https://photos.renthop.com/2/7142618_2a0268ff01f834c1039027a04e54edf4.jpg, https://photos.renthop.com/2/7142618_1645edaeb3892d35c190356eeb16bd75.jpg, https://photos.renthop.com/2/7142618_ca5c03339bd1f021b94da72af7356bca.jpg, https://photos.renthop.com/2/7142618_b129d432a96a0ad419f1af430f4a20ff.jpg, https://photos.renthop.com/2/7142618_dd3c3651b991455d3ed7403766c6941d.jpg, https://photos.renthop.com/2/7142618_4ddef2aee0c343f5a86da7113f9336fc.jpg, https://photos.renthop.com/2/7142618_6c51aec64570affecc573efbdc4453ca.jpg]   \n",
       "1                                                                                                                                                                                                                                                                                                                                                                                            [https://photos.renthop.com/2/7210040_d824cc713a28c53e7fe318fd0bd20b9b.jpg, https://photos.renthop.com/2/7210040_59a5256ba78c99e5845d87ca85e837f3.jpg, https://photos.renthop.com/2/7210040_c47b518a0ddecf3a20b159baf7f2afdd.jpg]   \n",
       "10                                                                                                                                                                                                                                     [https://photos.renthop.com/2/7211212_1ed4542ec81621d70d1061aa833e669c.jpg, https://photos.renthop.com/2/7211212_7dfc41dced69245065df83d08eed4a00.jpg, https://photos.renthop.com/2/7211212_c17853c4b869af6f53af08b0f5820b4c.jpg, https://photos.renthop.com/2/7211212_787ad8ea0c089792e7453e2121f8ac89.jpg, https://photos.renthop.com/2/7211212_2e88b0d293ee333c804c2f00536eee49.jpg]   \n",
       "100                                                                                                                                                         [https://photos.renthop.com/2/7103890_85b33077dde19f11eeef7ef8769e7024.jpg, https://photos.renthop.com/2/7103890_ad247597edb37bcef35fe8a99b7bf433.jpg, https://photos.renthop.com/2/7103890_9104088ac830801bc8f7dd585eed086e.jpg, https://photos.renthop.com/2/7103890_efdf27137151e2b991b70ebbc7a3c67d.jpg, https://photos.renthop.com/2/7103890_925f83ba7f6a544208aa9347b5fe4a23.jpg, https://photos.renthop.com/2/7103890_922ac1c57742ad106a20989b82d39d6c.jpg]   \n",
       "1000                                                                                                                                                        [https://photos.renthop.com/2/7143442_0879e9e063f2f410cc297cabbd5a194e.jpg, https://photos.renthop.com/2/7143442_c2a17e4787c492e08ac45f05f0d4eaec.jpg, https://photos.renthop.com/2/7143442_1ff36581dd993af82d3f5bef39eddb3c.jpg, https://photos.renthop.com/2/7143442_5d87cf646a2fac80680b693c38445625.jpg, https://photos.renthop.com/2/7143442_70a69666b5e61343efe3253a49b56355.jpg, https://photos.renthop.com/2/7143442_c2abdb11c9f84260a92c61d19279460b.jpg]   \n",
       "\n",
       "      num_photos has_photos  \n",
       "id                           \n",
       "0              8       True  \n",
       "1              3       True  \n",
       "10             5       True  \n",
       "100            6       True  \n",
       "1000           6       True  "
      ]
     },
     "execution_count": 26,
     "metadata": {},
     "output_type": "execute_result"
    }
   ],
   "source": [
    "d.head()"
   ]
  },
  {
   "cell_type": "markdown",
   "metadata": {},
   "source": [
    "### Is there any images that are not jpg?"
   ]
  },
  {
   "cell_type": "code",
   "execution_count": 27,
   "metadata": {
    "collapsed": false
   },
   "outputs": [
    {
     "data": {
      "text/plain": [
       "jpg only    114773\n",
       "              9238\n",
       "Name: photos, dtype: int64"
      ]
     },
     "execution_count": 27,
     "metadata": {},
     "output_type": "execute_result"
    }
   ],
   "source": [
    "# photos\t110_photos.ipynb\tphotos_file_format\tfile format of the photos (if makes sense and not all are the same)\n",
    "from urlparse import urlparse\n",
    "\n",
    "def find_not_jpg(photos):\n",
    "    exts = {}\n",
    "    if len(photos) == 0:\n",
    "        return ''\n",
    "    extensions = [os.path.splitext(os.path.basename(urlparse(p).path))[1] for p in photos]\n",
    "    if all([e == '.jpg' for e in extensions]):\n",
    "        return 'jpg only'\n",
    "    else:\n",
    "        return 'non-jpg'\n",
    "      \n",
    "        \n",
    "d.photos.map(lambda ps: find_not_jpg(ps)).value_counts()\n"
   ]
  },
  {
   "cell_type": "code",
   "execution_count": 28,
   "metadata": {
    "collapsed": false
   },
   "outputs": [],
   "source": [
    "def photo_per_room_ratio(row):\n",
    "    room_cnt = row.bedrooms + row.bathrooms\n",
    "    if room_cnt > 0:\n",
    "        return float(row.num_photos) / room_cnt\n",
    "    else:\n",
    "        return 0\n",
    "d.loc[:, 'bedrooms'] = raw_data['bedrooms']\n",
    "d.loc[:, 'bathrooms'] = raw_data['bathrooms']\n",
    "d.loc[:, 'photos_per_room'] = d.apply(photo_per_room_ratio, axis=1)"
   ]
  },
  {
   "cell_type": "code",
   "execution_count": 29,
   "metadata": {
    "collapsed": false
   },
   "outputs": [
    {
     "data": {
      "text/plain": [
       "<matplotlib.axes._subplots.AxesSubplot at 0x145a08bd0>"
      ]
     },
     "execution_count": 29,
     "metadata": {},
     "output_type": "execute_result"
    },
    {
     "data": {
      "image/png": "[encoded data removed]",
      "text/plain": [
       "<matplotlib.figure.Figure at 0x1646b8490>"
      ]
     },
     "metadata": {},
     "output_type": "display_data"
    }
   ],
   "source": [
    "d.photos_per_room.hist(bins=50)"
   ]
  },
  {
   "cell_type": "markdown",
   "metadata": {},
   "source": [
    "# Save the Data"
   ]
  },
  {
   "cell_type": "code",
   "execution_count": 30,
   "metadata": {
    "collapsed": true
   },
   "outputs": [],
   "source": [
    "d[['photos', 'num_photos', 'has_photos', 'photos_per_room']].to_csv('tmp/features_photos.csv')"
   ]
  }
 ],
 "metadata": {
  "kernelspec": {
   "display_name": "Python 2",
   "language": "python",
   "name": "python2"
  },
  "language_info": {
   "codemirror_mode": {
    "name": "ipython",
    "version": 2
   },
   "file_extension": ".py",
   "mimetype": "text/x-python",
   "name": "python",
   "nbconvert_exporter": "python",
   "pygments_lexer": "ipython2",
   "version": "2.7.10"
  }
 },
 "nbformat": 4,
 "nbformat_minor": 1
}
