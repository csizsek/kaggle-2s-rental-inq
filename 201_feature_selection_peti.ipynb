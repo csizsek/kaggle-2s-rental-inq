{
 "cells": [
  {
   "cell_type": "code",
   "execution_count": 1,
   "metadata": {
    "collapsed": false
   },
   "outputs": [
    {
     "name": "stderr",
     "output_type": "stream",
     "text": [
      "/usr/local/lib/python2.7/site-packages/matplotlib/font_manager.py:273: UserWarning: Matplotlib is building the font cache using fc-list. This may take a moment.\n",
      "  warnings.warn('Matplotlib is building the font cache using fc-list. This may take a moment.')\n",
      "/usr/local/lib/python2.7/site-packages/sklearn/cross_validation.py:44: DeprecationWarning: This module was deprecated in version 0.18 in favor of the model_selection module into which all the refactored classes and functions are moved. Also note that the interface of the new CV iterators are different from that of this module. This module will be removed in 0.20.\n",
      "  \"This module will be removed in 0.20.\", DeprecationWarning)\n",
      "/usr/local/lib/python2.7/site-packages/sklearn/grid_search.py:43: DeprecationWarning: This module was deprecated in version 0.18 in favor of the model_selection module into which all the refactored classes and functions are moved. This module will be removed in 0.20.\n",
      "  DeprecationWarning)\n",
      "/usr/local/lib/python2.7/site-packages/sklearn/lda.py:6: DeprecationWarning: lda.LDA has been moved to discriminant_analysis.LinearDiscriminantAnalysis in 0.17 and will be removed in 0.19\n",
      "  \"in 0.17 and will be removed in 0.19\", DeprecationWarning)\n",
      "/usr/local/lib/python2.7/site-packages/sklearn/learning_curve.py:23: DeprecationWarning: This module was deprecated in version 0.18 in favor of the model_selection module into which all the functions are moved. This module will be removed in 0.20\n",
      "  DeprecationWarning)\n",
      "/usr/local/lib/python2.7/site-packages/sklearn/qda.py:6: DeprecationWarning: qda.QDA has been moved to discriminant_analysis.QuadraticDiscriminantAnalysis in 0.17 and will be removed in 0.19.\n",
      "  \"in 0.17 and will be removed in 0.19.\", DeprecationWarning)\n"
     ]
    }
   ],
   "source": [
    "import base64\n",
    "import collections\n",
    "import datetime\n",
    "import itertools\n",
    "import json\n",
    "import os\n",
    "import pickle\n",
    "import random\n",
    "import re\n",
    "import sys\n",
    "import time\n",
    "\n",
    "import matplotlib as mpl\n",
    "import matplotlib.pyplot as plt\n",
    "#import nltk\n",
    "import numpy as np\n",
    "import pandas as pd\n",
    "#import PIL\n",
    "import pylab\n",
    "import scipy\n",
    "import seaborn as sns\n",
    "import sklearn\n",
    "from sklearn import *\n",
    "import statsmodels as sm\n",
    "#import xgboost as xgb\n",
    "\n",
    "np.random.seed(1337)\n",
    "\n",
    "%matplotlib inline\n",
    "\n",
    "sns.set(font_scale=1.0)\n",
    "mpl.rcParams['figure.figsize'] = 12, 8\n",
    "sns.set_style('whitegrid')\n",
    "sns.set_palette(sns.color_palette('muted'))"
   ]
  },
  {
   "cell_type": "code",
   "execution_count": 17,
   "metadata": {
    "collapsed": false
   },
   "outputs": [],
   "source": [
    "tr = pd.read_csv('tmp/combined_train.csv', index_col='id')\n",
    "trl = pd.get_dummies(tr.interest_level)\n",
    "del tr['interest_level']"
   ]
  },
  {
   "cell_type": "code",
   "execution_count": 18,
   "metadata": {
    "collapsed": true
   },
   "outputs": [],
   "source": [
    "NUM_FEATURES = 30"
   ]
  },
  {
   "cell_type": "markdown",
   "metadata": {},
   "source": [
    "# Univariate Selection"
   ]
  },
  {
   "cell_type": "code",
   "execution_count": 4,
   "metadata": {
    "collapsed": false
   },
   "outputs": [],
   "source": [
    "uni_features = {}\n",
    "for t in ['low', 'medium', 'high']:\n",
    "    test = sklearn.feature_selection.SelectKBest(\n",
    "                score_func=sklearn.feature_selection.chi2,\n",
    "                k=NUM_FEATURES)\n",
    "    fit = test.fit(tr.fillna(0) + 10000, trl[t])\n",
    "    uni_features[t] = list(itertools.compress(tr.columns, fit.get_support()))"
   ]
  },
  {
   "cell_type": "code",
   "execution_count": 5,
   "metadata": {
    "collapsed": false
   },
   "outputs": [
    {
     "name": "stdout",
     "output_type": "stream",
     "text": [
      "31\n",
      "28\n"
     ]
    }
   ],
   "source": [
    "f = uni_features\n",
    "print len(set(f['low']) |\n",
    "          set(f['medium']) |\n",
    "          set(f['high']))\n",
    "print len(set(f['low']) &\n",
    "          set(f['medium']) &\n",
    "          set(f['high']))"
   ]
  },
  {
   "cell_type": "code",
   "execution_count": 6,
   "metadata": {
    "collapsed": false
   },
   "outputs": [
    {
     "data": {
      "text/plain": [
       "{'area_density',\n",
       " 'bathrooms_per_bedrooms',\n",
       " 'building_code',\n",
       " 'cluster_id',\n",
       " 'cluster_size',\n",
       " 'created_day_of_month',\n",
       " 'created_distance_from_peak',\n",
       " 'created_hour',\n",
       " 'created_hour_of_dataset',\n",
       " 'created_minute_of_the_day',\n",
       " 'desc_count_non_alphanumeric_characters',\n",
       " 'desc_num_bangs',\n",
       " 'desc_num_breaks',\n",
       " 'desc_num_nonalpha',\n",
       " 'desc_num_words',\n",
       " 'hours_since_managers_last_listing',\n",
       " 'manager_code',\n",
       " 'num_apts_at_manager',\n",
       " 'num_apts_in_building',\n",
       " 'num_apts_next_2days',\n",
       " 'num_apts_next_3hours',\n",
       " 'num_apts_prev_2days',\n",
       " 'num_apts_prev_3hours',\n",
       " 'num_apts_same_2days',\n",
       " 'num_apts_same_3hours',\n",
       " 'num_apts_with_approx_same_price',\n",
       " 'num_apts_with_same_daddr',\n",
       " 'num_apts_with_same_saddr',\n",
       " 'num_characters',\n",
       " 'price',\n",
       " 'price_per_bedrooms'}"
      ]
     },
     "execution_count": 6,
     "metadata": {},
     "output_type": "execute_result"
    }
   ],
   "source": [
    "set(f['low']) | set(f['medium']) | set(f['high'])"
   ]
  },
  {
   "cell_type": "code",
   "execution_count": 7,
   "metadata": {
    "collapsed": false
   },
   "outputs": [
    {
     "data": {
      "text/plain": [
       "{'area_density',\n",
       " 'bathrooms_per_bedrooms',\n",
       " 'building_code',\n",
       " 'cluster_id',\n",
       " 'cluster_size',\n",
       " 'created_distance_from_peak',\n",
       " 'created_hour',\n",
       " 'created_hour_of_dataset',\n",
       " 'created_minute_of_the_day',\n",
       " 'desc_count_non_alphanumeric_characters',\n",
       " 'desc_num_bangs',\n",
       " 'desc_num_nonalpha',\n",
       " 'desc_num_words',\n",
       " 'hours_since_managers_last_listing',\n",
       " 'manager_code',\n",
       " 'num_apts_at_manager',\n",
       " 'num_apts_in_building',\n",
       " 'num_apts_next_3hours',\n",
       " 'num_apts_prev_2days',\n",
       " 'num_apts_prev_3hours',\n",
       " 'num_apts_same_2days',\n",
       " 'num_apts_same_3hours',\n",
       " 'num_apts_with_approx_same_price',\n",
       " 'num_apts_with_same_daddr',\n",
       " 'num_apts_with_same_saddr',\n",
       " 'num_characters',\n",
       " 'price',\n",
       " 'price_per_bedrooms'}"
      ]
     },
     "execution_count": 7,
     "metadata": {},
     "output_type": "execute_result"
    }
   ],
   "source": [
    "set(f['low']) & set(f['medium']) & set(f['high'])"
   ]
  },
  {
   "cell_type": "markdown",
   "metadata": {},
   "source": [
    "# Feature Importance"
   ]
  },
  {
   "cell_type": "code",
   "execution_count": 8,
   "metadata": {
    "collapsed": false
   },
   "outputs": [],
   "source": [
    "fim_features = {}\n",
    "for t in ['low', 'medium', 'high']:\n",
    "    m = ensemble.ExtraTreesClassifier(\n",
    "        n_estimators=100,\n",
    "        max_depth=5,\n",
    "        max_features=50,\n",
    "        n_jobs=3)\n",
    "    m.fit(tr.fillna(0), trl[t])\n",
    "    fi = zip(m.feature_importances_, tr.columns)\n",
    "    fi.sort(key=lambda x: x[0], reverse=True)\n",
    "    fim_features[t] = [p[1] for p in fi[:NUM_FEATURES]]"
   ]
  },
  {
   "cell_type": "code",
   "execution_count": 9,
   "metadata": {
    "collapsed": false
   },
   "outputs": [
    {
     "name": "stdout",
     "output_type": "stream",
     "text": [
      "39\n",
      "20\n"
     ]
    }
   ],
   "source": [
    "f = fim_features\n",
    "print len(set(f['low']) |\n",
    "          set(f['medium']) |\n",
    "          set(f['high']))\n",
    "print len(set(f['low']) &\n",
    "          set(f['medium']) &\n",
    "          set(f['high']))"
   ]
  },
  {
   "cell_type": "code",
   "execution_count": 10,
   "metadata": {
    "collapsed": false
   },
   "outputs": [
    {
     "data": {
      "text/plain": [
       "{'area_density',\n",
       " 'bathrooms_per_bedrooms',\n",
       " 'bedrooms',\n",
       " 'building_code',\n",
       " 'building_id_is_zero',\n",
       " 'cluster_id',\n",
       " 'cluster_size',\n",
       " 'created_distance_from_peak',\n",
       " 'created_hour',\n",
       " 'created_minute_of_the_day',\n",
       " 'daddr_has_number',\n",
       " 'daddr_saddr_same',\n",
       " 'desc_num_breaks',\n",
       " 'desc_num_emails',\n",
       " 'desc_num_nonalpha',\n",
       " 'desc_num_paragraphs',\n",
       " 'desc_num_phones',\n",
       " 'desc_num_website_redacted',\n",
       " 'desc_num_words',\n",
       " 'desc_num_words_q',\n",
       " 'desc_top_500_word_coverage',\n",
       " 'has_photos',\n",
       " 'num_apts_at_manager_q',\n",
       " 'num_apts_in_building',\n",
       " 'num_apts_next_3hours',\n",
       " 'num_apts_prev_3hours',\n",
       " 'num_apts_same_3hours',\n",
       " 'num_apts_with_approx_same_price',\n",
       " 'num_apts_with_same_daddr',\n",
       " 'num_apts_with_same_saddr',\n",
       " 'num_characters',\n",
       " 'num_photos',\n",
       " 'price',\n",
       " 'price_br_q',\n",
       " 'price_clust_br_q',\n",
       " 'price_per_bedrooms',\n",
       " 'rooms_diff',\n",
       " 'saddr_has_number',\n",
       " 'top_10_feature_coverage'}"
      ]
     },
     "execution_count": 10,
     "metadata": {},
     "output_type": "execute_result"
    }
   ],
   "source": [
    "set(f['low']) | set(f['medium']) | set(f['high'])"
   ]
  },
  {
   "cell_type": "code",
   "execution_count": 11,
   "metadata": {
    "collapsed": false
   },
   "outputs": [
    {
     "data": {
      "text/plain": [
       "{'building_code',\n",
       " 'building_id_is_zero',\n",
       " 'cluster_size',\n",
       " 'created_distance_from_peak',\n",
       " 'created_hour',\n",
       " 'created_minute_of_the_day',\n",
       " 'daddr_saddr_same',\n",
       " 'desc_num_breaks',\n",
       " 'desc_num_paragraphs',\n",
       " 'desc_num_website_redacted',\n",
       " 'has_photos',\n",
       " 'num_apts_in_building',\n",
       " 'num_apts_next_3hours',\n",
       " 'num_apts_same_3hours',\n",
       " 'num_apts_with_approx_same_price',\n",
       " 'price',\n",
       " 'price_br_q',\n",
       " 'price_clust_br_q',\n",
       " 'rooms_diff',\n",
       " 'saddr_has_number'}"
      ]
     },
     "execution_count": 11,
     "metadata": {},
     "output_type": "execute_result"
    }
   ],
   "source": [
    "set(f['low']) & set(f['medium']) & set(f['high'])"
   ]
  },
  {
   "cell_type": "markdown",
   "metadata": {},
   "source": [
    "# Select from Model: Linear SVC"
   ]
  },
  {
   "cell_type": "code",
   "execution_count": 12,
   "metadata": {
    "collapsed": false
   },
   "outputs": [],
   "source": [
    "sfmsvc_features = {}\n",
    "for t in ['low', 'medium', 'high']:\n",
    "    m = sklearn.svm.LinearSVC(C=0.01, penalty='l1', dual=False)\n",
    "    m.fit(tr.fillna(0), trl[t])\n",
    "    m = sklearn.feature_selection.SelectFromModel(m, prefit=True)\n",
    "    sfmsvc_features[t] = list(itertools.compress(tr.columns, m.get_support()))"
   ]
  },
  {
   "cell_type": "code",
   "execution_count": 13,
   "metadata": {
    "collapsed": false
   },
   "outputs": [
    {
     "name": "stdout",
     "output_type": "stream",
     "text": [
      "108\n",
      "45\n"
     ]
    }
   ],
   "source": [
    "f = sfmsvc_features\n",
    "print len(set(f['low']) |\n",
    "          set(f['medium']) |\n",
    "          set(f['high']))\n",
    "print len(set(f['low']) &\n",
    "          set(f['medium']) &\n",
    "          set(f['high']))"
   ]
  },
  {
   "cell_type": "markdown",
   "metadata": {},
   "source": [
    "# Select from Model: LASSO"
   ]
  },
  {
   "cell_type": "code",
   "execution_count": 14,
   "metadata": {
    "collapsed": false
   },
   "outputs": [
    {
     "data": {
      "text/plain": [
       "{'area_density',\n",
       " 'bathrooms_per_bedrooms',\n",
       " 'bedrooms',\n",
       " 'cluster_id',\n",
       " 'cluster_size',\n",
       " 'created_day_of_month',\n",
       " 'created_distance_from_peak',\n",
       " 'created_dow',\n",
       " 'created_minute',\n",
       " 'created_minute_of_the_day',\n",
       " 'daddr_has_number',\n",
       " 'daddr_has_ordinal',\n",
       " 'daddr_num_upper_words',\n",
       " 'daddr_num_words',\n",
       " 'daddr_saddr_same',\n",
       " 'desc_count_apartment',\n",
       " 'desc_count_beautiful',\n",
       " 'desc_count_bedroom',\n",
       " 'desc_count_li',\n",
       " 'desc_count_new',\n",
       " 'desc_count_non_alphanumeric_characters',\n",
       " 'desc_count_space',\n",
       " 'desc_num_bangs',\n",
       " 'desc_num_nonalpha',\n",
       " 'desc_num_parentheses',\n",
       " 'desc_num_phones',\n",
       " 'desc_num_website_redacted',\n",
       " 'desc_num_words',\n",
       " 'distance_cc',\n",
       " 'features_count_balcony',\n",
       " 'features_count_high_speed_internet',\n",
       " 'has_photos',\n",
       " 'hours_since_managers_last_listing',\n",
       " 'latitude',\n",
       " 'longitude',\n",
       " 'num_apts_in_building',\n",
       " 'num_apts_next_3hours',\n",
       " 'num_apts_same_3hours',\n",
       " 'num_apts_with_same_daddr',\n",
       " 'num_apts_with_same_saddr',\n",
       " 'num_features',\n",
       " 'price',\n",
       " 'price_br_q',\n",
       " 'price_clust_br_q',\n",
       " 'rooms_sum'}"
      ]
     },
     "execution_count": 14,
     "metadata": {},
     "output_type": "execute_result"
    }
   ],
   "source": [
    "set(f['low']) & set(f['medium']) & set(f['high'])"
   ]
  },
  {
   "cell_type": "code",
   "execution_count": 15,
   "metadata": {
    "collapsed": false
   },
   "outputs": [
    {
     "name": "stderr",
     "output_type": "stream",
     "text": [
      "/usr/local/lib/python2.7/site-packages/sklearn/feature_selection/base.py:80: UserWarning: No features were selected: either the data is too noisy or the selection test too strict.\n",
      "  UserWarning)\n"
     ]
    }
   ],
   "source": [
    "lasso_features = {}\n",
    "for t in ['low', 'medium', 'high']:\n",
    "    m = sklearn.linear_model.LassoCV()\n",
    "    m = sklearn.feature_selection.SelectFromModel(m, threshold=0.05)\n",
    "    m.fit(tr.fillna(0), trl[t])\n",
    "    n_features = m.transform(tr.fillna(0)).shape[1]\n",
    "    while n_features > 30:\n",
    "        m.threshold += 0.1\n",
    "        tr_transform = m.transform(tr.fillna(0))\n",
    "        n_features = tr_transform.shape[1]\n",
    "    lasso_features[t] = list(itertools.compress(tr.columns, m.get_support()))"
   ]
  },
  {
   "cell_type": "code",
   "execution_count": 16,
   "metadata": {
    "collapsed": false
   },
   "outputs": [
    {
     "name": "stdout",
     "output_type": "stream",
     "text": [
      "0\n",
      "0\n"
     ]
    }
   ],
   "source": [
    "f = lasso_features\n",
    "print len(set(f['low']) |\n",
    "          set(f['medium']) |\n",
    "          set(f['high']))\n",
    "print len(set(f['low']) &\n",
    "          set(f['medium']) &\n",
    "          set(f['high']))"
   ]
  },
  {
   "cell_type": "markdown",
   "metadata": {},
   "source": [
    "# Recursive Feature Elimination"
   ]
  },
  {
   "cell_type": "code",
   "execution_count": 17,
   "metadata": {
    "collapsed": false
   },
   "outputs": [],
   "source": [
    "rfe_features = {}\n",
    "for t in ['low', 'medium', 'high']:\n",
    "    m = sklearn.linear_model.LogisticRegression()\n",
    "    rfe = sklearn.feature_selection.RFE(\n",
    "            estimator=m,\n",
    "            n_features_to_select=NUM_FEATURES,\n",
    "            step=0.03)\n",
    "    fit = rfe.fit(tr.fillna(0), trl[t])\n",
    "    rfe_features[t] = list(itertools.compress(tr.columns, fit.get_support()))"
   ]
  },
  {
   "cell_type": "code",
   "execution_count": 18,
   "metadata": {
    "collapsed": false
   },
   "outputs": [
    {
     "name": "stdout",
     "output_type": "stream",
     "text": [
      "54\n",
      "8\n"
     ]
    }
   ],
   "source": [
    "f = rfe_features\n",
    "print len(set(f['low']) |\n",
    "          set(f['medium']) |\n",
    "          set(f['high']))\n",
    "print len(set(f['low']) &\n",
    "          set(f['medium']) &\n",
    "          set(f['high']))"
   ]
  },
  {
   "cell_type": "code",
   "execution_count": 19,
   "metadata": {
    "collapsed": false
   },
   "outputs": [
    {
     "data": {
      "text/plain": [
       "{'bathrooms',\n",
       " 'daddr_count_10th',\n",
       " 'daddr_count_gold',\n",
       " 'daddr_count_street',\n",
       " 'daddr_has_number',\n",
       " 'daddr_has_ordinal',\n",
       " 'daddr_num_upper_words',\n",
       " 'daddr_num_words',\n",
       " 'daddr_saddr_same',\n",
       " 'desc_count_beautiful',\n",
       " 'desc_count_center',\n",
       " 'desc_count_hardwood',\n",
       " 'desc_count_private',\n",
       " 'desc_count_space',\n",
       " 'desc_num_emails',\n",
       " 'desc_num_paragraphs',\n",
       " 'desc_num_phones',\n",
       " 'desc_num_website_redacted',\n",
       " 'desc_num_words_q',\n",
       " 'desc_top_500_word_coverage',\n",
       " 'desc_top_500_word_ratio',\n",
       " 'distance_cc',\n",
       " 'features_count_balcony',\n",
       " 'features_count_cats_allowed',\n",
       " 'features_count_dogs_allowed',\n",
       " 'features_count_high_ceilings',\n",
       " 'features_count_high_speed_internet',\n",
       " 'features_count_live_in_super',\n",
       " 'features_count_loft',\n",
       " 'features_count_lowrise',\n",
       " 'features_count_no_fee',\n",
       " 'features_count_parking_space',\n",
       " 'features_count_simplex',\n",
       " 'features_count_swimming_pool',\n",
       " 'has_photos',\n",
       " 'latitude',\n",
       " 'longitude',\n",
       " 'num_apts_at_manager_q',\n",
       " 'num_features',\n",
       " 'photos_per_room',\n",
       " 'price_br_q',\n",
       " 'price_clust_br_q',\n",
       " 'ratio_non_alphanumeric_characters',\n",
       " 'rooms_diff',\n",
       " 'rooms_sum',\n",
       " 'saddr_count_ave',\n",
       " 'saddr_count_broadway',\n",
       " 'saddr_count_street',\n",
       " 'saddr_has_number',\n",
       " 'saddr_has_ordinal',\n",
       " 'saddr_num_upper_words',\n",
       " 'saddr_num_words',\n",
       " 'top_10_feature_coverage',\n",
       " 'top_10_feature_ratio'}"
      ]
     },
     "execution_count": 19,
     "metadata": {},
     "output_type": "execute_result"
    }
   ],
   "source": [
    "set(f['low']) | set(f['medium']) | set(f['high'])"
   ]
  },
  {
   "cell_type": "code",
   "execution_count": null,
   "metadata": {
    "collapsed": false
   },
   "outputs": [
    {
     "data": {
      "text/plain": [
       "{'daddr_has_number',\n",
       " 'daddr_saddr_same',\n",
       " 'desc_num_website_redacted',\n",
       " 'desc_num_words_q',\n",
       " 'has_photos',\n",
       " 'price_br_q',\n",
       " 'price_clust_br_q',\n",
       " 'top_10_feature_coverage'}"
      ]
     },
     "execution_count": 20,
     "metadata": {},
     "output_type": "execute_result"
    }
   ],
   "source": [
    "set(f['low']) & set(f['medium']) & set(f['high'])"
   ]
  },
  {
   "cell_type": "markdown",
   "metadata": {},
   "source": [
    "# RFE wit Cross Validation"
   ]
  },
  {
   "cell_type": "code",
   "execution_count": 19,
   "metadata": {
    "collapsed": false
   },
   "outputs": [],
   "source": [
    "rfecv_features = {}\n",
    "for t in ['low', 'medium', 'high']:\n",
    "    m = sklearn.linear_model.LogisticRegression()\n",
    "    rfe = sklearn.feature_selection.RFECV(\n",
    "            estimator=m,\n",
    "            n_jobs=3)\n",
    "    fit = rfe.fit(tr.fillna(0), trl[t])\n",
    "    rfecv_features[t] = list(itertools.compress(tr.columns, fit.get_support()))"
   ]
  },
  {
   "cell_type": "code",
   "execution_count": 20,
   "metadata": {
    "collapsed": false
   },
   "outputs": [
    {
     "name": "stdout",
     "output_type": "stream",
     "text": [
      "199\n",
      "2\n"
     ]
    }
   ],
   "source": [
    "f = rfecv_features\n",
    "print len(set(f['low']) |\n",
    "          set(f['medium']) |\n",
    "          set(f['high']))\n",
    "print len(set(f['low']) &\n",
    "          set(f['medium']) &\n",
    "          set(f['high']))"
   ]
  },
  {
   "cell_type": "code",
   "execution_count": 21,
   "metadata": {
    "collapsed": false
   },
   "outputs": [
    {
     "data": {
      "text/plain": [
       "{'area_distance_com',\n",
       " 'building_id_is_zero',\n",
       " 'daddr_count_place',\n",
       " 'daddr_count_west',\n",
       " 'desc_count_doorman',\n",
       " 'features_count_dryer_in_unit',\n",
       " 'features_count_multilevel',\n",
       " 'features_count_publicoutdoor',\n",
       " 'saddr_count_25',\n",
       " 'saddr_count_place',\n",
       " 'saddr_count_wall',\n",
       " 'saddr_count_washington'}"
      ]
     },
     "execution_count": 21,
     "metadata": {},
     "output_type": "execute_result"
    }
   ],
   "source": [
    "set(tr.columns).difference(set(f['low']) | set(f['medium']) | set(f['high']))"
   ]
  },
  {
   "cell_type": "code",
   "execution_count": 22,
   "metadata": {
    "collapsed": false
   },
   "outputs": [
    {
     "data": {
      "text/plain": [
       "{'has_photos', 'price_clust_br_q'}"
      ]
     },
     "execution_count": 22,
     "metadata": {},
     "output_type": "execute_result"
    }
   ],
   "source": [
    "set(f['low']) & set(f['medium']) & set(f['high'])"
   ]
  },
  {
   "cell_type": "code",
   "execution_count": 23,
   "metadata": {
    "collapsed": false
   },
   "outputs": [
    {
     "name": "stdout",
     "output_type": "stream",
     "text": [
      "113\n",
      "2\n",
      "198\n"
     ]
    }
   ],
   "source": [
    "for t in ['low', 'medium', 'high']:\n",
    "    print len(f[t])"
   ]
  },
  {
   "cell_type": "code",
   "execution_count": 25,
   "metadata": {
    "collapsed": false
   },
   "outputs": [
    {
     "data": {
      "text/plain": [
       "112"
      ]
     },
     "execution_count": 25,
     "metadata": {},
     "output_type": "execute_result"
    }
   ],
   "source": [
    "len(set(f['low']) & set(f['high']))"
   ]
  },
  {
   "cell_type": "markdown",
   "metadata": {},
   "source": [
    "# Save Selected Features for Later Use"
   ]
  },
  {
   "cell_type": "code",
   "execution_count": 26,
   "metadata": {
    "collapsed": false
   },
   "outputs": [],
   "source": [
    "tr = pd.read_csv('tmp/combined_train.csv', index_col='id')\n",
    "te = pd.read_csv('tmp/combined_test.csv', index_col='id')"
   ]
  },
  {
   "cell_type": "code",
   "execution_count": 27,
   "metadata": {
    "collapsed": false
   },
   "outputs": [],
   "source": [
    "features = list(set(f['low']) | set(f['medium']) | set(f['high']))\n",
    "features.append('interest_level')"
   ]
  },
  {
   "cell_type": "code",
   "execution_count": 33,
   "metadata": {
    "collapsed": false
   },
   "outputs": [],
   "source": [
    "f['all'] = features"
   ]
  },
  {
   "cell_type": "code",
   "execution_count": 28,
   "metadata": {
    "collapsed": true
   },
   "outputs": [],
   "source": [
    "for t in ['low', 'medium', 'high']:\n",
    "    f[t].append('interest_level')"
   ]
  },
  {
   "cell_type": "code",
   "execution_count": 34,
   "metadata": {
    "collapsed": false
   },
   "outputs": [],
   "source": [
    "for t in ['low', 'medium', 'high', 'all']:\n",
    "    tr[f[t]].to_csv('tmp/combined_train_selected_{0}.csv'.format(t))\n",
    "    te[f[t]].to_csv('tmp/combined_test_selected_{0}.csv'.format(t))"
   ]
  }
 ],
 "metadata": {
  "kernelspec": {
   "display_name": "Python 2",
   "language": "python",
   "name": "python2"
  },
  "language_info": {
   "codemirror_mode": {
    "name": "ipython",
    "version": 2
   },
   "file_extension": ".py",
   "mimetype": "text/x-python",
   "name": "python",
   "nbconvert_exporter": "python",
   "pygments_lexer": "ipython2",
   "version": "2.7.11"
  }
 },
 "nbformat": 4,
 "nbformat_minor": 1
}
