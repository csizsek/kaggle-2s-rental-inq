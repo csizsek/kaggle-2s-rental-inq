{
 "cells": [
  {
   "cell_type": "code",
   "execution_count": 49,
   "metadata": {
    "collapsed": false
   },
   "outputs": [],
   "source": [
    "import base64\n",
    "import datetime\n",
    "import json\n",
    "import os\n",
    "import random\n",
    "import time\n",
    "\n",
    "import scipy\n",
    "from scipy import ndimage\n",
    "import numpy as np\n",
    "import pandas as pd\n",
    "import sklearn\n",
    "import matplotlib as mpl\n",
    "import matplotlib.pyplot as plt\n",
    "from pylab import rcParams\n",
    "import seaborn as sns\n",
    "import statsmodels as sm\n",
    "from pylab import rcParams\n",
    "from pylab import *\n",
    "from matplotlib.dates import date2num , DateFormatter\n",
    "from PIL import Image\n",
    "from sklearn import preprocessing\n",
    "\n",
    "np.random.seed(1337)\n",
    "\n",
    "%matplotlib inline\n",
    "sns.set(font_scale=1.0)\n",
    "rcParams['figure.figsize'] = 8, 6\n",
    "sns.set_style('whitegrid')\n",
    "sns.set_palette(sns.color_palette('muted'))"
   ]
  },
  {
   "cell_type": "markdown",
   "metadata": {},
   "source": [
    "# Load the Data"
   ]
  },
  {
   "cell_type": "code",
   "execution_count": 50,
   "metadata": {
    "collapsed": false
   },
   "outputs": [
    {
     "name": "stdout",
     "output_type": "stream",
     "text": [
      "124011\n"
     ]
    }
   ],
   "source": [
    "d = pd.read_json('tmp/raw_data.json')\n",
    "d.index.name = 'id'\n",
    "d = d[['manager_id']]\n",
    "print len(d)"
   ]
  },
  {
   "cell_type": "code",
   "execution_count": 51,
   "metadata": {
    "collapsed": false
   },
   "outputs": [
    {
     "data": {
      "text/plain": [
       "manager_id    object\n",
       "dtype: object"
      ]
     },
     "execution_count": 51,
     "metadata": {},
     "output_type": "execute_result"
    }
   ],
   "source": [
    "d.dtypes"
   ]
  },
  {
   "cell_type": "code",
   "execution_count": 52,
   "metadata": {
    "collapsed": false
   },
   "outputs": [
    {
     "data": {
      "text/plain": [
       "id\n",
       "0       b1b1852c416d78d7765d746cb1b8921f\n",
       "1       d0b5648017832b2427eeb9956d966a14\n",
       "10      5ba989232d0489da1b5f2c45f6688adc\n",
       "100     9ca6f3baa475c37a3b3521a394d65467\n",
       "1000    0b9d5db96db8472d7aeb67c67338c4d2\n",
       "Name: manager_id, dtype: object"
      ]
     },
     "execution_count": 52,
     "metadata": {},
     "output_type": "execute_result"
    }
   ],
   "source": [
    "d.manager_id.head()"
   ]
  },
  {
   "cell_type": "code",
   "execution_count": 53,
   "metadata": {
    "collapsed": false
   },
   "outputs": [
    {
     "data": {
      "text/plain": [
       "e6472c7237327dd3903b3d6f6a94515a    6387\n",
       "6e5c10246156ae5bdcd9b487ca99d96a    1683\n",
       "8f5a9c893f6d602f4953fcc0b8e6e9b4    1011\n",
       "cb87dadbca78fad02b388dc9e8f25a5b     971\n",
       "62b685cc0d876c3a1a51d63a0d6a8082     956\n",
       "Name: manager_id, dtype: int64"
      ]
     },
     "execution_count": 53,
     "metadata": {},
     "output_type": "execute_result"
    }
   ],
   "source": [
    "d.manager_id.value_counts().head(5)"
   ]
  },
  {
   "cell_type": "markdown",
   "metadata": {},
   "source": [
    "# Number of Apartments at the Same Manager"
   ]
  },
  {
   "cell_type": "code",
   "execution_count": 54,
   "metadata": {
    "collapsed": false
   },
   "outputs": [],
   "source": [
    "manager_ids = d.manager_id.unique().tolist()"
   ]
  },
  {
   "cell_type": "code",
   "execution_count": 55,
   "metadata": {
    "collapsed": true
   },
   "outputs": [],
   "source": [
    "vc = d.manager_id.value_counts()\n",
    "d['num_apts_at_manager'] = np.nan\n",
    "for mid in manager_ids:\n",
    "    d.loc[d.manager_id == mid, 'num_apts_at_manager'] = vc[mid]"
   ]
  },
  {
   "cell_type": "markdown",
   "metadata": {},
   "source": [
    "# Number of Apartments at the Same Manager Bucket"
   ]
  },
  {
   "cell_type": "code",
   "execution_count": 56,
   "metadata": {
    "collapsed": false
   },
   "outputs": [
    {
     "data": {
      "image/png": "[encoded data removed]",
      "text/plain": [
       "<matplotlib.figure.Figure at 0x134de7d10>"
      ]
     },
     "metadata": {},
     "output_type": "display_data"
    }
   ],
   "source": [
    "plt.figure(figsize=(8, 4))\n",
    "ax = sns.distplot(a=d.num_apts_at_manager.dropna(), color='grey', kde=False, bins=100)"
   ]
  },
  {
   "cell_type": "code",
   "execution_count": 57,
   "metadata": {
    "collapsed": false
   },
   "outputs": [
    {
     "data": {
      "text/plain": [
       "0.1     15.0\n",
       "0.2     33.0\n",
       "0.3     54.0\n",
       "0.4     79.0\n",
       "0.5    113.0\n",
       "0.6    171.0\n",
       "0.7    239.0\n",
       "0.8    391.0\n",
       "0.9    853.0\n",
       "Name: num_apts_at_manager, dtype: float64"
      ]
     },
     "execution_count": 57,
     "metadata": {},
     "output_type": "execute_result"
    }
   ],
   "source": [
    "d.num_apts_at_manager.quantile([(0.1 * i) for i in range(1, 10)])"
   ]
  },
  {
   "cell_type": "code",
   "execution_count": 58,
   "metadata": {
    "collapsed": false
   },
   "outputs": [],
   "source": [
    "noise = np.random.randn(len(d))\n",
    "d['num_apts_at_manager_q10'] = pd.qcut(d.num_apts_at_manager + 0.1*noise, 10, [0.1 * i for i in range(0, 10)])\n",
    "d['num_apts_at_manager_q100'] = pd.qcut(d.num_apts_at_manager + 0.1*noise, 100, [0.01 * i for i in range(0, 100)])"
   ]
  },
  {
   "cell_type": "markdown",
   "metadata": {},
   "source": [
    "# Private Manager"
   ]
  },
  {
   "cell_type": "code",
   "execution_count": 59,
   "metadata": {
    "collapsed": false
   },
   "outputs": [],
   "source": [
    "d['private_manager'] = 0.0\n",
    "d.loc[d.num_apts_at_manager == 1.0, 'private_manager'] = 1.0"
   ]
  },
  {
   "cell_type": "markdown",
   "metadata": {},
   "source": [
    "# Encode manager_id"
   ]
  },
  {
   "cell_type": "code",
   "execution_count": 60,
   "metadata": {
    "collapsed": false
   },
   "outputs": [
    {
     "data": {
      "text/html": [
       "<div>\n",
       "<table border=\"1\" class=\"dataframe\">\n",
       "  <thead>\n",
       "    <tr style=\"text-align: right;\">\n",
       "      <th></th>\n",
       "      <th>manager_id</th>\n",
       "      <th>num_apts_at_manager</th>\n",
       "      <th>num_apts_at_manager_q10</th>\n",
       "      <th>num_apts_at_manager_q100</th>\n",
       "      <th>private_manager</th>\n",
       "      <th>manager_code</th>\n",
       "    </tr>\n",
       "    <tr>\n",
       "      <th>id</th>\n",
       "      <th></th>\n",
       "      <th></th>\n",
       "      <th></th>\n",
       "      <th></th>\n",
       "      <th></th>\n",
       "      <th></th>\n",
       "    </tr>\n",
       "  </thead>\n",
       "  <tbody>\n",
       "    <tr>\n",
       "      <th>0</th>\n",
       "      <td>b1b1852c416d78d7765d746cb1b8921f</td>\n",
       "      <td>62.0</td>\n",
       "      <td>0.3</td>\n",
       "      <td>0.33</td>\n",
       "      <td>0.0</td>\n",
       "      <td>3076</td>\n",
       "    </tr>\n",
       "    <tr>\n",
       "      <th>1</th>\n",
       "      <td>d0b5648017832b2427eeb9956d966a14</td>\n",
       "      <td>26.0</td>\n",
       "      <td>0.1</td>\n",
       "      <td>0.16</td>\n",
       "      <td>0.0</td>\n",
       "      <td>3593</td>\n",
       "    </tr>\n",
       "    <tr>\n",
       "      <th>10</th>\n",
       "      <td>5ba989232d0489da1b5f2c45f6688adc</td>\n",
       "      <td>235.0</td>\n",
       "      <td>0.6</td>\n",
       "      <td>0.69</td>\n",
       "      <td>0.0</td>\n",
       "      <td>1568</td>\n",
       "    </tr>\n",
       "    <tr>\n",
       "      <th>100</th>\n",
       "      <td>9ca6f3baa475c37a3b3521a394d65467</td>\n",
       "      <td>5.0</td>\n",
       "      <td>0.0</td>\n",
       "      <td>0.03</td>\n",
       "      <td>0.0</td>\n",
       "      <td>2677</td>\n",
       "    </tr>\n",
       "    <tr>\n",
       "      <th>1000</th>\n",
       "      <td>0b9d5db96db8472d7aeb67c67338c4d2</td>\n",
       "      <td>178.0</td>\n",
       "      <td>0.6</td>\n",
       "      <td>0.61</td>\n",
       "      <td>0.0</td>\n",
       "      <td>201</td>\n",
       "    </tr>\n",
       "  </tbody>\n",
       "</table>\n",
       "</div>"
      ],
      "text/plain": [
       "                            manager_id  num_apts_at_manager  \\\n",
       "id                                                            \n",
       "0     b1b1852c416d78d7765d746cb1b8921f                 62.0   \n",
       "1     d0b5648017832b2427eeb9956d966a14                 26.0   \n",
       "10    5ba989232d0489da1b5f2c45f6688adc                235.0   \n",
       "100   9ca6f3baa475c37a3b3521a394d65467                  5.0   \n",
       "1000  0b9d5db96db8472d7aeb67c67338c4d2                178.0   \n",
       "\n",
       "     num_apts_at_manager_q10 num_apts_at_manager_q100  private_manager  \\\n",
       "id                                                                       \n",
       "0                        0.3                     0.33              0.0   \n",
       "1                        0.1                     0.16              0.0   \n",
       "10                       0.6                     0.69              0.0   \n",
       "100                      0.0                     0.03              0.0   \n",
       "1000                     0.6                     0.61              0.0   \n",
       "\n",
       "      manager_code  \n",
       "id                  \n",
       "0             3076  \n",
       "1             3593  \n",
       "10            1568  \n",
       "100           2677  \n",
       "1000           201  "
      ]
     },
     "execution_count": 60,
     "metadata": {},
     "output_type": "execute_result"
    }
   ],
   "source": [
    "lbl = preprocessing.LabelEncoder()\n",
    "lbl.fit(list(d.manager_id.values))\n",
    "d.loc[:, 'manager_code'] = lbl.transform(list(d.manager_id.values))\n",
    "d.head()"
   ]
  },
  {
   "cell_type": "markdown",
   "metadata": {},
   "source": [
    "# Manager skill \n",
    "\n",
    "Inspired by: https://www.kaggle.com/den3b81/two-sigma-connect-rental-listing-inquiries/improve-perfomances-using-manager-features\n",
    "\n",
    "UPDATE: this will lead to horrible overfitting \n",
    ":("
   ]
  },
  {
   "cell_type": "code",
   "execution_count": 61,
   "metadata": {
    "collapsed": false
   },
   "outputs": [],
   "source": [
    "\n",
    "# raw_data = pd.read_json('tmp/raw_data.json')\n",
    "# train = raw_data[raw_data.interest_level.notnull()]\n",
    "# temp = pd.concat([train.manager_id, pd.get_dummies(train.interest_level)], axis = 1).groupby('manager_id').mean()\n",
    "# temp.columns = ['high_frac','low_frac', 'medium_frac']\n",
    "# temp['count'] = train.groupby('manager_id').count().iloc[:,1]\n",
    "\n",
    "# # compute skill\n",
    "# temp['manager_skill'] = temp['high_frac']*2 + temp['medium_frac']\n",
    "\n",
    "# d = d.merge(temp[['manager_skill']], left_on= 'manager_id', right_index=True, how='left')\n",
    "# d.head()"
   ]
  },
  {
   "cell_type": "markdown",
   "metadata": {},
   "source": [
    "# Save the Data"
   ]
  },
  {
   "cell_type": "code",
   "execution_count": 62,
   "metadata": {
    "collapsed": true
   },
   "outputs": [],
   "source": [
    "d.to_csv('tmp/features_manager_id.csv')"
   ]
  }
 ],
 "metadata": {
  "kernelspec": {
   "display_name": "Python 2",
   "language": "python",
   "name": "python2"
  },
  "language_info": {
   "codemirror_mode": {
    "name": "ipython",
    "version": 2
   },
   "file_extension": ".py",
   "mimetype": "text/x-python",
   "name": "python",
   "nbconvert_exporter": "python",
   "pygments_lexer": "ipython2",
   "version": "2.7.10"
  }
 },
 "nbformat": 4,
 "nbformat_minor": 1
}
