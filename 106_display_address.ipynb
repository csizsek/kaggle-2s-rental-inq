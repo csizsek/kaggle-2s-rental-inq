{
 "cells": [
  {
   "cell_type": "code",
   "execution_count": 15,
   "metadata": {
    "collapsed": false
   },
   "outputs": [],
   "source": [
    "import base64\n",
    "import datetime\n",
    "import json\n",
    "import os\n",
    "import random\n",
    "import time\n",
    "\n",
    "import scipy\n",
    "from scipy import ndimage\n",
    "import numpy as np\n",
    "import pandas as pd\n",
    "import sklearn\n",
    "import matplotlib as mpl\n",
    "import matplotlib.pyplot as plt\n",
    "from pylab import rcParams\n",
    "import seaborn as sns\n",
    "import statsmodels as sm\n",
    "from pylab import rcParams\n",
    "from pylab import *\n",
    "from matplotlib.dates import date2num , DateFormatter\n",
    "from PIL import Image\n",
    "\n",
    "np.random.seed(1337)\n",
    "\n",
    "%matplotlib inline\n",
    "sns.set(font_scale=1.0)\n",
    "rcParams['figure.figsize'] = 8, 6\n",
    "sns.set_style('whitegrid')\n",
    "sns.set_palette(sns.color_palette('muted'))\n",
    "\n",
    "pd.options.display.max_colwidth = 1000"
   ]
  },
  {
   "cell_type": "markdown",
   "metadata": {},
   "source": [
    "# Load the Data"
   ]
  },
  {
   "cell_type": "code",
   "execution_count": 16,
   "metadata": {
    "collapsed": false
   },
   "outputs": [
    {
     "name": "stdout",
     "output_type": "stream",
     "text": [
      "124011\n"
     ]
    }
   ],
   "source": [
    "raw_data = pd.read_json('tmp/raw_data.json')\n",
    "d = pd.read_json('tmp/raw_data.json')\n",
    "raw_data.index.name = 'id'\n",
    "d = raw_data[['display_address']]\n",
    "print len(d)"
   ]
  },
  {
   "cell_type": "code",
   "execution_count": 17,
   "metadata": {
    "collapsed": false
   },
   "outputs": [
    {
     "data": {
      "text/plain": [
       "display_address    object\n",
       "dtype: object"
      ]
     },
     "execution_count": 17,
     "metadata": {},
     "output_type": "execute_result"
    }
   ],
   "source": [
    "d.dtypes"
   ]
  },
  {
   "cell_type": "code",
   "execution_count": 18,
   "metadata": {
    "collapsed": false
   },
   "outputs": [
    {
     "data": {
      "text/html": [
       "<div>\n",
       "<table border=\"1\" class=\"dataframe\">\n",
       "  <thead>\n",
       "    <tr style=\"text-align: right;\">\n",
       "      <th></th>\n",
       "      <th>display_address</th>\n",
       "    </tr>\n",
       "    <tr>\n",
       "      <th>id</th>\n",
       "      <th></th>\n",
       "    </tr>\n",
       "  </thead>\n",
       "  <tbody>\n",
       "    <tr>\n",
       "      <th>0</th>\n",
       "      <td>Suffolk Street</td>\n",
       "    </tr>\n",
       "    <tr>\n",
       "      <th>1</th>\n",
       "      <td>Thompson Street</td>\n",
       "    </tr>\n",
       "    <tr>\n",
       "      <th>10</th>\n",
       "      <td>Metropolitan Avenue</td>\n",
       "    </tr>\n",
       "    <tr>\n",
       "      <th>100</th>\n",
       "      <td>101 East 10th Street</td>\n",
       "    </tr>\n",
       "    <tr>\n",
       "      <th>1000</th>\n",
       "      <td>South Third Street\\r</td>\n",
       "    </tr>\n",
       "  </tbody>\n",
       "</table>\n",
       "</div>"
      ],
      "text/plain": [
       "            display_address\n",
       "id                         \n",
       "0            Suffolk Street\n",
       "1           Thompson Street\n",
       "10      Metropolitan Avenue\n",
       "100    101 East 10th Street\n",
       "1000   South Third Street\\r"
      ]
     },
     "execution_count": 18,
     "metadata": {},
     "output_type": "execute_result"
    }
   ],
   "source": [
    "d.head()"
   ]
  },
  {
   "cell_type": "markdown",
   "metadata": {
    "collapsed": false
   },
   "source": [
    "## Does the address contain any numbers?\n",
    "\n",
    "If the address contains number, then we can assume it's the exact address, not only the street or neighborhood name."
   ]
  },
  {
   "cell_type": "code",
   "execution_count": 19,
   "metadata": {
    "collapsed": false
   },
   "outputs": [
    {
     "data": {
      "text/plain": [
       "<matplotlib.axes._subplots.AxesSubplot at 0x1464c3990>"
      ]
     },
     "execution_count": 19,
     "metadata": {},
     "output_type": "execute_result"
    },
    {
     "data": {
      "image/png": "[encoded data removed]",
      "text/plain": [
       "<matplotlib.figure.Figure at 0x159e128d0>"
      ]
     },
     "metadata": {},
     "output_type": "display_data"
    }
   ],
   "source": [
    "def tokens(x):\n",
    "    return len(x.split(' '))\n",
    "d.loc[:, 'daddr_num_words'] = d.display_address.map(lambda x: tokens(x))\n",
    "d.daddr_num_words.value_counts().sort_index().plot(kind='bar')"
   ]
  },
  {
   "cell_type": "code",
   "execution_count": 20,
   "metadata": {
    "collapsed": false
   },
   "outputs": [
    {
     "data": {
      "text/plain": [
       "0"
      ]
     },
     "execution_count": 20,
     "metadata": {},
     "output_type": "execute_result"
    }
   ],
   "source": [
    "int(False)"
   ]
  },
  {
   "cell_type": "code",
   "execution_count": 21,
   "metadata": {
    "collapsed": false
   },
   "outputs": [
    {
     "data": {
      "text/html": [
       "<div>\n",
       "<table border=\"1\" class=\"dataframe\">\n",
       "  <thead>\n",
       "    <tr style=\"text-align: right;\">\n",
       "      <th></th>\n",
       "      <th>display_address</th>\n",
       "      <th>daddr_num_words</th>\n",
       "      <th>daddr_has_number</th>\n",
       "    </tr>\n",
       "    <tr>\n",
       "      <th>id</th>\n",
       "      <th></th>\n",
       "      <th></th>\n",
       "      <th></th>\n",
       "    </tr>\n",
       "  </thead>\n",
       "  <tbody>\n",
       "    <tr>\n",
       "      <th>0</th>\n",
       "      <td>Suffolk Street</td>\n",
       "      <td>2</td>\n",
       "      <td>0</td>\n",
       "    </tr>\n",
       "    <tr>\n",
       "      <th>1</th>\n",
       "      <td>Thompson Street</td>\n",
       "      <td>2</td>\n",
       "      <td>0</td>\n",
       "    </tr>\n",
       "    <tr>\n",
       "      <th>10</th>\n",
       "      <td>Metropolitan Avenue</td>\n",
       "      <td>2</td>\n",
       "      <td>0</td>\n",
       "    </tr>\n",
       "    <tr>\n",
       "      <th>100</th>\n",
       "      <td>101 East 10th Street</td>\n",
       "      <td>4</td>\n",
       "      <td>1</td>\n",
       "    </tr>\n",
       "    <tr>\n",
       "      <th>1000</th>\n",
       "      <td>South Third Street\\r</td>\n",
       "      <td>4</td>\n",
       "      <td>0</td>\n",
       "    </tr>\n",
       "  </tbody>\n",
       "</table>\n",
       "</div>"
      ],
      "text/plain": [
       "            display_address  daddr_num_words  daddr_has_number\n",
       "id                                                            \n",
       "0            Suffolk Street                2                 0\n",
       "1           Thompson Street                2                 0\n",
       "10      Metropolitan Avenue                2                 0\n",
       "100    101 East 10th Street                4                 1\n",
       "1000   South Third Street\\r                4                 0"
      ]
     },
     "execution_count": 21,
     "metadata": {},
     "output_type": "execute_result"
    }
   ],
   "source": [
    "def represents_int(s):\n",
    "    try: \n",
    "        int(s)\n",
    "        return True\n",
    "    except ValueError:\n",
    "        return False\n",
    "\n",
    "def has_number(x):\n",
    "    return int(any([represents_int(w.strip()) for w in x.split(' ')]))\n",
    "    \n",
    "d.loc[:, 'daddr_has_number'] = d.display_address.map(lambda x: has_number(x))\n",
    "d.head()"
   ]
  },
  {
   "cell_type": "code",
   "execution_count": 22,
   "metadata": {
    "collapsed": false
   },
   "outputs": [
    {
     "data": {
      "text/plain": [
       "<matplotlib.axes._subplots.AxesSubplot at 0x1197c8d50>"
      ]
     },
     "execution_count": 22,
     "metadata": {},
     "output_type": "execute_result"
    },
    {
     "data": {
      "image/png": "[encoded data removed]",
      "text/plain": [
       "<matplotlib.figure.Figure at 0x15c440fd0>"
      ]
     },
     "metadata": {},
     "output_type": "display_data"
    }
   ],
   "source": [
    "d.daddr_has_number.value_counts().plot(kind='barh', figsize=(8,3))"
   ]
  },
  {
   "cell_type": "markdown",
   "metadata": {},
   "source": [
    "## Does the address contain any ordinal numbers?\n"
   ]
  },
  {
   "cell_type": "code",
   "execution_count": 23,
   "metadata": {
    "collapsed": false
   },
   "outputs": [
    {
     "data": {
      "text/html": [
       "<div>\n",
       "<table border=\"1\" class=\"dataframe\">\n",
       "  <thead>\n",
       "    <tr style=\"text-align: right;\">\n",
       "      <th></th>\n",
       "      <th>display_address</th>\n",
       "      <th>daddr_num_words</th>\n",
       "      <th>daddr_has_number</th>\n",
       "      <th>daddr_has_ordinal</th>\n",
       "    </tr>\n",
       "    <tr>\n",
       "      <th>id</th>\n",
       "      <th></th>\n",
       "      <th></th>\n",
       "      <th></th>\n",
       "      <th></th>\n",
       "    </tr>\n",
       "  </thead>\n",
       "  <tbody>\n",
       "    <tr>\n",
       "      <th>0</th>\n",
       "      <td>Suffolk Street</td>\n",
       "      <td>2</td>\n",
       "      <td>0</td>\n",
       "      <td>0</td>\n",
       "    </tr>\n",
       "    <tr>\n",
       "      <th>1</th>\n",
       "      <td>Thompson Street</td>\n",
       "      <td>2</td>\n",
       "      <td>0</td>\n",
       "      <td>0</td>\n",
       "    </tr>\n",
       "    <tr>\n",
       "      <th>10</th>\n",
       "      <td>Metropolitan Avenue</td>\n",
       "      <td>2</td>\n",
       "      <td>0</td>\n",
       "      <td>0</td>\n",
       "    </tr>\n",
       "    <tr>\n",
       "      <th>100</th>\n",
       "      <td>101 East 10th Street</td>\n",
       "      <td>4</td>\n",
       "      <td>1</td>\n",
       "      <td>1</td>\n",
       "    </tr>\n",
       "    <tr>\n",
       "      <th>1000</th>\n",
       "      <td>South Third Street\\r</td>\n",
       "      <td>4</td>\n",
       "      <td>0</td>\n",
       "      <td>0</td>\n",
       "    </tr>\n",
       "  </tbody>\n",
       "</table>\n",
       "</div>"
      ],
      "text/plain": [
       "            display_address  daddr_num_words  daddr_has_number  \\\n",
       "id                                                               \n",
       "0            Suffolk Street                2                 0   \n",
       "1           Thompson Street                2                 0   \n",
       "10      Metropolitan Avenue                2                 0   \n",
       "100    101 East 10th Street                4                 1   \n",
       "1000   South Third Street\\r                4                 0   \n",
       "\n",
       "      daddr_has_ordinal  \n",
       "id                       \n",
       "0                     0  \n",
       "1                     0  \n",
       "10                    0  \n",
       "100                   1  \n",
       "1000                  0  "
      ]
     },
     "execution_count": 23,
     "metadata": {},
     "output_type": "execute_result"
    }
   ],
   "source": [
    "import re\n",
    "p = re.compile('[0-9]+[a-z]+')\n",
    "\n",
    "def is_ordinal(w):    \n",
    "    return p.match(w) != None\n",
    "\n",
    "def has_ordinal_number(x):\n",
    "    return int(any([is_ordinal(w.strip().lower()) for w in x.split(' ')]))\n",
    "    \n",
    "d.loc[:, 'daddr_has_ordinal'] = d.display_address.map(lambda x: has_ordinal_number(x))\n",
    "d.head()"
   ]
  },
  {
   "cell_type": "markdown",
   "metadata": {},
   "source": [
    "## Number of uppercase words\n",
    "\n",
    "Note that there are a lot of addresses that contain a single-letter \"word\" which is uppercase, usually referring to East, West, etc\n",
    "For example: E 78th St., W 68 Street.\n",
    "I've excluded these single letter words because I think it's ok to treat them as normal."
   ]
  },
  {
   "cell_type": "code",
   "execution_count": 24,
   "metadata": {
    "collapsed": false
   },
   "outputs": [
    {
     "data": {
      "text/html": [
       "<div>\n",
       "<table border=\"1\" class=\"dataframe\">\n",
       "  <thead>\n",
       "    <tr style=\"text-align: right;\">\n",
       "      <th></th>\n",
       "      <th>display_address</th>\n",
       "      <th>daddr_num_words</th>\n",
       "      <th>daddr_has_number</th>\n",
       "      <th>daddr_has_ordinal</th>\n",
       "      <th>daddr_num_upper_words</th>\n",
       "    </tr>\n",
       "    <tr>\n",
       "      <th>id</th>\n",
       "      <th></th>\n",
       "      <th></th>\n",
       "      <th></th>\n",
       "      <th></th>\n",
       "      <th></th>\n",
       "    </tr>\n",
       "  </thead>\n",
       "  <tbody>\n",
       "    <tr>\n",
       "      <th>0</th>\n",
       "      <td>Suffolk Street</td>\n",
       "      <td>2</td>\n",
       "      <td>0</td>\n",
       "      <td>0</td>\n",
       "      <td>0</td>\n",
       "    </tr>\n",
       "    <tr>\n",
       "      <th>1</th>\n",
       "      <td>Thompson Street</td>\n",
       "      <td>2</td>\n",
       "      <td>0</td>\n",
       "      <td>0</td>\n",
       "      <td>0</td>\n",
       "    </tr>\n",
       "    <tr>\n",
       "      <th>10</th>\n",
       "      <td>Metropolitan Avenue</td>\n",
       "      <td>2</td>\n",
       "      <td>0</td>\n",
       "      <td>0</td>\n",
       "      <td>0</td>\n",
       "    </tr>\n",
       "    <tr>\n",
       "      <th>100</th>\n",
       "      <td>101 East 10th Street</td>\n",
       "      <td>4</td>\n",
       "      <td>1</td>\n",
       "      <td>1</td>\n",
       "      <td>0</td>\n",
       "    </tr>\n",
       "    <tr>\n",
       "      <th>1000</th>\n",
       "      <td>South Third Street\\r</td>\n",
       "      <td>4</td>\n",
       "      <td>0</td>\n",
       "      <td>0</td>\n",
       "      <td>0</td>\n",
       "    </tr>\n",
       "  </tbody>\n",
       "</table>\n",
       "</div>"
      ],
      "text/plain": [
       "            display_address  daddr_num_words  daddr_has_number  \\\n",
       "id                                                               \n",
       "0            Suffolk Street                2                 0   \n",
       "1           Thompson Street                2                 0   \n",
       "10      Metropolitan Avenue                2                 0   \n",
       "100    101 East 10th Street                4                 1   \n",
       "1000   South Third Street\\r                4                 0   \n",
       "\n",
       "      daddr_has_ordinal  daddr_num_upper_words  \n",
       "id                                              \n",
       "0                     0                      0  \n",
       "1                     0                      0  \n",
       "10                    0                      0  \n",
       "100                   1                      0  \n",
       "1000                  0                      0  "
      ]
     },
     "execution_count": 24,
     "metadata": {},
     "output_type": "execute_result"
    }
   ],
   "source": [
    "import re\n",
    "uppercase_pattern = re.compile('^[A-Z]+$')\n",
    "\n",
    "\n",
    "def is_uppercase(w):    \n",
    "    return uppercase_pattern.match(w) != None\n",
    "\n",
    "def uppercase_word_count(x):\n",
    "    return len([w for w in x.split(' ') if is_uppercase(w.strip()) and len(w) > 1])\n",
    "    \n",
    "d.loc[:, 'daddr_num_upper_words'] = d.display_address.map(lambda x: uppercase_word_count(x))\n",
    "d.head()"
   ]
  },
  {
   "cell_type": "code",
   "execution_count": 25,
   "metadata": {
    "collapsed": false
   },
   "outputs": [
    {
     "data": {
      "text/html": [
       "<div>\n",
       "<table border=\"1\" class=\"dataframe\">\n",
       "  <thead>\n",
       "    <tr style=\"text-align: right;\">\n",
       "      <th></th>\n",
       "      <th>display_address</th>\n",
       "      <th>daddr_num_words</th>\n",
       "      <th>daddr_has_number</th>\n",
       "      <th>daddr_has_ordinal</th>\n",
       "      <th>daddr_num_upper_words</th>\n",
       "    </tr>\n",
       "    <tr>\n",
       "      <th>id</th>\n",
       "      <th></th>\n",
       "      <th></th>\n",
       "      <th></th>\n",
       "      <th></th>\n",
       "      <th></th>\n",
       "    </tr>\n",
       "  </thead>\n",
       "  <tbody>\n",
       "    <tr>\n",
       "      <th>100600</th>\n",
       "      <td>UWS! NO FEE NO FEE****as</td>\n",
       "      <td>6</td>\n",
       "      <td>0</td>\n",
       "      <td>0</td>\n",
       "      <td>3</td>\n",
       "    </tr>\n",
       "    <tr>\n",
       "      <th>100680</th>\n",
       "      <td>GRAMERCY______BRAND NEW RENOVATED TRUE 3 BEDROOM 2 BATH  IN THE HEART OF GRAMERCY_____CALL TODAY WILL NOT LAST!!!!</td>\n",
       "      <td>18</td>\n",
       "      <td>1</td>\n",
       "      <td>0</td>\n",
       "      <td>12</td>\n",
       "    </tr>\n",
       "    <tr>\n",
       "      <th>100777</th>\n",
       "      <td>NO MISTAKES HERE -&gt; Chelsea&lt;-</td>\n",
       "      <td>5</td>\n",
       "      <td>0</td>\n",
       "      <td>0</td>\n",
       "      <td>3</td>\n",
       "    </tr>\n",
       "    <tr>\n",
       "      <th>10082</th>\n",
       "      <td>MASSIVE 5BED/3BATH* PANORAMIC BK VIEWS* 2000SQFT</td>\n",
       "      <td>6</td>\n",
       "      <td>0</td>\n",
       "      <td>1</td>\n",
       "      <td>3</td>\n",
       "    </tr>\n",
       "    <tr>\n",
       "      <th>101617</th>\n",
       "      <td>WILL NOT LAST LONG!</td>\n",
       "      <td>5</td>\n",
       "      <td>0</td>\n",
       "      <td>0</td>\n",
       "      <td>3</td>\n",
       "    </tr>\n",
       "  </tbody>\n",
       "</table>\n",
       "</div>"
      ],
      "text/plain": [
       "                                                                                                           display_address  \\\n",
       "id                                                                                                                           \n",
       "100600                                                                                           UWS! NO FEE NO FEE****as    \n",
       "100680  GRAMERCY______BRAND NEW RENOVATED TRUE 3 BEDROOM 2 BATH  IN THE HEART OF GRAMERCY_____CALL TODAY WILL NOT LAST!!!!   \n",
       "100777                                                                                       NO MISTAKES HERE -> Chelsea<-   \n",
       "10082                                                                     MASSIVE 5BED/3BATH* PANORAMIC BK VIEWS* 2000SQFT   \n",
       "101617                                                                                                WILL NOT LAST LONG!    \n",
       "\n",
       "        daddr_num_words  daddr_has_number  daddr_has_ordinal  \\\n",
       "id                                                             \n",
       "100600                6                 0                  0   \n",
       "100680               18                 1                  0   \n",
       "100777                5                 0                  0   \n",
       "10082                 6                 0                  1   \n",
       "101617                5                 0                  0   \n",
       "\n",
       "        daddr_num_upper_words  \n",
       "id                             \n",
       "100600                      3  \n",
       "100680                     12  \n",
       "100777                      3  \n",
       "10082                       3  \n",
       "101617                      3  "
      ]
     },
     "execution_count": 25,
     "metadata": {},
     "output_type": "execute_result"
    }
   ],
   "source": [
    "d[d.daddr_num_upper_words >2].head()"
   ]
  },
  {
   "cell_type": "code",
   "execution_count": 26,
   "metadata": {
    "collapsed": false
   },
   "outputs": [
    {
     "data": {
      "text/plain": [
       "0     122748\n",
       "1        438\n",
       "2        430\n",
       "3        174\n",
       "4         87\n",
       "5         53\n",
       "6         23\n",
       "7         18\n",
       "8         10\n",
       "9          9\n",
       "10         7\n",
       "12         3\n",
       "13         3\n",
       "15         3\n",
       "11         2\n",
       "18         1\n",
       "14         1\n",
       "24         1\n",
       "Name: daddr_num_upper_words, dtype: int64"
      ]
     },
     "execution_count": 26,
     "metadata": {},
     "output_type": "execute_result"
    }
   ],
   "source": [
    "d.daddr_num_upper_words.value_counts()"
   ]
  },
  {
   "cell_type": "markdown",
   "metadata": {},
   "source": [
    "# Save the Data"
   ]
  },
  {
   "cell_type": "code",
   "execution_count": 27,
   "metadata": {
    "collapsed": false
   },
   "outputs": [],
   "source": [
    "d.to_csv('tmp/features_display_address.csv', encoding='utf-8’')"
   ]
  }
 ],
 "metadata": {
  "kernelspec": {
   "display_name": "Python 2",
   "language": "python",
   "name": "python2"
  },
  "language_info": {
   "codemirror_mode": {
    "name": "ipython",
    "version": 2
   },
   "file_extension": ".py",
   "mimetype": "text/x-python",
   "name": "python",
   "nbconvert_exporter": "python",
   "pygments_lexer": "ipython2",
   "version": "2.7.10"
  }
 },
 "nbformat": 4,
 "nbformat_minor": 1
}
