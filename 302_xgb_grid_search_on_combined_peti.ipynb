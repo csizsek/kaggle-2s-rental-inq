{
 "cells": [
  {
   "cell_type": "code",
   "execution_count": 1,
   "metadata": {
    "collapsed": false
   },
   "outputs": [
    {
     "name": "stderr",
     "output_type": "stream",
     "text": [
      "/usr/local/lib/python2.7/site-packages/matplotlib/font_manager.py:273: UserWarning: Matplotlib is building the font cache using fc-list. This may take a moment.\n",
      "  warnings.warn('Matplotlib is building the font cache using fc-list. This may take a moment.')\n"
     ]
    }
   ],
   "source": [
    "import base64\n",
    "import datetime\n",
    "import itertools\n",
    "import json\n",
    "import math\n",
    "import operator\n",
    "import os\n",
    "import pickle\n",
    "import random\n",
    "import re\n",
    "import time\n",
    "\n",
    "import scipy\n",
    "from scipy import ndimage\n",
    "import numpy as np\n",
    "import pandas as pd\n",
    "import sklearn\n",
    "import matplotlib as mpl\n",
    "import matplotlib.pyplot as plt\n",
    "from pylab import rcParams\n",
    "import seaborn as sns\n",
    "import statsmodels as sm\n",
    "from pylab import rcParams\n",
    "from pylab import *\n",
    "from matplotlib.dates import date2num , DateFormatter\n",
    "from PIL import Image\n",
    "\n",
    "np.random.seed(1337)\n",
    "\n",
    "%matplotlib inline\n",
    "sns.set(font_scale=1.0)\n",
    "rcParams['figure.figsize'] = 8, 6\n",
    "sns.set_style('whitegrid')\n",
    "sns.set_palette(sns.color_palette('muted'))"
   ]
  },
  {
   "cell_type": "code",
   "execution_count": 2,
   "metadata": {
    "collapsed": false
   },
   "outputs": [
    {
     "name": "stderr",
     "output_type": "stream",
     "text": [
      "/usr/local/lib/python2.7/site-packages/sklearn/cross_validation.py:44: DeprecationWarning: This module was deprecated in version 0.18 in favor of the model_selection module into which all the refactored classes and functions are moved. Also note that the interface of the new CV iterators are different from that of this module. This module will be removed in 0.20.\n",
      "  \"This module will be removed in 0.20.\", DeprecationWarning)\n",
      "/usr/local/lib/python2.7/site-packages/sklearn/grid_search.py:43: DeprecationWarning: This module was deprecated in version 0.18 in favor of the model_selection module into which all the refactored classes and functions are moved. This module will be removed in 0.20.\n",
      "  DeprecationWarning)\n"
     ]
    }
   ],
   "source": [
    "import xgboost as xgb\n",
    "from xgboost import XGBClassifier\n",
    "from sklearn.metrics import accuracy_score\n",
    "from sklearn.preprocessing import normalize\n",
    "from sklearn.grid_search import GridSearchCV\n",
    "from sklearn.metrics import confusion_matrix\n",
    "from sklearn.feature_extraction.text import TfidfVectorizer, CountVectorizer"
   ]
  },
  {
   "cell_type": "markdown",
   "metadata": {},
   "source": [
    "# Load the Data"
   ]
  },
  {
   "cell_type": "code",
   "execution_count": 3,
   "metadata": {
    "collapsed": true
   },
   "outputs": [],
   "source": [
    "tr = pd.read_csv('tmp/combined_train.csv', index_col='id').sample(frac=1.0)\n",
    "trl = tr.interest_level.copy()\n",
    "del tr['interest_level']"
   ]
  },
  {
   "cell_type": "code",
   "execution_count": 4,
   "metadata": {
    "collapsed": true
   },
   "outputs": [],
   "source": [
    "ilm = {\n",
    "        'low': 0,\n",
    "        'medium': 1,\n",
    "        'high': 2}\n",
    "trl = trl.map(ilm).astype(int64)"
   ]
  },
  {
   "cell_type": "code",
   "execution_count": 5,
   "metadata": {
    "collapsed": true
   },
   "outputs": [],
   "source": [
    "te = pd.read_csv('tmp/combined_test.csv', index_col='id')\n",
    "del te['interest_level']"
   ]
  },
  {
   "cell_type": "code",
   "execution_count": 6,
   "metadata": {
    "collapsed": false
   },
   "outputs": [],
   "source": [
    "del tr['building_id_is_zero']\n",
    "del te['building_id_is_zero']\n",
    "#del tr['has_photos']"
   ]
  },
  {
   "cell_type": "markdown",
   "metadata": {
    "collapsed": true
   },
   "source": [
    "# Grid Search"
   ]
  },
  {
   "cell_type": "code",
   "execution_count": 7,
   "metadata": {
    "collapsed": false
   },
   "outputs": [],
   "source": [
    "tt_lim = int(0.8 * len(tr))\n",
    "ho_tr_f = tr[:tt_lim]\n",
    "ho_te_f = tr[tt_lim:]\n",
    "ho_tr_l = trl[:tt_lim]\n",
    "ho_te_l = trl[tt_lim:]"
   ]
  },
  {
   "cell_type": "code",
   "execution_count": 8,
   "metadata": {
    "collapsed": true
   },
   "outputs": [],
   "source": [
    "def get_param_combos(params):\n",
    "    keys = params.keys()\n",
    "    param_values = [params[k] for k in keys]\n",
    "    return [dict(zip(keys, p)) for p in itertools.product(*param_values)]\n",
    "\n",
    "def grid_search_xgb(train_X, train_y, test_X, test_y, num_rounds, params):\n",
    "    best_score = None\n",
    "    best_params = None\n",
    "    best_model = None\n",
    "    \n",
    "    xgtrain = xgb.DMatrix(train_X, label=train_y)\n",
    "    xgtest = xgb.DMatrix(test_X, label=test_y)\n",
    "    \n",
    "    for pc in get_param_combos(params):\n",
    "        ps = {}\n",
    "        ps['max_depth'] = 5\n",
    "        ps['eta'] = 0.1\n",
    "        ps['min_child_weight'] = 1\n",
    "        ps['subsample'] = 1.0\n",
    "        ps['colsample_bytree'] = 1.0\n",
    "        ps['colsample_bylevel'] = 1.0\n",
    "        ps['gamma'] = 0.0\n",
    "        ps['lambda'] = 1.0\n",
    "        ps['alpha'] = 0.0\n",
    "        ps['objective'] = 'multi:softprob'\n",
    "        ps['num_class'] = 3\n",
    "        ps['eval_metric'] = 'mlogloss'\n",
    "        ps.update(pc)\n",
    "    \n",
    "        model = xgb.train(\n",
    "            params=ps,\n",
    "            dtrain=xgtrain,\n",
    "            num_boost_round=num_rounds)\n",
    "        pred_test_y = model.predict(xgtest)\n",
    "        e = sklearn.metrics.log_loss(test_y, pred_test_y)\n",
    "        print '{0:20}{1}'.format('mlogloss', e)\n",
    "        print\n",
    "        for k in pc:\n",
    "            print '{0:20}{1}'.format(k, pc[k])\n",
    "        print '=' * 30\n",
    "    \n",
    "        if (best_score is None) or (e < best_score):\n",
    "            best_score = e\n",
    "            best_params = pc\n",
    "            best_model = model\n",
    "    \n",
    "    return best_score, best_params, best_model"
   ]
  },
  {
   "cell_type": "code",
   "execution_count": 10,
   "metadata": {
    "collapsed": false
   },
   "outputs": [
    {
     "name": "stdout",
     "output_type": "stream",
     "text": [
      "mlogloss            0.571739025164\n",
      "\n",
      "eta                 0.3\n",
      "max_depth           6\n",
      "min_child_weight    2\n",
      "==============================\n",
      "BESTEST:\n",
      "mlogloss            0.571739025164\n",
      "\n",
      "eta                 0.3\n",
      "max_depth           6\n",
      "min_child_weight    2\n"
     ]
    }
   ],
   "source": [
    "param_grid = {}\n",
    "param_grid['max_depth'] = [6]\n",
    "param_grid['eta'] = [0.3]\n",
    "param_grid['min_child_weight'] = [2]\n",
    "# param_grid['subsample'] = [1.0]\n",
    "# param_grid['colsample_bytree'] = [1.0]\n",
    "# param_grid['colsample_bylevel'] = [1.0]\n",
    "# param_grid['gamma'] = [0.0, 0.1]\n",
    "# param_grid['lambda'] = [1.0, 1.2]\n",
    "# param_grid['alpha'] = [0.0, 0.1]\n",
    "\n",
    "z = 1\n",
    "if z == 0:\n",
    "    for n in [55, 65, 75]:\n",
    "        e, p, m = grid_search_xgb(ho_tr_f, ho_tr_l, ho_te_f, ho_te_l, n, param_grid)\n",
    "if z == 1:\n",
    "    e, p, m = grid_search_xgb(ho_tr_f, ho_tr_l, ho_te_f, ho_te_l, 55, param_grid)\n",
    "    print 'BESTEST:'\n",
    "    print '{0:20}{1}'.format('mlogloss', e)\n",
    "    print\n",
    "    for k in p:\n",
    "        print '{0:20}{1}'.format(k, p[k])"
   ]
  },
  {
   "cell_type": "markdown",
   "metadata": {},
   "source": [
    "# Feature Importances"
   ]
  },
  {
   "cell_type": "code",
   "execution_count": null,
   "metadata": {
    "collapsed": false
   },
   "outputs": [],
   "source": [
    "NUM_FEATURES = 100\n",
    "fscores = m.get_score(importance_type='gain')\n",
    "fscores = sorted(fscores.items(), key=operator.itemgetter(1))\n",
    "fscores.reverse()\n",
    "fscores = fscores[:NUM_FEATURES]\n",
    "fi = pd.DataFrame({\n",
    "        'feature': [fs[0] for fs in fscores],\n",
    "        'importance': [fs[1] for fs in fscores]})\n",
    "plt.figure(figsize=(12, NUM_FEATURES / 4))\n",
    "_ = sns.barplot(\n",
    "        x='importance',\n",
    "        y='feature',\n",
    "        data=fi,\n",
    "        color='salmon')"
   ]
  },
  {
   "cell_type": "markdown",
   "metadata": {},
   "source": [
    "# Submission"
   ]
  },
  {
   "cell_type": "code",
   "execution_count": null,
   "metadata": {
    "collapsed": true
   },
   "outputs": [],
   "source": [
    "xgtrain = xgb.DMatrix(tr, label=trl)\n",
    "xgtest = xgb.DMatrix(te)"
   ]
  },
  {
   "cell_type": "code",
   "execution_count": null,
   "metadata": {
    "collapsed": false
   },
   "outputs": [],
   "source": [
    "ps = {}\n",
    "ps['max_depth'] = 6\n",
    "ps['eta'] = 0.3\n",
    "ps['min_child_weight'] = 2\n",
    "ps['subsample'] = 1.0\n",
    "ps['colsample_bytree'] = 1.0\n",
    "ps['colsample_bylevel'] = 1.0\n",
    "ps['gamma'] = 0.0\n",
    "ps['lambda'] = 1.0\n",
    "ps['alpha'] = 0.0\n",
    "ps['objective'] = 'multi:softprob'\n",
    "ps['num_class'] = 3\n",
    "ps['eval_metric'] = 'mlogloss'"
   ]
  },
  {
   "cell_type": "code",
   "execution_count": null,
   "metadata": {
    "collapsed": false
   },
   "outputs": [],
   "source": [
    "model = xgb.train(\n",
    "            params=ps,\n",
    "            dtrain=xgtrain,\n",
    "            num_boost_round=55)\n",
    "pred_test_y = model.predict(xgtest)"
   ]
  },
  {
   "cell_type": "code",
   "execution_count": null,
   "metadata": {
    "collapsed": false
   },
   "outputs": [],
   "source": [
    "out_df = pd.DataFrame(pred_test_y, index=te.index)\n",
    "print len(out_df)\n",
    "out_df.columns = ['low', 'medium', 'high']\n",
    "out_df.head(10)"
   ]
  },
  {
   "cell_type": "code",
   "execution_count": null,
   "metadata": {
    "collapsed": false
   },
   "outputs": [],
   "source": [
    "ids = pd.read_json('tmp/raw_data.json')[['listing_id']]\n",
    "print len(ids)\n",
    "ids.head()"
   ]
  },
  {
   "cell_type": "code",
   "execution_count": null,
   "metadata": {
    "collapsed": false
   },
   "outputs": [],
   "source": [
    "s = pd.merge(ids, out_df, left_index=True, right_index=True)\n",
    "s.head(10)"
   ]
  },
  {
   "cell_type": "code",
   "execution_count": null,
   "metadata": {
    "collapsed": true
   },
   "outputs": [],
   "source": [
    "s.to_csv('output/xgb_8.csv', index=False)"
   ]
  }
 ],
 "metadata": {
  "kernelspec": {
   "display_name": "Python 2",
   "language": "python",
   "name": "python2"
  },
  "language_info": {
   "codemirror_mode": {
    "name": "ipython",
    "version": 2
   },
   "file_extension": ".py",
   "mimetype": "text/x-python",
   "name": "python",
   "nbconvert_exporter": "python",
   "pygments_lexer": "ipython2",
   "version": "2.7.11"
  }
 },
 "nbformat": 4,
 "nbformat_minor": 1
}
