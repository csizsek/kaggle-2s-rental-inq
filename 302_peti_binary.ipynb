{
 "cells": [
  {
   "cell_type": "code",
   "execution_count": 1,
   "metadata": {
    "collapsed": false
   },
   "outputs": [
    {
     "name": "stderr",
     "output_type": "stream",
     "text": [
      "/usr/local/lib/python2.7/site-packages/matplotlib/font_manager.py:273: UserWarning: Matplotlib is building the font cache using fc-list. This may take a moment.\n",
      "  warnings.warn('Matplotlib is building the font cache using fc-list. This may take a moment.')\n",
      "/usr/local/lib/python2.7/site-packages/sklearn/cross_validation.py:44: DeprecationWarning: This module was deprecated in version 0.18 in favor of the model_selection module into which all the refactored classes and functions are moved. Also note that the interface of the new CV iterators are different from that of this module. This module will be removed in 0.20.\n",
      "  \"This module will be removed in 0.20.\", DeprecationWarning)\n",
      "/usr/local/lib/python2.7/site-packages/sklearn/grid_search.py:43: DeprecationWarning: This module was deprecated in version 0.18 in favor of the model_selection module into which all the refactored classes and functions are moved. This module will be removed in 0.20.\n",
      "  DeprecationWarning)\n",
      "/usr/local/lib/python2.7/site-packages/sklearn/lda.py:6: DeprecationWarning: lda.LDA has been moved to discriminant_analysis.LinearDiscriminantAnalysis in 0.17 and will be removed in 0.19\n",
      "  \"in 0.17 and will be removed in 0.19\", DeprecationWarning)\n",
      "/usr/local/lib/python2.7/site-packages/sklearn/learning_curve.py:23: DeprecationWarning: This module was deprecated in version 0.18 in favor of the model_selection module into which all the functions are moved. This module will be removed in 0.20\n",
      "  DeprecationWarning)\n",
      "/usr/local/lib/python2.7/site-packages/sklearn/qda.py:6: DeprecationWarning: qda.QDA has been moved to discriminant_analysis.QuadraticDiscriminantAnalysis in 0.17 and will be removed in 0.19.\n",
      "  \"in 0.17 and will be removed in 0.19.\", DeprecationWarning)\n"
     ]
    }
   ],
   "source": [
    "import base64\n",
    "import collections\n",
    "import datetime\n",
    "import itertools\n",
    "import json\n",
    "import os\n",
    "import pickle\n",
    "import random\n",
    "import re\n",
    "import sys\n",
    "import time\n",
    "\n",
    "import matplotlib as mpl\n",
    "import matplotlib.pyplot as plt\n",
    "#import nltk\n",
    "import numpy as np\n",
    "import pandas as pd\n",
    "#import PIL\n",
    "import pylab\n",
    "import scipy\n",
    "import seaborn as sns\n",
    "import sklearn\n",
    "from sklearn import *\n",
    "import statsmodels as sm\n",
    "import xgboost as xgb\n",
    "\n",
    "np.random.seed(1337)\n",
    "\n",
    "%matplotlib inline\n",
    "\n",
    "sns.set(font_scale=1.0)\n",
    "mpl.rcParams['figure.figsize'] = 12, 8\n",
    "sns.set_style('whitegrid')\n",
    "sns.set_palette(sns.color_palette('muted'))"
   ]
  },
  {
   "cell_type": "markdown",
   "metadata": {},
   "source": [
    "# Load the Data"
   ]
  },
  {
   "cell_type": "code",
   "execution_count": 51,
   "metadata": {
    "collapsed": false
   },
   "outputs": [],
   "source": [
    "tr_all = pd.read_csv('tmp/combined_train_selected_all.csv', index_col='id').sample(frac=1.0)\n",
    "trl_all = tr_all.interest_level.copy()\n",
    "trl_all_d = pd.get_dummies(tr_all.interest_level)[['low', 'medium', 'high']]\n",
    "ilm = {\n",
    "        'low': 0,\n",
    "        'medium': 1,\n",
    "        'high': 2}\n",
    "trl_all_n = tr_all.interest_level.map(ilm)\n",
    "del tr_all['interest_level']\n",
    "te_all = pd.read_csv('tmp/combined_test_selected_all.csv', index_col='id')\n",
    "del te_all['interest_level']"
   ]
  },
  {
   "cell_type": "markdown",
   "metadata": {
    "collapsed": true
   },
   "source": [
    "# Split"
   ]
  },
  {
   "cell_type": "code",
   "execution_count": 52,
   "metadata": {
    "collapsed": false
   },
   "outputs": [],
   "source": [
    "tt_lim = int(0.8 * len(tr_all))\n",
    "ho_tr_all_f = tr_all[:tt_lim]\n",
    "ho_te_all_f = tr_all[tt_lim:]\n",
    "ho_tr_all_l = trl_all[:tt_lim]\n",
    "ho_tr_all_l_d = trl_all_d[:tt_lim]\n",
    "ho_tr_all_l_n = trl_all_n[:tt_lim]\n",
    "ho_te_all_l = trl_all[tt_lim:]\n",
    "ho_te_all_l_d = trl_all_d[tt_lim:]\n",
    "ho_te_all_l_n = trl_all_n[tt_lim:]"
   ]
  },
  {
   "cell_type": "markdown",
   "metadata": {},
   "source": [
    "# Logistic Regression"
   ]
  },
  {
   "cell_type": "code",
   "execution_count": 71,
   "metadata": {
    "collapsed": false
   },
   "outputs": [
    {
     "name": "stdout",
     "output_type": "stream",
     "text": [
      "low\n",
      "0.522342075738\n",
      "[[ 847 2163]\n",
      " [ 493 6368]]\n",
      "==============================\n",
      "medium\n",
      "0.491995892049\n",
      "[[7534   69]\n",
      " [2219   49]]\n",
      "==============================\n",
      "high\n",
      "0.226819385201\n",
      "[[9106   23]\n",
      " [ 702   40]]\n",
      "==============================\n",
      "0.683355238906\n"
     ]
    }
   ],
   "source": [
    "preds = {}\n",
    "preds_p = {}\n",
    "for t in ['low', 'medium', 'high']:\n",
    "    print t\n",
    "    m = sklearn.linear_model.LogisticRegression()\n",
    "    m.fit(ho_tr_all_f.fillna(0), ho_tr_all_l_d[t])\n",
    "    preds[t] = m.predict(ho_te_all_f.fillna(0))\n",
    "    preds_p[t] = m.predict_proba(ho_te_all_f.fillna(0))[:, 1]\n",
    "    print sklearn.metrics.log_loss(ho_te_all_l_d[t], preds_p[t])\n",
    "    print sklearn.metrics.confusion_matrix(ho_te_all_l_d[t], preds[t])\n",
    "    print '=' * 30\n",
    "print sklearn.metrics.log_loss(\n",
    "    ho_te_all_l_n,\n",
    "    pd.DataFrame({t:preds_p[t] for t in ['low', 'medium', 'high']})[['low', 'medium', 'high']])"
   ]
  }
 ],
 "metadata": {
  "kernelspec": {
   "display_name": "Python 2",
   "language": "python",
   "name": "python2"
  },
  "language_info": {
   "codemirror_mode": {
    "name": "ipython",
    "version": 2
   },
   "file_extension": ".py",
   "mimetype": "text/x-python",
   "name": "python",
   "nbconvert_exporter": "python",
   "pygments_lexer": "ipython2",
   "version": "2.7.11"
  }
 },
 "nbformat": 4,
 "nbformat_minor": 1
}
