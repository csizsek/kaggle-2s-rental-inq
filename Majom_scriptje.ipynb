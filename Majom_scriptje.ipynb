{
 "cells": [
  {
   "cell_type": "code",
   "execution_count": 2,
   "metadata": {
    "collapsed": false
   },
   "outputs": [
    {
     "name": "stdout",
     "output_type": "stream",
     "text": [
      "(49352, 15)\n",
      "(74659, 14)\n",
      "10                                                         \n",
      "10000     Doorman Elevator Fitness_Center Cats_Allowed D...\n",
      "100004    Laundry_In_Building Dishwasher Hardwood_Floors...\n",
      "100007                               Hardwood_Floors No_Fee\n",
      "100013                                              Pre-War\n",
      "Name: features, dtype: object\n",
      "((49352, 421), (74659, 421))\n"
     ]
    }
   ],
   "source": [
    "import os\n",
    "import sys\n",
    "import operator\n",
    "import numpy as np\n",
    "import pandas as pd\n",
    "from scipy import sparse\n",
    "import xgboost as xgb\n",
    "from sklearn import model_selection, preprocessing, ensemble\n",
    "from sklearn.metrics import log_loss\n",
    "from sklearn.feature_extraction.text import TfidfVectorizer, CountVectorizer\n",
    "import math\n",
    "\n",
    "def runXGB(train_X, train_y, test_X, test_y=None, feature_names=None, seed_val=0, num_rounds=1000):\n",
    "    param = {}\n",
    "    param['objective'] = 'multi:softprob'\n",
    "    param['eta'] = 0.1\n",
    "    param['max_depth'] = 4\n",
    "    param['silent'] = 1\n",
    "    param['num_class'] = 3\n",
    "    param['eval_metric'] = \"logloss\"\n",
    "    param['min_child_weight'] = 1\n",
    "    param['subsample'] = 0.8\n",
    "    param['colsample_bytree'] = 0.8\n",
    "    param['seed'] = seed_val\n",
    "    num_rounds = num_rounds\n",
    "\n",
    "    plst = list(param.items())\n",
    "    xgtrain = xgb.DMatrix(train_X, label=train_y)\n",
    "\n",
    "    if test_y is not None:\n",
    "        xgtest = xgb.DMatrix(test_X, label=test_y)\n",
    "        watchlist = [ (xgtrain,'train'), (xgtest, 'test') ]\n",
    "        model = xgb.train(plst, xgtrain, num_rounds, watchlist, early_stopping_rounds=50)\n",
    "    else:\n",
    "        xgtest = xgb.DMatrix(test_X)\n",
    "        model = xgb.train(plst, xgtrain, num_rounds)\n",
    "\n",
    "    pred_test_y = model.predict(xgtest)\n",
    "    return pred_test_y, model\n",
    "    \n",
    "data_path = \"./input/\"\n",
    "train_file = data_path + \"train.json\"\n",
    "test_file = data_path + \"test.json\"\n",
    "train_df = pd.read_json(train_file)\n",
    "test_df = pd.read_json(test_file)\n",
    "print(train_df.shape)\n",
    "print(test_df.shape)\n",
    "\n",
    "features_to_use  = [\"bathrooms\", \"bedrooms\", \"latitude\", \"longitude\", \"price\"]\n",
    "\n",
    "# transformation of lat and lng #\n",
    "train_df[\"price_t\"] = train_df[\"price\"]/train_df[\"bedrooms\"] \n",
    "test_df[\"price_t\"] = test_df[\"price\"]/test_df[\"bedrooms\"] \n",
    "\n",
    "train_df[\"room_dif\"] = train_df[\"bedrooms\"]-train_df[\"bathrooms\"] \n",
    "train_df[\"room_sum\"] = train_df[\"bedrooms\"]+train_df[\"bathrooms\"] \n",
    "train_df[\"price_t1\"] = train_df[\"price\"]/train_df[\"room_sum\"]\n",
    "train_df[\"fold_t1\"] = train_df[\"bedrooms\"]/train_df[\"room_sum\"]\n",
    "\n",
    "test_df[\"room_dif\"] = test_df[\"bedrooms\"]-test_df[\"bathrooms\"] \n",
    "test_df[\"room_sum\"] = test_df[\"bedrooms\"]+test_df[\"bathrooms\"] \n",
    "test_df[\"price_t1\"] = test_df[\"price\"]/test_df[\"room_sum\"]\n",
    "test_df[\"fold_t1\"] = test_df[\"bedrooms\"]/test_df[\"room_sum\"]\n",
    "\n",
    " \n",
    "# count of photos #\n",
    "train_df[\"num_photos\"] = train_df[\"photos\"].apply(len)\n",
    "test_df[\"num_photos\"] = test_df[\"photos\"].apply(len)\n",
    "\n",
    "# count of \"features\" #\n",
    "train_df[\"num_features\"] = train_df[\"features\"].apply(len)\n",
    "test_df[\"num_features\"] = test_df[\"features\"].apply(len)\n",
    "\n",
    "# count of words present in description column #\n",
    "train_df[\"num_description_words\"] = train_df[\"description\"].apply(lambda x: len(x.split(\" \")))\n",
    "test_df[\"num_description_words\"] = test_df[\"description\"].apply(lambda x: len(x.split(\" \")))\n",
    "\n",
    "# convert the created column to datetime object so as to extract more features \n",
    "train_df[\"created\"] = pd.to_datetime(train_df[\"created\"])\n",
    "train_df[\"passed\"] = train_df[\"created\"].max() - train_df[\"created\"]\n",
    "\n",
    "test_df[\"created\"] = pd.to_datetime(test_df[\"created\"])\n",
    "test_df[\"passed\"] = test_df[\"created\"].max() - test_df[\"created\"]\n",
    "# Let us extract some features like year, month, day, hour from date columns #\n",
    "train_df[\"created_year\"] = train_df[\"created\"].dt.year\n",
    "test_df[\"created_year\"] = test_df[\"created\"].dt.year\n",
    "train_df[\"created_month\"] = train_df[\"created\"].dt.month\n",
    "test_df[\"created_month\"] = test_df[\"created\"].dt.month\n",
    "train_df[\"created_day\"] = train_df[\"created\"].dt.day\n",
    "test_df[\"created_day\"] = test_df[\"created\"].dt.day\n",
    "train_df[\"created_hour\"] = train_df[\"created\"].dt.hour\n",
    "test_df[\"created_hour\"] = test_df[\"created\"].dt.hour\n",
    "\n",
    "\n",
    "# Add the number of exclamation signs:\n",
    "#train_df['num_exclamations'] = train_df['description'].apply(lambda x: len(x.split('!')))\n",
    "#test_df['num_exclamations'] = test_df['description'].apply(lambda x: len(x.split('!')))\n",
    "\n",
    "# adding all these new features to use list #\n",
    "features_to_use.extend([\"price_t\",\"num_photos\", \"num_features\", \"num_description_words\", \n",
    "                        \"created_year\", \"created_month\", \"created_day\", \"created_hour\",\n",
    "                        \"listing_id\",'room_dif','room_sum','price_t1'])\n",
    "                        \n",
    "categorical = [\"display_address\", \"manager_id\", \"building_id\", \"street_address\"]\n",
    "for f in categorical:\n",
    "        if train_df[f].dtype=='object':\n",
    "            #print(f)\n",
    "            lbl = preprocessing.LabelEncoder()\n",
    "            lbl.fit(list(train_df[f].values) + list(test_df[f].values))\n",
    "            train_df[f] = lbl.transform(list(train_df[f].values))\n",
    "            test_df[f] = lbl.transform(list(test_df[f].values))\n",
    "            features_to_use.append(f)\n",
    "            \n",
    "train_df['features'] = train_df[\"features\"].apply(lambda x: \" \".join([\"_\".join(i.split(\" \")) for i in x]))\n",
    "test_df['features'] = test_df[\"features\"].apply(lambda x: \" \".join([\"_\".join(i.split(\" \")) for i in x]))\n",
    "print(train_df[\"features\"].head())\n",
    "tfidf = CountVectorizer(stop_words='english', max_features=400)\n",
    "tr_sparse = tfidf.fit_transform(train_df[\"features\"])\n",
    "te_sparse = tfidf.transform(test_df[\"features\"])\n",
    "\n",
    "\n",
    "'''\n",
    "tfidf = TfidfVectorizer(stop_words='english', max_features=50)\n",
    "tr_sparse2 = tfidf.fit_transform(train_df[\"description\"])\n",
    "te_sparse2 = tfidf.transform(test_df[\"description\"])\n",
    "'''\n",
    "#0.5459\n",
    "'''\n",
    "tfidf = CountVectorizer(stop_words='english', max_features=200)\n",
    "tr_sparse2 = tfidf.fit_transform(train_df[\"description\"])\n",
    "te_sparse2 = tfidf.transform(test_df[\"description\"])\n",
    "'''\n",
    "'''\n",
    "tfidf = TfidfVectorizer(stop_words='english', max_features=50)\n",
    "tr_sparse2 = tfidf.fit_transform(train_df[\"street_address\"])\n",
    "te_sparse2 = tfidf.transform(test_df[\"street_address\"])\n",
    "'''\n",
    "\n",
    "\n",
    "\n",
    "train_X = sparse.hstack([train_df[features_to_use], tr_sparse]).tocsr()\n",
    "test_X = sparse.hstack([test_df[features_to_use], te_sparse]).tocsr()\n",
    "\n",
    "target_num_map = {'high':0, 'medium':1, 'low':2}\n",
    "train_y = np.array(train_df['interest_level'].apply(lambda x: target_num_map[x]))\n",
    "print(train_X.shape, test_X.shape)\n",
    "\n",
    "'''\n",
    "cv_scores = []\n",
    "kf = model_selection.KFold(n_splits=5, shuffle=True, random_state=2016)\n",
    "for dev_index, val_index in kf.split(range(train_X.shape[0])):\n",
    "        dev_X, val_X = train_X[dev_index,:], train_X[val_index,:]\n",
    "        dev_y, val_y = train_y[dev_index], train_y[val_index]\n",
    "        preds, model = runXGB(dev_X, dev_y, val_X, val_y)\n",
    "        cv_scores.append(log_loss(val_y, preds))\n",
    "        print(cv_scores)\n",
    "        break\n",
    "'''\n",
    "\n",
    "preds, model = runXGB(train_X, train_y, test_X, num_rounds=1000)\n",
    "out_df = pd.DataFrame(preds)\n",
    "out_df.columns = [\"high\", \"medium\", \"low\"]\n",
    "out_df[\"listing_id\"] = test_df.listing_id.values\n",
    "out_df.to_csv(\"xgb_starter_1.csv\", index=False)"
   ]
  },
  {
   "cell_type": "code",
   "execution_count": 3,
   "metadata": {
    "collapsed": false
   },
   "outputs": [
    {
     "name": "stdout",
     "output_type": "stream",
     "text": [
      "001_eda.ipynb                        301_submit_julcsi.ipynb\r\n",
      "002_merge.ipynb                      301_submit_julcsi_with_tfidfs.ipynb\r\n",
      "003_split.ipynb                      301_submit_peti.ipynb\r\n",
      "101_bathrooms.ipynb                  Duplicated listings.ipynb\r\n",
      "102_bedrooms.ipynb                   Majom scriptje.ipynb\r\n",
      "103_building_id.ipynb                Untitled.ipynb\r\n",
      "104_created.ipynb                    first_try.csv\r\n",
      "105_description.ipynb                \u001b[31mgenerate_features.sh\u001b[m\u001b[m\r\n",
      "106_display_address.ipynb            \u001b[1m\u001b[36minput\u001b[m\u001b[m\r\n",
      "107_features.ipynb                   \u001b[1m\u001b[36moutput\u001b[m\u001b[m\r\n",
      "108_latlon_clustering.ipynb          raw_data.csv\r\n",
      "109_manager_id.ipynb                 readme.txt\r\n",
      "110_photos.ipynb                     second_try.csv\r\n",
      "111_price.ipynb                      \u001b[1m\u001b[36mtmp\u001b[m\u001b[m\r\n",
      "112_street_address.ipynb             \u001b[1m\u001b[36mv1\u001b[m\u001b[m\r\n",
      "201_feature_importances_julcsi.ipynb \u001b[1m\u001b[36mv2\u001b[m\u001b[m\r\n",
      "201_feature_importances_peti.ipynb   xgb_starter_1.csv\r\n"
     ]
    }
   ],
   "source": [
    "! ls "
   ]
  },
  {
   "cell_type": "code",
   "execution_count": 10,
   "metadata": {
    "collapsed": false
   },
   "outputs": [
    {
     "data": {
      "text/plain": [
       "<matplotlib.axes._subplots.AxesSubplot at 0x116612450>"
      ]
     },
     "execution_count": 10,
     "metadata": {},
     "output_type": "execute_result"
    },
    {
     "data": {
      "image/png": "[encoded data removed]",
      "text/plain": [
       "<matplotlib.figure.Figure at 0x116602c90>"
      ]
     },
     "metadata": {},
     "output_type": "display_data"
    }
   ],
   "source": [
    "%matplotlib inline\n",
    "xgb.plot_importance(model)"
   ]
  },
  {
   "cell_type": "code",
   "execution_count": 24,
   "metadata": {
    "collapsed": false
   },
   "outputs": [],
   "source": [
    "feature_importance_score = model.get_fscore()"
   ]
  },
  {
   "cell_type": "code",
   "execution_count": 26,
   "metadata": {
    "collapsed": false
   },
   "outputs": [
    {
     "data": {
      "text/plain": [
       "{'bathrooms': 196,\n",
       " 'bedrooms': 348,\n",
       " 'building_id': 2813,\n",
       " 'created_day': 1180,\n",
       " 'created_hour': 1165,\n",
       " 'created_month': 125,\n",
       " 'created_year': 0,\n",
       " 'display_address': 2483,\n",
       " 'latitude': 2987,\n",
       " 'listing_id': 3173,\n",
       " 'longitude': 2718,\n",
       " 'manager_id': 3546,\n",
       " 'num_description_words': 2248,\n",
       " 'num_features': 1210,\n",
       " 'num_photos': 1255,\n",
       " 'price': 2986,\n",
       " 'price_t': 1414,\n",
       " 'price_t1': 2250,\n",
       " 'room_dif': 439,\n",
       " 'room_sum': 188,\n",
       " 'street_address': 2410}"
      ]
     },
     "execution_count": 26,
     "metadata": {},
     "output_type": "execute_result"
    }
   ],
   "source": [
    "# non-tfidf features by Majom\n",
    "\n",
    "feature_importance = {}\n",
    "for i, f in enumerate(features_to_use):\n",
    "    feature_name = 'f{}'.format(i)\n",
    "    feature_importance[f] = feature_importance_score.get(feature_name, 0)\n",
    "feature_importance"
   ]
  },
  {
   "cell_type": "code",
   "execution_count": 34,
   "metadata": {
    "collapsed": false
   },
   "outputs": [
    {
     "data": {
      "text/plain": [
       "<matplotlib.text.Text at 0x1285b4290>"
      ]
     },
     "execution_count": 34,
     "metadata": {},
     "output_type": "execute_result"
    },
    {
     "data": {
      "image/png": "[encoded data removed]",
      "text/plain": [
       "<matplotlib.figure.Figure at 0x1285b4a90>"
      ]
     },
     "metadata": {},
     "output_type": "display_data"
    }
   ],
   "source": [
    "import pylab as pl\n",
    "pd.Series(feature_importance).sort_values().plot(kind='barh', figsize=(16, 8))\n",
    "pl.suptitle(\"Feature importance in Majom's model\")"
   ]
  }
 ],
 "metadata": {
  "kernelspec": {
   "display_name": "Python 2",
   "language": "python",
   "name": "python2"
  },
  "language_info": {
   "codemirror_mode": {
    "name": "ipython",
    "version": 2
   },
   "file_extension": ".py",
   "mimetype": "text/x-python",
   "name": "python",
   "nbconvert_exporter": "python",
   "pygments_lexer": "ipython2",
   "version": "2.7.10"
  }
 },
 "nbformat": 4,
 "nbformat_minor": 0
}
