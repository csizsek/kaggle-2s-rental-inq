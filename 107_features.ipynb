{
 "cells": [
  {
   "cell_type": "code",
   "execution_count": 82,
   "metadata": {
    "collapsed": false
   },
   "outputs": [],
   "source": [
    "import base64\n",
    "import datetime\n",
    "import json\n",
    "import os\n",
    "import random\n",
    "import time\n",
    "\n",
    "import scipy\n",
    "from scipy import ndimage\n",
    "import numpy as np\n",
    "import pandas as pd\n",
    "import sklearn\n",
    "import matplotlib as mpl\n",
    "import matplotlib.pyplot as plt\n",
    "from pylab import rcParams\n",
    "import seaborn as sns\n",
    "import statsmodels as sm\n",
    "from pylab import rcParams\n",
    "from pylab import *\n",
    "from matplotlib.dates import date2num , DateFormatter\n",
    "from PIL import Image\n",
    "\n",
    "np.random.seed(1337)\n",
    "\n",
    "%matplotlib inline\n",
    "sns.set(font_scale=1.0)\n",
    "rcParams['figure.figsize'] = 8, 6\n",
    "sns.set_style('whitegrid')\n",
    "sns.set_palette(sns.color_palette('muted'))"
   ]
  },
  {
   "cell_type": "code",
   "execution_count": 83,
   "metadata": {
    "collapsed": true
   },
   "outputs": [],
   "source": [
    "from collections import Counter"
   ]
  },
  {
   "cell_type": "markdown",
   "metadata": {},
   "source": [
    "# Load the Data"
   ]
  },
  {
   "cell_type": "code",
   "execution_count": 84,
   "metadata": {
    "collapsed": false
   },
   "outputs": [
    {
     "name": "stdout",
     "output_type": "stream",
     "text": [
      "124011\n"
     ]
    }
   ],
   "source": [
    "d = pd.read_json('tmp/raw_data.json')\n",
    "d.index.name = 'id'\n",
    "d = d[['features']]\n",
    "print len(d)"
   ]
  },
  {
   "cell_type": "code",
   "execution_count": 85,
   "metadata": {
    "collapsed": false
   },
   "outputs": [
    {
     "data": {
      "text/plain": [
       "features    object\n",
       "dtype: object"
      ]
     },
     "execution_count": 85,
     "metadata": {},
     "output_type": "execute_result"
    }
   ],
   "source": [
    "d.dtypes"
   ]
  },
  {
   "cell_type": "code",
   "execution_count": 86,
   "metadata": {
    "collapsed": false
   },
   "outputs": [
    {
     "data": {
      "text/plain": [
       "id\n",
       "0       [Elevator, Laundry in Building, Laundry in Uni...\n",
       "1                   [Pre-War, Dogs Allowed, Cats Allowed]\n",
       "10                                                     []\n",
       "100                           [Doorman, Elevator, No Fee]\n",
       "1000    [Roof Deck, Balcony, Elevator, Laundry in Buil...\n",
       "Name: features, dtype: object"
      ]
     },
     "execution_count": 86,
     "metadata": {},
     "output_type": "execute_result"
    }
   ],
   "source": [
    "d.features.head()"
   ]
  },
  {
   "cell_type": "markdown",
   "metadata": {},
   "source": [
    "# Clean Features"
   ]
  },
  {
   "cell_type": "code",
   "execution_count": 87,
   "metadata": {
    "collapsed": true
   },
   "outputs": [],
   "source": [
    "d.features = d.features.apply(lambda fl: [f.lower().replace(' ', '_') for f in fl])"
   ]
  },
  {
   "cell_type": "markdown",
   "metadata": {},
   "source": [
    "# Number of Features"
   ]
  },
  {
   "cell_type": "code",
   "execution_count": 88,
   "metadata": {
    "collapsed": false
   },
   "outputs": [],
   "source": [
    "d['num_features'] = d.features.apply(lambda f: len(f))"
   ]
  },
  {
   "cell_type": "markdown",
   "metadata": {},
   "source": [
    "# Most Frequent Features"
   ]
  },
  {
   "cell_type": "code",
   "execution_count": 89,
   "metadata": {
    "collapsed": false
   },
   "outputs": [
    {
     "data": {
      "text/plain": [
       "[(u'elevator', 65833),\n",
       " (u'cats_allowed', 59194),\n",
       " (u'hardwood_floors', 59155),\n",
       " (u'dogs_allowed', 55207),\n",
       " (u'doorman', 52505),\n",
       " (u'dishwasher', 52035),\n",
       " (u'laundry_in_building', 47483),\n",
       " (u'no_fee', 45450),\n",
       " (u'fitness_center', 33420),\n",
       " (u'laundry_in_unit', 23752),\n",
       " (u'pre-war', 23111),\n",
       " (u'roof_deck', 16466),\n",
       " (u'outdoor_space', 13414),\n",
       " (u'dining_room', 12847),\n",
       " (u'high_speed_internet', 10622),\n",
       " (u'balcony', 7793),\n",
       " (u'swimming_pool', 7153),\n",
       " (u'new_construction', 6457),\n",
       " (u'terrace', 5707),\n",
       " (u'exclusive', 5470)]"
      ]
     },
     "execution_count": 89,
     "metadata": {},
     "output_type": "execute_result"
    }
   ],
   "source": [
    "flat_features = [f for apt in d.features.tolist() for f in apt]\n",
    "flat_feature_counts = Counter(flat_features)\n",
    "flat_feature_counts.most_common(20)"
   ]
  },
  {
   "cell_type": "code",
   "execution_count": 90,
   "metadata": {
    "collapsed": false
   },
   "outputs": [],
   "source": [
    "top_10_features = set([fc[0] for fc in flat_feature_counts.most_common(10)])\n",
    "top_30_features = set([fc[0] for fc in flat_feature_counts.most_common(30)])"
   ]
  },
  {
   "cell_type": "code",
   "execution_count": 91,
   "metadata": {
    "collapsed": false
   },
   "outputs": [],
   "source": [
    "d['top_10_feature_coverage'] = d.features.apply(\n",
    "    lambda fs: len(top_10_features.intersection(set(fs)))/10.0)\n",
    "d['top_30_feature_coverage'] = d.features.apply(\n",
    "    lambda fs: len(top_30_features.intersection(set(fs)))/30.0)\n",
    "d['top_10_feature_ratio'] = d.features.apply(\n",
    "    lambda fs: len(top_10_features.intersection(set(fs)))/(1.0 * len(fs)) if len(fs) > 0 else 0)\n",
    "d['top_30_feature_ratio'] = d.features.apply(\n",
    "    lambda fs: len(top_30_features.intersection(set(fs)))/(1.0 * len(fs)) if len(fs) > 0 else 0)"
   ]
  },
  {
   "cell_type": "code",
   "execution_count": 92,
   "metadata": {
    "collapsed": false
   },
   "outputs": [
    {
     "data": {
      "text/html": [
       "<div>\n",
       "<table border=\"1\" class=\"dataframe\">\n",
       "  <thead>\n",
       "    <tr style=\"text-align: right;\">\n",
       "      <th></th>\n",
       "      <th>features</th>\n",
       "      <th>num_features</th>\n",
       "      <th>top_10_feature_coverage</th>\n",
       "      <th>top_30_feature_coverage</th>\n",
       "      <th>top_10_feature_ratio</th>\n",
       "      <th>top_30_feature_ratio</th>\n",
       "    </tr>\n",
       "    <tr>\n",
       "      <th>id</th>\n",
       "      <th></th>\n",
       "      <th></th>\n",
       "      <th></th>\n",
       "      <th></th>\n",
       "      <th></th>\n",
       "      <th></th>\n",
       "    </tr>\n",
       "  </thead>\n",
       "  <tbody>\n",
       "    <tr>\n",
       "      <th>0</th>\n",
       "      <td>[elevator, laundry_in_building, laundry_in_uni...</td>\n",
       "      <td>6</td>\n",
       "      <td>0.5</td>\n",
       "      <td>0.200000</td>\n",
       "      <td>0.833333</td>\n",
       "      <td>1.000000</td>\n",
       "    </tr>\n",
       "    <tr>\n",
       "      <th>1</th>\n",
       "      <td>[pre-war, dogs_allowed, cats_allowed]</td>\n",
       "      <td>3</td>\n",
       "      <td>0.2</td>\n",
       "      <td>0.100000</td>\n",
       "      <td>0.666667</td>\n",
       "      <td>1.000000</td>\n",
       "    </tr>\n",
       "    <tr>\n",
       "      <th>10</th>\n",
       "      <td>[]</td>\n",
       "      <td>0</td>\n",
       "      <td>0.0</td>\n",
       "      <td>0.000000</td>\n",
       "      <td>0.000000</td>\n",
       "      <td>0.000000</td>\n",
       "    </tr>\n",
       "    <tr>\n",
       "      <th>100</th>\n",
       "      <td>[doorman, elevator, no_fee]</td>\n",
       "      <td>3</td>\n",
       "      <td>0.3</td>\n",
       "      <td>0.100000</td>\n",
       "      <td>1.000000</td>\n",
       "      <td>1.000000</td>\n",
       "    </tr>\n",
       "    <tr>\n",
       "      <th>1000</th>\n",
       "      <td>[roof_deck, balcony, elevator, laundry_in_buil...</td>\n",
       "      <td>10</td>\n",
       "      <td>0.5</td>\n",
       "      <td>0.333333</td>\n",
       "      <td>0.500000</td>\n",
       "      <td>1.000000</td>\n",
       "    </tr>\n",
       "    <tr>\n",
       "      <th>10000</th>\n",
       "      <td>[doorman, elevator, fitness_center, cats_allow...</td>\n",
       "      <td>5</td>\n",
       "      <td>0.5</td>\n",
       "      <td>0.166667</td>\n",
       "      <td>1.000000</td>\n",
       "      <td>1.000000</td>\n",
       "    </tr>\n",
       "    <tr>\n",
       "      <th>100000</th>\n",
       "      <td>[common_outdoor_space, cats_allowed, dogs_allo...</td>\n",
       "      <td>14</td>\n",
       "      <td>0.9</td>\n",
       "      <td>0.433333</td>\n",
       "      <td>0.642857</td>\n",
       "      <td>0.928571</td>\n",
       "    </tr>\n",
       "    <tr>\n",
       "      <th>100001</th>\n",
       "      <td>[fireplace, dining_room, doorman, elevator, la...</td>\n",
       "      <td>11</td>\n",
       "      <td>0.9</td>\n",
       "      <td>0.366667</td>\n",
       "      <td>0.818182</td>\n",
       "      <td>1.000000</td>\n",
       "    </tr>\n",
       "    <tr>\n",
       "      <th>100002</th>\n",
       "      <td>[hardwood_floors, new_construction]</td>\n",
       "      <td>2</td>\n",
       "      <td>0.1</td>\n",
       "      <td>0.066667</td>\n",
       "      <td>0.500000</td>\n",
       "      <td>1.000000</td>\n",
       "    </tr>\n",
       "    <tr>\n",
       "      <th>100003</th>\n",
       "      <td>[fireplace, pre-war, laundry_in_building, dish...</td>\n",
       "      <td>5</td>\n",
       "      <td>0.3</td>\n",
       "      <td>0.166667</td>\n",
       "      <td>0.600000</td>\n",
       "      <td>1.000000</td>\n",
       "    </tr>\n",
       "  </tbody>\n",
       "</table>\n",
       "</div>"
      ],
      "text/plain": [
       "                                                 features  num_features  \\\n",
       "id                                                                        \n",
       "0       [elevator, laundry_in_building, laundry_in_uni...             6   \n",
       "1                   [pre-war, dogs_allowed, cats_allowed]             3   \n",
       "10                                                     []             0   \n",
       "100                           [doorman, elevator, no_fee]             3   \n",
       "1000    [roof_deck, balcony, elevator, laundry_in_buil...            10   \n",
       "10000   [doorman, elevator, fitness_center, cats_allow...             5   \n",
       "100000  [common_outdoor_space, cats_allowed, dogs_allo...            14   \n",
       "100001  [fireplace, dining_room, doorman, elevator, la...            11   \n",
       "100002                [hardwood_floors, new_construction]             2   \n",
       "100003  [fireplace, pre-war, laundry_in_building, dish...             5   \n",
       "\n",
       "        top_10_feature_coverage  top_30_feature_coverage  \\\n",
       "id                                                         \n",
       "0                           0.5                 0.200000   \n",
       "1                           0.2                 0.100000   \n",
       "10                          0.0                 0.000000   \n",
       "100                         0.3                 0.100000   \n",
       "1000                        0.5                 0.333333   \n",
       "10000                       0.5                 0.166667   \n",
       "100000                      0.9                 0.433333   \n",
       "100001                      0.9                 0.366667   \n",
       "100002                      0.1                 0.066667   \n",
       "100003                      0.3                 0.166667   \n",
       "\n",
       "        top_10_feature_ratio  top_30_feature_ratio  \n",
       "id                                                  \n",
       "0                   0.833333              1.000000  \n",
       "1                   0.666667              1.000000  \n",
       "10                  0.000000              0.000000  \n",
       "100                 1.000000              1.000000  \n",
       "1000                0.500000              1.000000  \n",
       "10000               1.000000              1.000000  \n",
       "100000              0.642857              0.928571  \n",
       "100001              0.818182              1.000000  \n",
       "100002              0.500000              1.000000  \n",
       "100003              0.600000              1.000000  "
      ]
     },
     "execution_count": 92,
     "metadata": {},
     "output_type": "execute_result"
    }
   ],
   "source": [
    "d.head(10)"
   ]
  },
  {
   "cell_type": "markdown",
   "metadata": {},
   "source": [
    "# Save the Data"
   ]
  },
  {
   "cell_type": "code",
   "execution_count": 93,
   "metadata": {
    "collapsed": true
   },
   "outputs": [],
   "source": [
    "d.to_csv('tmp/features_features.csv')"
   ]
  }
 ],
 "metadata": {
  "kernelspec": {
   "display_name": "Python 2",
   "language": "python",
   "name": "python2"
  },
  "language_info": {
   "codemirror_mode": {
    "name": "ipython",
    "version": 2
   },
   "file_extension": ".py",
   "mimetype": "text/x-python",
   "name": "python",
   "nbconvert_exporter": "python",
   "pygments_lexer": "ipython2",
   "version": "2.7.10"
  }
 },
 "nbformat": 4,
 "nbformat_minor": 1
}
