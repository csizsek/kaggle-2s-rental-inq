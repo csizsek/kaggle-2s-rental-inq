{
 "cells": [
  {
   "cell_type": "code",
   "execution_count": 1,
   "metadata": {
    "collapsed": false
   },
   "outputs": [
    {
     "name": "stderr",
     "output_type": "stream",
     "text": [
      "/usr/local/lib/python2.7/site-packages/matplotlib/font_manager.py:273: UserWarning: Matplotlib is building the font cache using fc-list. This may take a moment.\n",
      "  warnings.warn('Matplotlib is building the font cache using fc-list. This may take a moment.')\n"
     ]
    }
   ],
   "source": [
    "import base64\n",
    "import datetime\n",
    "import json\n",
    "import os\n",
    "import random\n",
    "import time\n",
    "\n",
    "import scipy\n",
    "from scipy import ndimage\n",
    "import numpy as np\n",
    "import pandas as pd\n",
    "import sklearn\n",
    "import matplotlib as mpl\n",
    "import matplotlib.pyplot as plt\n",
    "from pylab import rcParams\n",
    "import seaborn as sns\n",
    "import statsmodels as sm\n",
    "from pylab import rcParams\n",
    "from pylab import *\n",
    "from matplotlib.dates import date2num , DateFormatter\n",
    "from PIL import Image\n",
    "\n",
    "np.random.seed(1337)\n",
    "\n",
    "%matplotlib inline\n",
    "sns.set(font_scale=1.0)\n",
    "rcParams['figure.figsize'] = 8, 6\n",
    "sns.set_style('whitegrid')\n",
    "sns.set_palette(sns.color_palette('muted'))\n",
    "\n",
    "pd.options.display.max_colwidth = 1000"
   ]
  },
  {
   "cell_type": "code",
   "execution_count": 2,
   "metadata": {
    "collapsed": true
   },
   "outputs": [],
   "source": [
    "from collections import Counter\n",
    "from sklearn.feature_extraction.text import CountVectorizer"
   ]
  },
  {
   "cell_type": "markdown",
   "metadata": {},
   "source": [
    "# Load the Data"
   ]
  },
  {
   "cell_type": "code",
   "execution_count": 3,
   "metadata": {
    "collapsed": false
   },
   "outputs": [
    {
     "name": "stdout",
     "output_type": "stream",
     "text": [
      "124011\n"
     ]
    }
   ],
   "source": [
    "raw_data = pd.read_json('tmp/raw_data.json')\n",
    "d = pd.read_json('tmp/raw_data.json')\n",
    "raw_data.index.name = 'id'\n",
    "d = raw_data[['street_address']]\n",
    "dd  = raw_data[['street_address', 'display_address']]\n",
    "print len(d)"
   ]
  },
  {
   "cell_type": "code",
   "execution_count": 4,
   "metadata": {
    "collapsed": false
   },
   "outputs": [
    {
     "data": {
      "text/plain": [
       "street_address    object\n",
       "dtype: object"
      ]
     },
     "execution_count": 4,
     "metadata": {},
     "output_type": "execute_result"
    }
   ],
   "source": [
    "d.dtypes"
   ]
  },
  {
   "cell_type": "code",
   "execution_count": 5,
   "metadata": {
    "collapsed": false
   },
   "outputs": [
    {
     "data": {
      "text/html": [
       "<div>\n",
       "<table border=\"1\" class=\"dataframe\">\n",
       "  <thead>\n",
       "    <tr style=\"text-align: right;\">\n",
       "      <th></th>\n",
       "      <th>street_address</th>\n",
       "      <th>display_address</th>\n",
       "    </tr>\n",
       "    <tr>\n",
       "      <th>id</th>\n",
       "      <th></th>\n",
       "      <th></th>\n",
       "    </tr>\n",
       "  </thead>\n",
       "  <tbody>\n",
       "    <tr>\n",
       "      <th>0</th>\n",
       "      <td>99 Suffolk Street</td>\n",
       "      <td>Suffolk Street</td>\n",
       "    </tr>\n",
       "    <tr>\n",
       "      <th>1</th>\n",
       "      <td>176 Thompson Street</td>\n",
       "      <td>Thompson Street</td>\n",
       "    </tr>\n",
       "    <tr>\n",
       "      <th>10</th>\n",
       "      <td>792 Metropolitan Avenue</td>\n",
       "      <td>Metropolitan Avenue</td>\n",
       "    </tr>\n",
       "    <tr>\n",
       "      <th>100</th>\n",
       "      <td>101 East 10th Street</td>\n",
       "      <td>101 East 10th Street</td>\n",
       "    </tr>\n",
       "    <tr>\n",
       "      <th>1000</th>\n",
       "      <td>251  South Third Street\\r</td>\n",
       "      <td>South Third Street\\r</td>\n",
       "    </tr>\n",
       "  </tbody>\n",
       "</table>\n",
       "</div>"
      ],
      "text/plain": [
       "                 street_address        display_address\n",
       "id                                                    \n",
       "0             99 Suffolk Street         Suffolk Street\n",
       "1           176 Thompson Street        Thompson Street\n",
       "10      792 Metropolitan Avenue    Metropolitan Avenue\n",
       "100        101 East 10th Street   101 East 10th Street\n",
       "1000  251  South Third Street\\r   South Third Street\\r"
      ]
     },
     "execution_count": 5,
     "metadata": {},
     "output_type": "execute_result"
    }
   ],
   "source": [
    "dd.head()"
   ]
  },
  {
   "cell_type": "code",
   "execution_count": 6,
   "metadata": {
    "collapsed": false
   },
   "outputs": [
    {
     "data": {
      "text/plain": [
       "False    112897\n",
       "True      11114\n",
       "dtype: int64"
      ]
     },
     "execution_count": 6,
     "metadata": {},
     "output_type": "execute_result"
    }
   ],
   "source": [
    "#dd[dd.street_address == dd.display_address].value_counts()\n",
    "(dd.street_address == dd.display_address).value_counts()"
   ]
  },
  {
   "cell_type": "markdown",
   "metadata": {
    "collapsed": false
   },
   "source": [
    "## Number of words\n",
    "\n",
    "Here I count numbers of abbreviations as words, so it's rather the number of tokens."
   ]
  },
  {
   "cell_type": "code",
   "execution_count": 7,
   "metadata": {
    "collapsed": false
   },
   "outputs": [
    {
     "name": "stderr",
     "output_type": "stream",
     "text": [
      "/Library/Python/2.7/site-packages/pandas/core/indexing.py:288: SettingWithCopyWarning: \n",
      "A value is trying to be set on a copy of a slice from a DataFrame.\n",
      "Try using .loc[row_indexer,col_indexer] = value instead\n",
      "\n",
      "See the caveats in the documentation: http://pandas.pydata.org/pandas-docs/stable/indexing.html#indexing-view-versus-copy\n",
      "  self.obj[key] = _infer_fill_value(value)\n",
      "/Library/Python/2.7/site-packages/pandas/core/indexing.py:465: SettingWithCopyWarning: \n",
      "A value is trying to be set on a copy of a slice from a DataFrame.\n",
      "Try using .loc[row_indexer,col_indexer] = value instead\n",
      "\n",
      "See the caveats in the documentation: http://pandas.pydata.org/pandas-docs/stable/indexing.html#indexing-view-versus-copy\n",
      "  self.obj[item] = s\n"
     ]
    },
    {
     "data": {
      "text/plain": [
       "<matplotlib.axes._subplots.AxesSubplot at 0x1596590d0>"
      ]
     },
     "execution_count": 7,
     "metadata": {},
     "output_type": "execute_result"
    },
    {
     "data": {
      "image/png": "[encoded data removed]",
      "text/plain": [
       "<matplotlib.figure.Figure at 0x10d98df50>"
      ]
     },
     "metadata": {},
     "output_type": "display_data"
    }
   ],
   "source": [
    "# number of words\n",
    "# daddr_num_words\n",
    "def tokens(x):\n",
    "    return len(x.split(' '))\n",
    "d.loc[:, 'saddr_num_words'] = d.street_address.map(lambda x: tokens(x)).astype(float64)\n",
    "d.saddr_num_words.value_counts().sort_index().plot(kind='bar')"
   ]
  },
  {
   "cell_type": "markdown",
   "metadata": {},
   "source": [
    "## Does the address contain any numbers?\n",
    "\n",
    "If the address contains number, then we can assume it's the exact address, not only the street or neighborhood name."
   ]
  },
  {
   "cell_type": "code",
   "execution_count": 8,
   "metadata": {
    "collapsed": false
   },
   "outputs": [
    {
     "data": {
      "text/html": [
       "<div>\n",
       "<table border=\"1\" class=\"dataframe\">\n",
       "  <thead>\n",
       "    <tr style=\"text-align: right;\">\n",
       "      <th></th>\n",
       "      <th>street_address</th>\n",
       "      <th>saddr_num_words</th>\n",
       "      <th>saddr_has_number</th>\n",
       "    </tr>\n",
       "    <tr>\n",
       "      <th>id</th>\n",
       "      <th></th>\n",
       "      <th></th>\n",
       "      <th></th>\n",
       "    </tr>\n",
       "  </thead>\n",
       "  <tbody>\n",
       "    <tr>\n",
       "      <th>0</th>\n",
       "      <td>99 Suffolk Street</td>\n",
       "      <td>3.0</td>\n",
       "      <td>1</td>\n",
       "    </tr>\n",
       "    <tr>\n",
       "      <th>1</th>\n",
       "      <td>176 Thompson Street</td>\n",
       "      <td>3.0</td>\n",
       "      <td>1</td>\n",
       "    </tr>\n",
       "    <tr>\n",
       "      <th>10</th>\n",
       "      <td>792 Metropolitan Avenue</td>\n",
       "      <td>3.0</td>\n",
       "      <td>1</td>\n",
       "    </tr>\n",
       "    <tr>\n",
       "      <th>100</th>\n",
       "      <td>101 East 10th Street</td>\n",
       "      <td>4.0</td>\n",
       "      <td>1</td>\n",
       "    </tr>\n",
       "    <tr>\n",
       "      <th>1000</th>\n",
       "      <td>251  South Third Street\\r</td>\n",
       "      <td>5.0</td>\n",
       "      <td>1</td>\n",
       "    </tr>\n",
       "  </tbody>\n",
       "</table>\n",
       "</div>"
      ],
      "text/plain": [
       "                 street_address  saddr_num_words  saddr_has_number\n",
       "id                                                                \n",
       "0             99 Suffolk Street              3.0                 1\n",
       "1           176 Thompson Street              3.0                 1\n",
       "10      792 Metropolitan Avenue              3.0                 1\n",
       "100        101 East 10th Street              4.0                 1\n",
       "1000  251  South Third Street\\r              5.0                 1"
      ]
     },
     "execution_count": 8,
     "metadata": {},
     "output_type": "execute_result"
    }
   ],
   "source": [
    "def represents_int(s):\n",
    "    try: \n",
    "        int(s)\n",
    "        return True\n",
    "    except ValueError:\n",
    "        return False\n",
    "\n",
    "def has_number(x):\n",
    "    return int(any([represents_int(w.strip()) for w in x.split(' ')]))\n",
    "    \n",
    "d.loc[:, 'saddr_has_number'] = d.street_address.map(lambda x: has_number(x))\n",
    "d.head()"
   ]
  },
  {
   "cell_type": "code",
   "execution_count": 9,
   "metadata": {
    "collapsed": false
   },
   "outputs": [
    {
     "data": {
      "text/plain": [
       "<matplotlib.axes._subplots.AxesSubplot at 0x15d32e450>"
      ]
     },
     "execution_count": 9,
     "metadata": {},
     "output_type": "execute_result"
    },
    {
     "data": {
      "image/png": "[encoded data removed]",
      "text/plain": [
       "<matplotlib.figure.Figure at 0x10920bb90>"
      ]
     },
     "metadata": {},
     "output_type": "display_data"
    }
   ],
   "source": [
    "d.saddr_has_number.value_counts().plot(kind='barh', figsize=(8,3))"
   ]
  },
  {
   "cell_type": "markdown",
   "metadata": {},
   "source": [
    "## Does the address contain any ordinal numbers?\n"
   ]
  },
  {
   "cell_type": "code",
   "execution_count": 10,
   "metadata": {
    "collapsed": false
   },
   "outputs": [
    {
     "data": {
      "text/html": [
       "<div>\n",
       "<table border=\"1\" class=\"dataframe\">\n",
       "  <thead>\n",
       "    <tr style=\"text-align: right;\">\n",
       "      <th></th>\n",
       "      <th>street_address</th>\n",
       "      <th>saddr_num_words</th>\n",
       "      <th>saddr_has_number</th>\n",
       "      <th>saddr_has_ordinal</th>\n",
       "    </tr>\n",
       "    <tr>\n",
       "      <th>id</th>\n",
       "      <th></th>\n",
       "      <th></th>\n",
       "      <th></th>\n",
       "      <th></th>\n",
       "    </tr>\n",
       "  </thead>\n",
       "  <tbody>\n",
       "    <tr>\n",
       "      <th>0</th>\n",
       "      <td>99 Suffolk Street</td>\n",
       "      <td>3.0</td>\n",
       "      <td>1</td>\n",
       "      <td>0</td>\n",
       "    </tr>\n",
       "    <tr>\n",
       "      <th>1</th>\n",
       "      <td>176 Thompson Street</td>\n",
       "      <td>3.0</td>\n",
       "      <td>1</td>\n",
       "      <td>0</td>\n",
       "    </tr>\n",
       "    <tr>\n",
       "      <th>10</th>\n",
       "      <td>792 Metropolitan Avenue</td>\n",
       "      <td>3.0</td>\n",
       "      <td>1</td>\n",
       "      <td>0</td>\n",
       "    </tr>\n",
       "    <tr>\n",
       "      <th>100</th>\n",
       "      <td>101 East 10th Street</td>\n",
       "      <td>4.0</td>\n",
       "      <td>1</td>\n",
       "      <td>1</td>\n",
       "    </tr>\n",
       "    <tr>\n",
       "      <th>1000</th>\n",
       "      <td>251  South Third Street\\r</td>\n",
       "      <td>5.0</td>\n",
       "      <td>1</td>\n",
       "      <td>0</td>\n",
       "    </tr>\n",
       "  </tbody>\n",
       "</table>\n",
       "</div>"
      ],
      "text/plain": [
       "                 street_address  saddr_num_words  saddr_has_number  \\\n",
       "id                                                                   \n",
       "0             99 Suffolk Street              3.0                 1   \n",
       "1           176 Thompson Street              3.0                 1   \n",
       "10      792 Metropolitan Avenue              3.0                 1   \n",
       "100        101 East 10th Street              4.0                 1   \n",
       "1000  251  South Third Street\\r              5.0                 1   \n",
       "\n",
       "      saddr_has_ordinal  \n",
       "id                       \n",
       "0                     0  \n",
       "1                     0  \n",
       "10                    0  \n",
       "100                   1  \n",
       "1000                  0  "
      ]
     },
     "execution_count": 10,
     "metadata": {},
     "output_type": "execute_result"
    }
   ],
   "source": [
    "import re\n",
    "p = re.compile('[0-9]+[a-z]+')\n",
    "\n",
    "def is_ordinal(w):    \n",
    "    return p.match(w) != None\n",
    "\n",
    "def has_ordinal_number(x):\n",
    "    return int(any([is_ordinal(w.strip().lower()) for w in x.split(' ')]))\n",
    "    \n",
    "d.loc[:, 'saddr_has_ordinal'] = d.street_address.map(lambda x: has_ordinal_number(x))\n",
    "d.head()"
   ]
  },
  {
   "cell_type": "markdown",
   "metadata": {},
   "source": [
    "## Number of uppercase words\n",
    "\n",
    "Note that there are a lot of addresses that contain a single-letter \"word\" which is uppercase, usually referring to East, West, etc\n",
    "For example: E 78th St., W 68 Street.\n",
    "I've excluded these single letter words because I think it's ok to treat them as normal."
   ]
  },
  {
   "cell_type": "code",
   "execution_count": 11,
   "metadata": {
    "collapsed": false
   },
   "outputs": [
    {
     "data": {
      "text/html": [
       "<div>\n",
       "<table border=\"1\" class=\"dataframe\">\n",
       "  <thead>\n",
       "    <tr style=\"text-align: right;\">\n",
       "      <th></th>\n",
       "      <th>street_address</th>\n",
       "      <th>saddr_num_words</th>\n",
       "      <th>saddr_has_number</th>\n",
       "      <th>saddr_has_ordinal</th>\n",
       "      <th>saddr_num_upper_words</th>\n",
       "    </tr>\n",
       "    <tr>\n",
       "      <th>id</th>\n",
       "      <th></th>\n",
       "      <th></th>\n",
       "      <th></th>\n",
       "      <th></th>\n",
       "      <th></th>\n",
       "    </tr>\n",
       "  </thead>\n",
       "  <tbody>\n",
       "    <tr>\n",
       "      <th>0</th>\n",
       "      <td>99 Suffolk Street</td>\n",
       "      <td>3.0</td>\n",
       "      <td>1</td>\n",
       "      <td>0</td>\n",
       "      <td>0.0</td>\n",
       "    </tr>\n",
       "    <tr>\n",
       "      <th>1</th>\n",
       "      <td>176 Thompson Street</td>\n",
       "      <td>3.0</td>\n",
       "      <td>1</td>\n",
       "      <td>0</td>\n",
       "      <td>0.0</td>\n",
       "    </tr>\n",
       "    <tr>\n",
       "      <th>10</th>\n",
       "      <td>792 Metropolitan Avenue</td>\n",
       "      <td>3.0</td>\n",
       "      <td>1</td>\n",
       "      <td>0</td>\n",
       "      <td>0.0</td>\n",
       "    </tr>\n",
       "    <tr>\n",
       "      <th>100</th>\n",
       "      <td>101 East 10th Street</td>\n",
       "      <td>4.0</td>\n",
       "      <td>1</td>\n",
       "      <td>1</td>\n",
       "      <td>0.0</td>\n",
       "    </tr>\n",
       "    <tr>\n",
       "      <th>1000</th>\n",
       "      <td>251  South Third Street\\r</td>\n",
       "      <td>5.0</td>\n",
       "      <td>1</td>\n",
       "      <td>0</td>\n",
       "      <td>0.0</td>\n",
       "    </tr>\n",
       "  </tbody>\n",
       "</table>\n",
       "</div>"
      ],
      "text/plain": [
       "                 street_address  saddr_num_words  saddr_has_number  \\\n",
       "id                                                                   \n",
       "0             99 Suffolk Street              3.0                 1   \n",
       "1           176 Thompson Street              3.0                 1   \n",
       "10      792 Metropolitan Avenue              3.0                 1   \n",
       "100        101 East 10th Street              4.0                 1   \n",
       "1000  251  South Third Street\\r              5.0                 1   \n",
       "\n",
       "      saddr_has_ordinal  saddr_num_upper_words  \n",
       "id                                              \n",
       "0                     0                    0.0  \n",
       "1                     0                    0.0  \n",
       "10                    0                    0.0  \n",
       "100                   1                    0.0  \n",
       "1000                  0                    0.0  "
      ]
     },
     "execution_count": 11,
     "metadata": {},
     "output_type": "execute_result"
    }
   ],
   "source": [
    "import re\n",
    "uppercase_pattern = re.compile('^[A-Z]+$')\n",
    "\n",
    "\n",
    "def is_uppercase(w):    \n",
    "    return uppercase_pattern.match(w) != None\n",
    "\n",
    "def uppercase_word_count(x):\n",
    "    return len([w for w in x.split(' ') if is_uppercase(w.strip()) and len(w) > 1])\n",
    "    \n",
    "d.loc[:, 'saddr_num_upper_words'] = d.street_address.map(lambda x: uppercase_word_count(x)).astype(float64)\n",
    "d.head()"
   ]
  },
  {
   "cell_type": "code",
   "execution_count": 12,
   "metadata": {
    "collapsed": false
   },
   "outputs": [
    {
     "data": {
      "text/html": [
       "<div>\n",
       "<table border=\"1\" class=\"dataframe\">\n",
       "  <thead>\n",
       "    <tr style=\"text-align: right;\">\n",
       "      <th></th>\n",
       "      <th>street_address</th>\n",
       "      <th>saddr_num_words</th>\n",
       "      <th>saddr_has_number</th>\n",
       "      <th>saddr_has_ordinal</th>\n",
       "      <th>saddr_num_upper_words</th>\n",
       "    </tr>\n",
       "    <tr>\n",
       "      <th>id</th>\n",
       "      <th></th>\n",
       "      <th></th>\n",
       "      <th></th>\n",
       "      <th></th>\n",
       "      <th></th>\n",
       "    </tr>\n",
       "  </thead>\n",
       "  <tbody>\n",
       "    <tr>\n",
       "      <th>100600</th>\n",
       "      <td>UWS! NO FEE NO FEE****as</td>\n",
       "      <td>6.0</td>\n",
       "      <td>0</td>\n",
       "      <td>0</td>\n",
       "      <td>3.0</td>\n",
       "    </tr>\n",
       "    <tr>\n",
       "      <th>105725</th>\n",
       "      <td>MURRAY HILL NO FEES SPECTACULAR</td>\n",
       "      <td>5.0</td>\n",
       "      <td>0</td>\n",
       "      <td>0</td>\n",
       "      <td>5.0</td>\n",
       "    </tr>\n",
       "    <tr>\n",
       "      <th>10720</th>\n",
       "      <td>930 ST NICHOLAS AVE</td>\n",
       "      <td>4.0</td>\n",
       "      <td>1</td>\n",
       "      <td>0</td>\n",
       "      <td>3.0</td>\n",
       "    </tr>\n",
       "    <tr>\n",
       "      <th>107529</th>\n",
       "      <td>128 ST MARKS PL</td>\n",
       "      <td>4.0</td>\n",
       "      <td>1</td>\n",
       "      <td>0</td>\n",
       "      <td>3.0</td>\n",
       "    </tr>\n",
       "    <tr>\n",
       "      <th>109702</th>\n",
       "      <td>Hamilton Heights NO BROKER'S FEES SPECTACULAR</td>\n",
       "      <td>6.0</td>\n",
       "      <td>0</td>\n",
       "      <td>0</td>\n",
       "      <td>3.0</td>\n",
       "    </tr>\n",
       "  </tbody>\n",
       "</table>\n",
       "</div>"
      ],
      "text/plain": [
       "                                       street_address  saddr_num_words  \\\n",
       "id                                                                       \n",
       "100600                      UWS! NO FEE NO FEE****as               6.0   \n",
       "105725                MURRAY HILL NO FEES SPECTACULAR              5.0   \n",
       "10720                             930 ST NICHOLAS AVE              4.0   \n",
       "107529                                128 ST MARKS PL              4.0   \n",
       "109702  Hamilton Heights NO BROKER'S FEES SPECTACULAR              6.0   \n",
       "\n",
       "        saddr_has_number  saddr_has_ordinal  saddr_num_upper_words  \n",
       "id                                                                  \n",
       "100600                 0                  0                    3.0  \n",
       "105725                 0                  0                    5.0  \n",
       "10720                  1                  0                    3.0  \n",
       "107529                 1                  0                    3.0  \n",
       "109702                 0                  0                    3.0  "
      ]
     },
     "execution_count": 12,
     "metadata": {},
     "output_type": "execute_result"
    }
   ],
   "source": [
    "d[d.saddr_num_upper_words >2].head()"
   ]
  },
  {
   "cell_type": "code",
   "execution_count": 13,
   "metadata": {
    "collapsed": false
   },
   "outputs": [
    {
     "data": {
      "text/plain": [
       "0.0    122583\n",
       "1.0       835\n",
       "2.0       530\n",
       "3.0        42\n",
       "4.0        18\n",
       "5.0         3\n",
       "Name: saddr_num_upper_words, dtype: int64"
      ]
     },
     "execution_count": 13,
     "metadata": {},
     "output_type": "execute_result"
    }
   ],
   "source": [
    "d.saddr_num_upper_words.value_counts()"
   ]
  },
  {
   "cell_type": "markdown",
   "metadata": {},
   "source": [
    "### Is street address the same as display address?"
   ]
  },
  {
   "cell_type": "code",
   "execution_count": 14,
   "metadata": {
    "collapsed": false
   },
   "outputs": [
    {
     "data": {
      "text/html": [
       "<div>\n",
       "<table border=\"1\" class=\"dataframe\">\n",
       "  <thead>\n",
       "    <tr style=\"text-align: right;\">\n",
       "      <th></th>\n",
       "      <th>street_address</th>\n",
       "      <th>saddr_num_words</th>\n",
       "      <th>saddr_has_number</th>\n",
       "      <th>saddr_has_ordinal</th>\n",
       "      <th>saddr_num_upper_words</th>\n",
       "      <th>daddr_saddr_same</th>\n",
       "    </tr>\n",
       "    <tr>\n",
       "      <th>id</th>\n",
       "      <th></th>\n",
       "      <th></th>\n",
       "      <th></th>\n",
       "      <th></th>\n",
       "      <th></th>\n",
       "      <th></th>\n",
       "    </tr>\n",
       "  </thead>\n",
       "  <tbody>\n",
       "    <tr>\n",
       "      <th>0</th>\n",
       "      <td>99 Suffolk Street</td>\n",
       "      <td>3.0</td>\n",
       "      <td>1</td>\n",
       "      <td>0</td>\n",
       "      <td>0.0</td>\n",
       "      <td>0</td>\n",
       "    </tr>\n",
       "    <tr>\n",
       "      <th>1</th>\n",
       "      <td>176 Thompson Street</td>\n",
       "      <td>3.0</td>\n",
       "      <td>1</td>\n",
       "      <td>0</td>\n",
       "      <td>0.0</td>\n",
       "      <td>0</td>\n",
       "    </tr>\n",
       "    <tr>\n",
       "      <th>10</th>\n",
       "      <td>792 Metropolitan Avenue</td>\n",
       "      <td>3.0</td>\n",
       "      <td>1</td>\n",
       "      <td>0</td>\n",
       "      <td>0.0</td>\n",
       "      <td>0</td>\n",
       "    </tr>\n",
       "    <tr>\n",
       "      <th>100</th>\n",
       "      <td>101 East 10th Street</td>\n",
       "      <td>4.0</td>\n",
       "      <td>1</td>\n",
       "      <td>1</td>\n",
       "      <td>0.0</td>\n",
       "      <td>1</td>\n",
       "    </tr>\n",
       "    <tr>\n",
       "      <th>1000</th>\n",
       "      <td>251  South Third Street\\r</td>\n",
       "      <td>5.0</td>\n",
       "      <td>1</td>\n",
       "      <td>0</td>\n",
       "      <td>0.0</td>\n",
       "      <td>0</td>\n",
       "    </tr>\n",
       "  </tbody>\n",
       "</table>\n",
       "</div>"
      ],
      "text/plain": [
       "                 street_address  saddr_num_words  saddr_has_number  \\\n",
       "id                                                                   \n",
       "0             99 Suffolk Street              3.0                 1   \n",
       "1           176 Thompson Street              3.0                 1   \n",
       "10      792 Metropolitan Avenue              3.0                 1   \n",
       "100        101 East 10th Street              4.0                 1   \n",
       "1000  251  South Third Street\\r              5.0                 1   \n",
       "\n",
       "      saddr_has_ordinal  saddr_num_upper_words  daddr_saddr_same  \n",
       "id                                                                \n",
       "0                     0                    0.0                 0  \n",
       "1                     0                    0.0                 0  \n",
       "10                    0                    0.0                 0  \n",
       "100                   1                    0.0                 1  \n",
       "1000                  0                    0.0                 0  "
      ]
     },
     "execution_count": 14,
     "metadata": {},
     "output_type": "execute_result"
    }
   ],
   "source": [
    "d.loc[:, 'daddr_saddr_same'] = (dd.street_address == dd.display_address).map(int)\n",
    "d.head()"
   ]
  },
  {
   "cell_type": "markdown",
   "metadata": {},
   "source": [
    "# Num Apts with the Same Street Address"
   ]
  },
  {
   "cell_type": "code",
   "execution_count": 15,
   "metadata": {
    "collapsed": false
   },
   "outputs": [
    {
     "name": "stderr",
     "output_type": "stream",
     "text": [
      "/usr/local/lib/python2.7/site-packages/ipykernel/__main__.py:6: SettingWithCopyWarning: \n",
      "A value is trying to be set on a copy of a slice from a DataFrame.\n",
      "Try using .loc[row_indexer,col_indexer] = value instead\n",
      "\n",
      "See the caveats in the documentation: http://pandas.pydata.org/pandas-docs/stable/indexing.html#indexing-view-versus-copy\n"
     ]
    },
    {
     "data": {
      "text/plain": [
       "id\n",
       "0             99 suffolk street\n",
       "1           176 thompson street\n",
       "10      792 metropolitan avenue\n",
       "100        101 east 10th street\n",
       "1000     251 south third street\n",
       "Name: clean_sa, dtype: object"
      ]
     },
     "execution_count": 15,
     "metadata": {},
     "output_type": "execute_result"
    }
   ],
   "source": [
    "def clean_sa_str(s):\n",
    "    s = re.sub('\\W', ' ', s)\n",
    "    s = re.sub('\\s+', ' ', s)\n",
    "    s = s.strip()\n",
    "    return s.lower()\n",
    "d['clean_sa'] = d.street_address.apply(clean_sa_str)\n",
    "d.clean_sa.head()"
   ]
  },
  {
   "cell_type": "code",
   "execution_count": 16,
   "metadata": {
    "collapsed": false
   },
   "outputs": [
    {
     "name": "stderr",
     "output_type": "stream",
     "text": [
      "/usr/local/lib/python2.7/site-packages/ipykernel/__main__.py:2: SettingWithCopyWarning: \n",
      "A value is trying to be set on a copy of a slice from a DataFrame.\n",
      "Try using .loc[row_indexer,col_indexer] = value instead\n",
      "\n",
      "See the caveats in the documentation: http://pandas.pydata.org/pandas-docs/stable/indexing.html#indexing-view-versus-copy\n",
      "  from ipykernel import kernelapp as app\n"
     ]
    }
   ],
   "source": [
    "cnt = Counter(d.clean_sa.tolist())\n",
    "d['num_apts_with_same_saddr'] = d.clean_sa.map(cnt).astype(float64)"
   ]
  },
  {
   "cell_type": "markdown",
   "metadata": {},
   "source": [
    "# Word Counts"
   ]
  },
  {
   "cell_type": "code",
   "execution_count": 17,
   "metadata": {
    "collapsed": false
   },
   "outputs": [
    {
     "name": "stderr",
     "output_type": "stream",
     "text": [
      "/usr/local/lib/python2.7/site-packages/ipykernel/__main__.py:8: SettingWithCopyWarning: \n",
      "A value is trying to be set on a copy of a slice from a DataFrame.\n",
      "Try using .loc[row_indexer,col_indexer] = value instead\n",
      "\n",
      "See the caveats in the documentation: http://pandas.pydata.org/pandas-docs/stable/indexing.html#indexing-view-versus-copy\n"
     ]
    }
   ],
   "source": [
    "NUM_COUNT_FEATURES = 20\n",
    "cv = CountVectorizer(stop_words=None, max_features=NUM_COUNT_FEATURES)\n",
    "cv.fit(d.clean_sa)\n",
    "voc = {v: k for k, v in cv.vocabulary_.iteritems()}\n",
    "dc = pd.DataFrame(cv.transform(d.clean_sa).todense())\n",
    "dc.columns = [('saddr_count_' + voc[i]) for i in range(NUM_COUNT_FEATURES)]\n",
    "for c in dc.columns:\n",
    "    d[c] = dc[c]"
   ]
  },
  {
   "cell_type": "markdown",
   "metadata": {},
   "source": [
    "# Save the Data"
   ]
  },
  {
   "cell_type": "code",
   "execution_count": 18,
   "metadata": {
    "collapsed": true
   },
   "outputs": [],
   "source": [
    "del d['street_address']\n",
    "del d['clean_sa']"
   ]
  },
  {
   "cell_type": "code",
   "execution_count": 19,
   "metadata": {
    "collapsed": false
   },
   "outputs": [],
   "source": [
    "d.to_csv('tmp/features_street_address.csv', encoding='utf-8’')"
   ]
  }
 ],
 "metadata": {
  "kernelspec": {
   "display_name": "Python 2",
   "language": "python",
   "name": "python2"
  },
  "language_info": {
   "codemirror_mode": {
    "name": "ipython",
    "version": 2
   },
   "file_extension": ".py",
   "mimetype": "text/x-python",
   "name": "python",
   "nbconvert_exporter": "python",
   "pygments_lexer": "ipython2",
   "version": "2.7.11"
  }
 },
 "nbformat": 4,
 "nbformat_minor": 1
}
